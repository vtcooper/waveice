{
 "cells": [
  {
   "cell_type": "code",
   "execution_count": 1,
   "id": "2d339807-268a-4e6d-9ac5-26abd4634d3e",
   "metadata": {},
   "outputs": [],
   "source": [
    "import requests"
   ]
  },
  {
   "cell_type": "code",
   "execution_count": 2,
   "id": "9b12b294-9bac-4549-bf08-7e1cbd97ed33",
   "metadata": {},
   "outputs": [
    {
     "data": {
      "text/plain": [
       "401"
      ]
     },
     "execution_count": 2,
     "metadata": {},
     "output_type": "execute_result"
    }
   ],
   "source": [
    "# r = requests.get(\"https://zenodo.org/api/deposit/depositions\")\n",
    "r = requests.get(\"https://zenodo.org/api/deposit/depositions\")\n",
    "r.status_code"
   ]
  },
  {
   "cell_type": "code",
   "execution_count": 10,
   "id": "fab9446a-17a7-4aff-9d5a-71950834865b",
   "metadata": {},
   "outputs": [],
   "source": [
    "### create new\n",
    "\n",
    "ACCESS_TOKEN = '8q8rHqPKMECDUIKHxdHg9b4vzleBy2Fx7QgWyNWEwIYapGcySDo4Y7oVB27h'\n",
    "params = {'access_token': ACCESS_TOKEN}\n",
    "r = requests.post('https://sandbox.zenodo.org/api/deposit/depositions',\n",
    "                   params=params,\n",
    "                   json={},\n",
    "                   # Headers are not necessary here since \"requests\" automatically\n",
    "                   # adds \"Content-Type: application/json\", because we're using\n",
    "                   # the \"json=\" keyword argument\n",
    "                   # headers=headers,\n",
    "                   # headers=headers)\n",
    "                 )"
   ]
  },
  {
   "cell_type": "code",
   "execution_count": 3,
   "id": "4b6e665d-b2b3-4b62-86b3-119ab9451dd9",
   "metadata": {},
   "outputs": [],
   "source": [
    "### get existing\n",
    "ACCESS_TOKEN = '8q8rHqPKMECDUIKHxdHg9b4vzleBy2Fx7QgWyNWEwIYapGcySDo4Y7oVB27h'\n",
    "params = {'access_token': ACCESS_TOKEN}\n",
    "r = requests.get('https://sandbox.zenodo.org/api/deposit/depositions/1018674',\n",
    "                   params=params,\n",
    "                   json={},\n",
    "                   # Headers are not necessary here since \"requests\" automatically\n",
    "                   # adds \"Content-Type: application/json\", because we're using\n",
    "                   # the \"json=\" keyword argument\n",
    "                   # headers=headers,\n",
    "                   # headers=headers)\n",
    "                 )"
   ]
  },
  {
   "cell_type": "code",
   "execution_count": 4,
   "id": "ae123bda-2e51-4d17-8a8a-3238e5cf8990",
   "metadata": {},
   "outputs": [
    {
     "data": {
      "text/plain": [
       "200"
      ]
     },
     "execution_count": 4,
     "metadata": {},
     "output_type": "execute_result"
    }
   ],
   "source": [
    "r.status_code"
   ]
  },
  {
   "cell_type": "code",
   "execution_count": 5,
   "id": "b72e812e-b974-4ebc-ba21-4fdc15b07126",
   "metadata": {},
   "outputs": [
    {
     "data": {
      "text/plain": [
       "{'conceptrecid': '1018673',\n",
       " 'created': '2022-02-20T20:43:01.065650+00:00',\n",
       " 'files': [{'checksum': 'f78234dc6f938f5f9a046be999c975b0',\n",
       "   'filename': 'restart.tar',\n",
       "   'filesize': 16719052800,\n",
       "   'id': '80e86db1-47a4-4649-8c26-205919800e1c',\n",
       "   'links': {'download': 'https://sandbox.zenodo.org/api/files/bfaa9b57-7f8e-4689-901e-e47e8f890ac7/restart.tar',\n",
       "    'self': 'https://sandbox.zenodo.org/api/deposit/depositions/1018674/files/80e86db1-47a4-4649-8c26-205919800e1c'}}],\n",
       " 'id': 1018674,\n",
       " 'links': {'bucket': 'https://sandbox.zenodo.org/api/files/bfaa9b57-7f8e-4689-901e-e47e8f890ac7',\n",
       "  'discard': 'https://sandbox.zenodo.org/api/deposit/depositions/1018674/actions/discard',\n",
       "  'edit': 'https://sandbox.zenodo.org/api/deposit/depositions/1018674/actions/edit',\n",
       "  'files': 'https://sandbox.zenodo.org/api/deposit/depositions/1018674/files',\n",
       "  'html': 'https://sandbox.zenodo.org/deposit/1018674',\n",
       "  'latest_draft': 'https://sandbox.zenodo.org/api/deposit/depositions/1018674',\n",
       "  'latest_draft_html': 'https://sandbox.zenodo.org/deposit/1018674',\n",
       "  'newversion': 'https://sandbox.zenodo.org/api/deposit/depositions/1018674/actions/newversion',\n",
       "  'publish': 'https://sandbox.zenodo.org/api/deposit/depositions/1018674/actions/publish',\n",
       "  'registerconceptdoi': 'https://sandbox.zenodo.org/api/deposit/depositions/1018674/actions/registerconceptdoi',\n",
       "  'self': 'https://sandbox.zenodo.org/api/deposit/depositions/1018674'},\n",
       " 'metadata': {'prereserve_doi': {'doi': '10.5072/zenodo.1018674',\n",
       "   'recid': 1018674}},\n",
       " 'modified': '2022-02-20T20:43:01.065659+00:00',\n",
       " 'owner': 115158,\n",
       " 'record_id': 1018674,\n",
       " 'state': 'unsubmitted',\n",
       " 'submitted': False,\n",
       " 'title': ''}"
      ]
     },
     "execution_count": 5,
     "metadata": {},
     "output_type": "execute_result"
    }
   ],
   "source": [
    "r.json()"
   ]
  },
  {
   "cell_type": "code",
   "execution_count": 7,
   "id": "4f8f8b4f-68a0-40e3-be02-c0772d579578",
   "metadata": {},
   "outputs": [],
   "source": [
    "bucket_url = r.json()[\"links\"][\"bucket\"]"
   ]
  },
  {
   "cell_type": "code",
   "execution_count": 8,
   "id": "798be3d4-7e99-40dd-ac98-4dca334b437b",
   "metadata": {},
   "outputs": [],
   "source": [
    "# # filename = \"ic4m1.tar\"\n",
    "# # filename = \"restart.tar\"\n",
    "# filename = 'dummy1.nc'\n",
    "# path = \"/glade/campaign/univ/uwas0070/vcooper/waveice/zenodo_modeloutput/%s\" % filename"
   ]
  },
  {
   "cell_type": "code",
   "execution_count": 9,
   "id": "632e2637-9ae1-4753-94bf-b776f8bbb2ea",
   "metadata": {},
   "outputs": [
    {
     "data": {
      "text/plain": [
       "{'mimetype': 'application/x-netcdf',\n",
       " 'updated': '2022-02-20T22:11:50.469796+00:00',\n",
       " 'links': {'self': 'https://sandbox.zenodo.org/api/files/bfaa9b57-7f8e-4689-901e-e47e8f890ac7/dummy1.nc',\n",
       "  'version': 'https://sandbox.zenodo.org/api/files/bfaa9b57-7f8e-4689-901e-e47e8f890ac7/dummy1.nc?versionId=50ed87a5-6e9f-4565-8062-5cd5e3f85803',\n",
       "  'uploads': 'https://sandbox.zenodo.org/api/files/bfaa9b57-7f8e-4689-901e-e47e8f890ac7/dummy1.nc?uploads'},\n",
       " 'is_head': True,\n",
       " 'created': '2022-02-20T22:11:50.461765+00:00',\n",
       " 'checksum': 'md5:460ab2b78fd19642d013ff9c41ac77b8',\n",
       " 'version_id': '50ed87a5-6e9f-4565-8062-5cd5e3f85803',\n",
       " 'delete_marker': False,\n",
       " 'key': 'dummy1.nc',\n",
       " 'size': 299831808}"
      ]
     },
     "execution_count": 9,
     "metadata": {},
     "output_type": "execute_result"
    }
   ],
   "source": [
    "with open(path, \"rb\") as fp:\n",
    "    r = requests.put(\n",
    "        \"%s/%s\" % (bucket_url, filename),\n",
    "        data=fp,\n",
    "        params=params,\n",
    "    )\n",
    "r.json()"
   ]
  },
  {
   "cell_type": "code",
   "execution_count": 10,
   "id": "297dddc8-5896-4272-b403-98fdebaeab28",
   "metadata": {},
   "outputs": [
    {
     "data": {
      "text/plain": [
       "200"
      ]
     },
     "execution_count": 10,
     "metadata": {},
     "output_type": "execute_result"
    }
   ],
   "source": [
    "r.status_code"
   ]
  },
  {
   "cell_type": "code",
   "execution_count": 26,
   "id": "9361a2f1-eb75-4c26-865f-6be6aba26abd",
   "metadata": {},
   "outputs": [
    {
     "data": {
      "text/plain": [
       "{'mimetype': 'application/x-tar',\n",
       " 'updated': '2022-02-20T20:44:38.502063+00:00',\n",
       " 'links': {'self': 'https://sandbox.zenodo.org/api/files/bfaa9b57-7f8e-4689-901e-e47e8f890ac7/restart.tar',\n",
       "  'version': 'https://sandbox.zenodo.org/api/files/bfaa9b57-7f8e-4689-901e-e47e8f890ac7/restart.tar?versionId=bca17275-e62d-4f60-83bc-58c32a120fc3',\n",
       "  'uploads': 'https://sandbox.zenodo.org/api/files/bfaa9b57-7f8e-4689-901e-e47e8f890ac7/restart.tar?uploads'},\n",
       " 'is_head': True,\n",
       " 'created': '2022-02-20T20:44:38.496120+00:00',\n",
       " 'checksum': 'md5:f78234dc6f938f5f9a046be999c975b0',\n",
       " 'version_id': 'bca17275-e62d-4f60-83bc-58c32a120fc3',\n",
       " 'delete_marker': False,\n",
       " 'key': 'restart.tar',\n",
       " 'size': 16719052800}"
      ]
     },
     "execution_count": 26,
     "metadata": {},
     "output_type": "execute_result"
    }
   ],
   "source": [
    "r.json()"
   ]
  },
  {
   "cell_type": "code",
   "execution_count": null,
   "id": "52046021-8ce9-416e-b357-f6da0cdfd667",
   "metadata": {},
   "outputs": [],
   "source": []
  }
 ],
 "metadata": {
  "kernelspec": {
   "display_name": "Python [conda env:miniconda3-camus]",
   "language": "python",
   "name": "conda-env-miniconda3-camus-py"
  },
  "language_info": {
   "codemirror_mode": {
    "name": "ipython",
    "version": 3
   },
   "file_extension": ".py",
   "mimetype": "text/x-python",
   "name": "python",
   "nbconvert_exporter": "python",
   "pygments_lexer": "ipython3",
   "version": "3.7.3"
  }
 },
 "nbformat": 4,
 "nbformat_minor": 5
}
