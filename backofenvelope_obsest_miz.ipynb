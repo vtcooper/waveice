{
 "cells": [
  {
   "cell_type": "code",
   "execution_count": 1,
   "id": "679c00cb-2c6f-4fbe-9a47-b4165670e3d8",
   "metadata": {},
   "outputs": [],
   "source": [
    "import numpy as np\n",
    "import xarray as xr\n",
    "import matplotlib.pyplot as plt\n",
    "import os\n",
    "import pandas as pd\n",
    "from scipy import stats\n",
    "xr.set_options(keep_attrs=True)\n",
    "import sys\n",
    "sys.path.insert(1, '/glade/u/home/lettier/analysis/analysis_antarctic-asym/analysis/')\n",
    "import asym_funcs as af\n",
    "from haversine import inverse_haversine, Direction\n",
    "from math import pi\n"
   ]
  },
  {
   "cell_type": "markdown",
   "id": "92ec7945-4805-4dfc-9cae-a4261ba45dfe",
   "metadata": {},
   "source": [
    "Compute SIE from HADISST (because it's on a regular grid)"
   ]
  },
  {
   "cell_type": "code",
   "execution_count": 2,
   "id": "7423b5b9-cf31-4da1-a0af-280a664e0378",
   "metadata": {},
   "outputs": [],
   "source": [
    "wdir = '/glade/work/lettier/HADISST/'"
   ]
  },
  {
   "cell_type": "code",
   "execution_count": 3,
   "id": "ecc6e28d-a8c9-4bc5-898d-cb8a1e26f084",
   "metadata": {},
   "outputs": [],
   "source": [
    "ds = xr.open_dataset(wdir+'HadISST_ice_1979-2016.nc').groupby('time.month').mean(dim='time')"
   ]
  },
  {
   "cell_type": "code",
   "execution_count": 4,
   "id": "59382617-842a-4fc9-a0bb-6783907df7b3",
   "metadata": {},
   "outputs": [],
   "source": [
    "garea, _, _ = af.grid_area_regll(ds.latitude,ds.longitude) # compute area of these grid cells\n",
    "garea = xr.DataArray(-garea, dims=['latitude','longitude'],\n",
    "                  coords = {'latitude':ds.latitude, 'longitude':ds.longitude}).to_dataset(name='gridcellarea')\n"
   ]
  },
  {
   "cell_type": "code",
   "execution_count": 5,
   "id": "c0b90139-017b-4010-8b70-d8cc455f4c6f",
   "metadata": {},
   "outputs": [],
   "source": [
    "ints = ds.sic.where(ds.sic>.15)\n",
    "ints = ints/ints"
   ]
  },
  {
   "cell_type": "code",
   "execution_count": 6,
   "id": "717fdd47-baf5-4a23-b07b-47f517a86a08",
   "metadata": {},
   "outputs": [],
   "source": [
    "sie_sh = (ints*garea.gridcellarea).where(garea.latitude<0).sum(dim=('latitude','longitude'))"
   ]
  },
  {
   "cell_type": "code",
   "execution_count": 7,
   "id": "112dbc39-94bd-4e31-9b03-23ce5401d379",
   "metadata": {},
   "outputs": [
    {
     "data": {
      "text/plain": [
       "[<matplotlib.lines.Line2D at 0x2ae307e7b2e0>]"
      ]
     },
     "execution_count": 7,
     "metadata": {},
     "output_type": "execute_result"
    },
    {
     "data": {
      "image/png": "[encoded data removed]",
      "text/plain": [
       "<Figure size 432x288 with 1 Axes>"
      ]
     },
     "metadata": {
      "needs_background": "light"
     },
     "output_type": "display_data"
    }
   ],
   "source": [
    "sie_sh.plot()"
   ]
  },
  {
   "cell_type": "markdown",
   "id": "fd6bb227-e4ed-4497-97db-20d92b561940",
   "metadata": {},
   "source": [
    "Compute zonal mean ice edge - as Eisenman (2010)"
   ]
  },
  {
   "cell_type": "code",
   "execution_count": 8,
   "id": "30c07a05-35d6-4a1c-9759-a038d3742ea3",
   "metadata": {},
   "outputs": [],
   "source": [
    "landmask = xr.open_dataset(wdir+'/landmask.nc').sftlf\n",
    "lats = np.linspace(-89.5,89.5,10*180) # 0.1 degree grid\n",
    "lons = np.linspace(-179.5,179.5,10*360)\n",
    "\n",
    "garea, _, _ = af.grid_area_regll(lats,lons) # compute area of these grid cells\n",
    "ds = xr.DataArray(garea,dims=['latitude','longitude'],coords = {'latitude':lats, 'longitude':lons}).to_dataset(name='gridcellarea')\n",
    "\n",
    "\n",
    "landmaskhighres = landmask.interp(latitude=lats)\n",
    "landmaskhighres = landmaskhighres.interp(longitude=lons)\n",
    "\n",
    "oceanarea = (ds.gridcellarea*(1.-landmaskhighres)).sum(dim='longitude')\n",
    "oareash = oceanarea.where(oceanarea.latitude<0.,drop=True)\n",
    "\n",
    "oareash['latitude'] = -oareash.latitude\n",
    "oshc = oareash.cumsum(dim='latitude')\n",
    "\n",
    "# subtract sea ice extent from ocean area\n",
    "diffsh = (oshc - sie_sh)\n",
    "diffsh = diffsh.where(diffsh>0.)\n",
    "\n",
    "icedge_sh = -(diffsh.latitude.where(diffsh==diffsh.min(dim='latitude')).max(dim='latitude'))\n",
    "\n"
   ]
  },
  {
   "cell_type": "markdown",
   "id": "07ab49f8-2fd0-47f7-82aa-1a956bdbf1d8",
   "metadata": {},
   "source": [
    "- values from Brouwer paper - MIZ width in km\n",
    "- https://tc.copernicus.org/preprints/tc-2021-367/tc-2021-367.pdf\n",
    "- approximate readings from Fig. 19, exponential FIRF"
   ]
  },
  {
   "cell_type": "code",
   "execution_count": 9,
   "id": "39e3d1b7-389f-44c5-99fd-499539ad8511",
   "metadata": {},
   "outputs": [],
   "source": [
    "\n",
    "mydict = {}\n",
    "mydict[2] = 50\n",
    "mydict[5] = 180\n",
    "mydict[9] = 250\n",
    "mydict[12] = 75\n",
    "\n",
    "mylatdict = {}"
   ]
  },
  {
   "cell_type": "markdown",
   "id": "64a4b70b-75fa-4a08-a462-cab5221ef0c9",
   "metadata": {},
   "source": [
    "Compute (zonal mean) latitudes inside ice edge that MIZ extends to (using inverse Haversine)"
   ]
  },
  {
   "cell_type": "code",
   "execution_count": 10,
   "id": "0efeb8fb-1d85-4cfb-ad00-5dcde50744fb",
   "metadata": {},
   "outputs": [
    {
     "name": "stdout",
     "output_type": "stream",
     "text": [
      "2 50\n",
      "2\n",
      "5 180\n",
      "5\n",
      "9 250\n",
      "9\n",
      "12 75\n",
      "12\n"
     ]
    },
    {
     "data": {
      "image/png": "[encoded data removed]",
      "text/plain": [
       "<Figure size 432x288 with 1 Axes>"
      ]
     },
     "metadata": {
      "needs_background": "light"
     },
     "output_type": "display_data"
    }
   ],
   "source": [
    "fig, ax = plt.subplots(1)\n",
    "icedge_sh.plot(ax=ax)\n",
    "\n",
    "mylats = []\n",
    "for mon in mydict:\n",
    "    print(mon,mydict[mon])\n",
    "    pt1 = (icedge_sh.sel(month=mon), 100) # (lat, lon)\n",
    "    miz_lat, _ = inverse_haversine(pt1, mydict[mon], Direction.SOUTH)\n",
    "    ax.scatter(mon,miz_lat)\n",
    "    print(mon)\n",
    "    mylatdict[mon] = miz_lat\n",
    "\n",
    "plt.show()"
   ]
  },
  {
   "cell_type": "markdown",
   "id": "21f736e7-7f44-41cf-952f-539d0a420181",
   "metadata": {},
   "source": [
    "Compute wave affected extent as the area between latitude of sea ice edge and latitude that MIZ width extends to"
   ]
  },
  {
   "cell_type": "code",
   "execution_count": 11,
   "id": "24065a93-11c9-4cff-b6e8-84b546b64ab3",
   "metadata": {},
   "outputs": [
    {
     "name": "stdout",
     "output_type": "stream",
     "text": [
      "2, 0.64 million km^2\n",
      "5, 3.00 million km^2\n",
      "9, 4.71 million km^2\n",
      "12, 1.18 million km^2\n"
     ]
    }
   ],
   "source": [
    "for mon in mydict:\n",
    "    wave_affect_ext = ds.gridcellarea.where(ds.latitude>mylatdict[mon]).where(ds.latitude<icedge_sh.sel(month=mon)).sum(dim=('latitude','longitude'))/1e6\n",
    "    \n",
    "    print(str(mon)+', {:.2f} million km^2'.format(wave_affect_ext.values))"
   ]
  },
  {
   "cell_type": "code",
   "execution_count": null,
   "id": "18303a2d-19b4-47c5-b6cb-20037906bc10",
   "metadata": {},
   "outputs": [],
   "source": []
  },
  {
   "cell_type": "code",
   "execution_count": null,
   "id": "2884b39b-a794-4cf1-94cf-da21db920088",
   "metadata": {},
   "outputs": [],
   "source": []
  }
 ],
 "metadata": {
  "kernelspec": {
   "display_name": "Python [conda env:anaconda3-myenv]",
   "language": "python",
   "name": "conda-env-anaconda3-myenv-py"
  },
  "language_info": {
   "codemirror_mode": {
    "name": "ipython",
    "version": 3
   },
   "file_extension": ".py",
   "mimetype": "text/x-python",
   "name": "python",
   "nbconvert_exporter": "python",
   "pygments_lexer": "ipython3",
   "version": "3.8.5"
  }
 },
 "nbformat": 4,
 "nbformat_minor": 5
}
