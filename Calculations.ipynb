{
 "cells": [
  {
   "cell_type": "code",
   "execution_count": 1,
   "metadata": {},
   "outputs": [
    {
     "name": "stderr",
     "output_type": "stream",
     "text": [
      "/glade/u/home/vcooper/miniconda3/envs/camus/lib/python3.7/site-packages/xarray/conventions.py:498: SerializationWarning: variable 'sithick' has multiple fill values {1e+20, 1e+20}, decoding all values to NaN.\n",
      "  decode_timedelta=decode_timedelta,\n"
     ]
    }
   ],
   "source": [
    "import numpy as np\n",
    "import matplotlib as mpl\n",
    "import os\n",
    "import matplotlib.pyplot as plt\n",
    "from matplotlib.colors import DivergingNorm\n",
    "import pandas as pd\n",
    "import xarray as xr\n",
    "from scipy import signal\n",
    "import cftime\n",
    "import datetime\n",
    "%matplotlib inline\n",
    "import cartopy.crs as ccrs\n",
    "import cartopy.feature as cfeature\n",
    "import statsmodels.api as sm\n",
    "import seaborn as sns; sns.set(color_codes=True)\n",
    "\n",
    "from sklearn.metrics.pairwise import haversine_distances\n",
    "\n",
    "grid = xr.open_dataset(\n",
    "    '/glade/work/vcooper/grid_ref/sithick_SImon_CESM2_piControl_r1i1p1f1_gn_110001-120012.nc')"
   ]
  },
  {
   "cell_type": "code",
   "execution_count": 2,
   "metadata": {},
   "outputs": [],
   "source": [
    "# Get observations from NSIDC bootstrap, regridded to match CICE grid\n",
    "path = '/glade/work/vcooper/BGEP_vtc/regrid_sat/' ## location of regridded file\n",
    "# ice_file = 'seaice_conc_daily_nh_1979-2018_cicegrid.nc' # name of regridded file\n",
    "ice_file = 'seaice_conc_daily_nh_1979-2019_cicegrid.nc' # name of regridded file\n",
    "ice_file_originalgrid = 'seaice_conc_daily_nh_1979-2019.nc' # name of original file\n",
    "boot = (xr.open_dataset(path+ice_file)).rename_vars(seaice_conc_cdr='aice_d')\n",
    "boot_native = (xr.open_dataset(path+ice_file_originalgrid)).rename_vars(seaice_conc_cdr='aice_d')\n",
    "\n",
    "dist_sat12 = xr.open_dataarray('/glade/work/vcooper/BGEP_vtc/sat_iceedgedistance_2012.nc') # output from dist formula\n",
    "dist_sat12_bt = xr.open_dataarray('/glade/work/vcooper/BGEP_vtc/sat_iceedgedistance_bt_2012.nc') \n",
    "dist_sat12_nt = xr.open_dataarray('/glade/work/vcooper/BGEP_vtc/sat_iceedgedistance_nt_2012.nc')\n",
    "\n",
    "dist_sat15 = xr.open_dataarray('/glade/work/vcooper/BGEP_vtc/sat_iceedgedistance_2015.nc') # output from dist formula\n",
    "dist_sat15_bt = xr.open_dataarray('/glade/work/vcooper/BGEP_vtc/sat_iceedgedistance_bt_2015.nc') \n",
    "dist_sat15_nt = xr.open_dataarray('/glade/work/vcooper/BGEP_vtc/sat_iceedgedistance_nt_2015.nc')\n",
    "\n",
    "dist_sat17 = xr.open_dataarray('/glade/work/vcooper/BGEP_vtc/sat_iceedgedistance_2017.nc') # output from dist formula\n",
    "dist_sat17_bt = xr.open_dataarray('/glade/work/vcooper/BGEP_vtc/sat_iceedgedistance_bt_2017.nc') \n",
    "dist_sat17_nt = xr.open_dataarray('/glade/work/vcooper/BGEP_vtc/sat_iceedgedistance_nt_2017.nc')\n",
    "\n",
    "dist_sat18 = xr.open_dataarray('/glade/work/vcooper/BGEP_vtc/sat_iceedgedistance_2018.nc') # output from dist formula\n",
    "dist_sat18_bt = xr.open_dataarray('/glade/work/vcooper/BGEP_vtc/sat_iceedgedistance_bt_2018.nc') \n",
    "dist_sat18_nt = xr.open_dataarray('/glade/work/vcooper/BGEP_vtc/sat_iceedgedistance_nt_2018.nc')\n",
    "\n",
    "\n",
    "# Read in mooring data for 4 time periods from 3 files\n",
    "bdir = '/glade/work/lettier/BGEP/'\n",
    "files = ['BGEP-A_AWAC_2012-2013_converted.nc',\n",
    "         'BGEP-D_AWAC_2014-2015_converted.nc',\n",
    "         'BGEP-A_AWAC_2017-2018_converted.nc',]        \n",
    "bounds = [['2012-08','2012-11'],\n",
    "          ['2015-08','2015-10'],\n",
    "          ['2017-10','2017-12'],\n",
    "          ['2018-07','2018-10']]\n",
    "\n",
    "bds12 = xr.open_dataset(bdir+files[0]).sel(time=slice(bounds[0][0],bounds[0][1]))\n",
    "bds15 = xr.open_dataset(bdir+files[1]).sel(time=slice(bounds[1][0],bounds[1][1]))\n",
    "bds17 = xr.open_dataset(bdir+files[2]).sel(time=slice(bounds[2][0],bounds[2][1]))\n",
    "bds18 = xr.open_dataset(bdir+files[2]).sel(time=slice(bounds[3][0],bounds[3][1]))\n",
    "\n",
    "# pre 2018 model data\n",
    "mdir = '/glade/work/lettier/CICE/cicefsdww3i_output_concat/' ## location of file before changing dim names\n",
    "mdir_adj = '/glade/u/home/vcooper/work/BGEP_vtc/adjfiles/' # location of adjusted files, changed dims to lat and lon\n",
    "ice_file = 'cicefsdww3i.cice.h.concat.0068-0084.nc' # monthly ice output\n",
    "wave_file = 'cicefsdww3i.ww3.sigheight.2000-2016.nc' # daily wave output\n",
    "mwds = xr.open_dataset(mdir_adj+wave_file)\n",
    "mwds = mwds.set_coords(['longitude','latitude'])\n",
    "\n",
    "# 2018 model output\n",
    "ww_00_16 = xr.open_dataset(\n",
    "    '/glade/work/vcooper/BGEP_vtc/cicefsdww3i.ww3.sigheight.2000-2016.nc').set_coords(['longitude','latitude']) # 6 hourly wave output\n",
    "ww18 = xr.open_dataset('/glade/work/vcooper/BGEP_vtc/ww3.2018_sigheight.nc').set_coords(['longitude','latitude']) # rerun\n",
    "ww0019 = xr.open_dataset('/glade/work/vcooper/BGEP_vtc/cicefsdww3i.ww3.sigheight.2000-2019.nc').set_coords(['longitude','latitude']) # 6h\n",
    "\n",
    "# cice18 = xr.open_dataset('/glade/work/vcooper/BGEP_vtc/cicefsdww3i.cice.h1.2018.nc') # 2018 bad output\n",
    "cice18 = xr.open_dataset('/glade/work/lettier/CICE/cicefsdww3i_rerun/cicefsdww3i.cice.h1.0086.nc') # 2018 rerun\n",
    "cice18.TLAT[:] = grid.lat # hack to fix polar stereo\n",
    "cice18.TLON[:] = grid.lon\n",
    "start = pd.Timestamp(ww18.time.values[0])\n",
    "end = pd.Timestamp(ww18.time.values[-1])\n",
    "t = np.linspace(start.value, end.value, len(cice18.time))\n",
    "t = (pd.to_datetime(t)).round('D')\n",
    "cice18 = cice18.assign_coords(time=t) # adjust time to be year 2018\n",
    "dist_cice18_6h = xr.open_dataarray('/glade/work/vcooper/BGEP_vtc/cice_iceedgedistance_2018.nc') # output from dist formula\n",
    "\n",
    "# SODA data\n",
    "sodaA = xr.open_dataset('/glade/work/vcooper/BGEP_vtc/SODA/SODA_A_sigWaves.mat_converted.nc')\n",
    "sodaB = xr.open_dataset('/glade/work/vcooper/BGEP_vtc/SODA/SODA_B_sigWaves.mat_converted.nc')\n",
    "sodaC = xr.open_dataset('/glade/work/vcooper/BGEP_vtc/SODA/SODA_C_sigWaves.mat_converted.nc')\n",
    "sodaAice = xr.open_dataset('/glade/work/vcooper/BGEP_vtc/SODA/SODA_A_sigIce.mat_converted.nc')\n",
    "sodaBice = xr.open_dataset('/glade/work/vcooper/BGEP_vtc/SODA/SODA_B_sigIce.mat_converted.nc')\n",
    "sodaCice = xr.open_dataset('/glade/work/vcooper/BGEP_vtc/SODA/SODA_C_sigIce.mat_converted.nc')\n",
    "# sodaA = (sodaA.assign(iceDraftAST=sodaAice.iceDraftAST)).assign(iceDraftLE=sodaAice.iceDraftLE) # add icedraft vars\n",
    "# sodaB = (sodaB.assign(iceDraftAST=sodaBice.iceDraftAST)).assign(iceDraftLE=sodaBice.iceDraftLE)\n",
    "# sodaC = (sodaC.assign(iceDraftAST=sodaCice.iceDraftAST)).assign(iceDraftLE=sodaCice.iceDraftLE) \n",
    "\n",
    "# SWIFT data\n",
    "swiftpath = '/glade/work/lettier/SWIFT_SeaState2015/'\n",
    "swift_files = ('SWIFT13_11-14Oct2015_30min_converted.nc','SWIFT11_31Oct-01Nov2015_30min_converted.nc',\n",
    "              'SWIFT09_06-08Oct2015_30min_converted.nc','SWIFT15_23-25Oct2015_30min_converted.nc',\n",
    "              'SWIFT12_02Oct2015_30min_converted.nc','SWIFT11_23-24Oct2015_30min_converted.nc',\n",
    "              'SWIFT09_11-14Oct2015_30min_converted.nc','SWIFT11_10Oct2015_30min_converted.nc',\n",
    "              'SWIFT14_23-24Oct2015_30min_converted.nc','SWIFT09_31Oct-01Nov2015_30min_converted.nc',\n",
    "              'SWIFT12_23-24Oct2015_30min_converted.nc','SWIFT15_11-13Oct2015_30min_converted.nc',\n",
    "              'SWIFT14_10Oct2015_30min_converted.nc','SWIFT09_02Nov2015_30min_converted.nc',\n",
    "              'SWIFT14_04Oct2015_30min_converted.nc','SWIFT13_31Oct-01Nov2015_30min_converted.nc',\n",
    "              'SWIFT14_11-13Oct2015_30min_converted.nc','SWIFT13_23-24Oct2015_30min_converted.nc',\n",
    "              'SWIFT14_16-18Oct2015_30min_converted.nc','SWIFT15_31Oct-01Nov2015_30min_converted.nc',\n",
    "              'SWIFT11_16-18Oct2015_30min_converted.nc','SWIFT11_11-14Oct2015_30min_converted.nc',\n",
    "              'SWIFT09_23-24Oct2015_30min_converted.nc','SWIFT11_04Oct2015_30min_converted.nc',\n",
    "              'SWIFT12_11-14Oct2015_30min_converted.nc','SWIFT12_04Oct2015_30min_converted.nc',\n",
    "              'SWIFT12_06-08Oct2015_30min_converted.nc')\n",
    "\n",
    "swift_files = sorted(swift_files)  # sorted list of all SWIFT files\n",
    "swift_names = swift_files # initialize list of shortened names for use as xarray data\n",
    "swift_dict = {}\n",
    "nswift = len(swift_names)\n",
    "\n",
    "for i, file in enumerate(swift_files):\n",
    "    swift_names[i] = file[:-19] # drops final 19 chars\n",
    "    swift_dict[swift_names[i]] = xr.open_dataset(swiftpath + file) # datasets for each file, key to swift_names\n",
    "\n",
    "swift_dist = {} # new dictionary to hold distances for swifts\n",
    "swift_dist_bt = {} \n",
    "swift_dist_nt = {} \n",
    "\n",
    "for i,key in enumerate(swift_dict):\n",
    "    \n",
    "    ## get corresponding grid cells for each swift\n",
    "    templat = np.tile(swift_dict[key].lat.values.mean(),\n",
    "                  cice18.TLAT.values.size).reshape(cice18.TLAT.values.shape)\n",
    "    templon = np.tile(swift_dict[key].lon.values.mean(),\n",
    "                  cice18.TLON.values.size).reshape(cice18.TLON.values.shape) + 360\n",
    "    difflat = templat - cice18.TLAT.values\n",
    "    difflon = templon - cice18.TLON.values\n",
    "    dist = difflat**2 + difflon**2\n",
    "    index = np.where(dist == np.min(dist))\n",
    "    index[0][0] = index[0][0] - 300 # adjust for limited latslice of distance data\n",
    "    \n",
    "    ## get satellite distance interpolated to swift times\n",
    "    dist_sat15_swift = dist_sat15[:,index[0][0],index[1][0]].interp(\n",
    "        time=swift_dict[key].time.values)\n",
    "    swift_dist[key] = dist_sat15_swift\n",
    "    \n",
    "    # bt\n",
    "    dist_sat15_swift = dist_sat15_bt[:,index[0][0],index[1][0]].interp(\n",
    "        time=swift_dict[key].time.values)\n",
    "    swift_dist_bt[key] = dist_sat15_swift\n",
    "\n",
    "    # nt\n",
    "    dist_sat15_swift = dist_sat15_nt[:,index[0][0],index[1][0]].interp(\n",
    "        time=swift_dict[key].time.values)\n",
    "    swift_dist_nt[key] = dist_sat15_swift\n",
    "\n",
    "\n",
    "timeslice = slice('2018-01-01','2018-12-31')\n",
    "latslice = slice(300,384)"
   ]
  },
  {
   "cell_type": "code",
   "execution_count": 4,
   "metadata": {},
   "outputs": [
    {
     "data": {
      "text/html": [
       "<pre>&lt;xarray.Dataset&gt;\n",
       "Dimensions:    (ni: 320, nj: 384, time: 1460)\n",
       "Coordinates:\n",
       "    longitude  (nj, ni) float32 ...\n",
       "    latitude   (nj, ni) float32 ...\n",
       "  * time       (time) datetime64[ns] 2018-01-01 ... 2018-12-31T18:00:00\n",
       "Dimensions without coordinates: ni, nj\n",
       "Data variables:\n",
       "    MAPSTA     (nj, ni) int16 ...\n",
       "    dpt        (time, nj, ni) float32 ...\n",
       "    uwnd       (time, nj, ni) float32 ...\n",
       "    vwnd       (time, nj, ni) float32 ...\n",
       "    ast        (time, nj, ni) float32 ...\n",
       "    ice        (time, nj, ni) float32 ...\n",
       "    hs         (time, nj, ni) float32 ...\n",
       "    lm         (time, nj, ni) float32 ...\n",
       "    t02        (time, nj, ni) float32 ...\n",
       "    t0m1       (time, nj, ni) float32 ...\n",
       "    t01        (time, nj, ni) float32 ...\n",
       "    fp         (time, nj, ni) float32 ...\n",
       "    dir        (time, nj, ni) float32 ...\n",
       "    spr        (time, nj, ni) float32 ...\n",
       "    dp         (time, nj, ni) float32 ...\n",
       "Attributes:\n",
       "    WAVEWATCH_III_version_number:  5.16\n",
       "    WAVEWATCH_III_switches:        F90 NOGRB NOPA LRB4 NC4 PR3 UQ FLX0 LN1 ST...\n",
       "    product_name:                  ww3.20180101.nc\n",
       "    area:                          POP 1 degree grid (gx1v6b)\n",
       "    latitude_resolution:           n/a\n",
       "    longitude_resolution:          n/a\n",
       "    southernmost_latitude:         -79.22052\n",
       "    northernmost_latitude:         89.70641\n",
       "    westernmost_longitude:         1.4731102E-02\n",
       "    easternmost_longitude:         359.9960\n",
       "    minimum_altitude:              -12000 m\n",
       "    maximum_altitude:              9000 m\n",
       "    altitude_resolution:           n/a\n",
       "    start_date:                    2018-01-01 00:00:00\n",
       "    stop_date:                     2018-01-01 18:00:00\n",
       "    history:                       Tue Jun  9 11:42:23 2020: ncrename -d long...\n",
       "    NCO:                           netCDF Operators version 4.7.9 (Homepage =...</pre>"
      ],
      "text/plain": [
       "<xarray.Dataset>\n",
       "Dimensions:    (ni: 320, nj: 384, time: 1460)\n",
       "Coordinates:\n",
       "    longitude  (nj, ni) float32 ...\n",
       "    latitude   (nj, ni) float32 ...\n",
       "  * time       (time) datetime64[ns] 2018-01-01 ... 2018-12-31T18:00:00\n",
       "Dimensions without coordinates: ni, nj\n",
       "Data variables:\n",
       "    MAPSTA     (nj, ni) int16 ...\n",
       "    dpt        (time, nj, ni) float32 ...\n",
       "    uwnd       (time, nj, ni) float32 ...\n",
       "    vwnd       (time, nj, ni) float32 ...\n",
       "    ast        (time, nj, ni) float32 ...\n",
       "    ice        (time, nj, ni) float32 ...\n",
       "    hs         (time, nj, ni) float32 ...\n",
       "    lm         (time, nj, ni) float32 ...\n",
       "    t02        (time, nj, ni) float32 ...\n",
       "    t0m1       (time, nj, ni) float32 ...\n",
       "    t01        (time, nj, ni) float32 ...\n",
       "    fp         (time, nj, ni) float32 ...\n",
       "    dir        (time, nj, ni) float32 ...\n",
       "    spr        (time, nj, ni) float32 ...\n",
       "    dp         (time, nj, ni) float32 ...\n",
       "Attributes:\n",
       "    WAVEWATCH_III_version_number:  5.16\n",
       "    WAVEWATCH_III_switches:        F90 NOGRB NOPA LRB4 NC4 PR3 UQ FLX0 LN1 ST...\n",
       "    product_name:                  ww3.20180101.nc\n",
       "    area:                          POP 1 degree grid (gx1v6b)\n",
       "    latitude_resolution:           n/a\n",
       "    longitude_resolution:          n/a\n",
       "    southernmost_latitude:         -79.22052\n",
       "    northernmost_latitude:         89.70641\n",
       "    westernmost_longitude:         1.4731102E-02\n",
       "    easternmost_longitude:         359.9960\n",
       "    minimum_altitude:              -12000 m\n",
       "    maximum_altitude:              9000 m\n",
       "    altitude_resolution:           n/a\n",
       "    start_date:                    2018-01-01 00:00:00\n",
       "    stop_date:                     2018-01-01 18:00:00\n",
       "    history:                       Tue Jun  9 11:42:23 2020: ncrename -d long...\n",
       "    NCO:                           netCDF Operators version 4.7.9 (Homepage =..."
      ]
     },
     "execution_count": 4,
     "metadata": {},
     "output_type": "execute_result"
    }
   ],
   "source": [
    "ww18t = xr.open_dataset('/glade/work/vcooper/BGEP_vtc/ww3.2018_sigheight.nc').set_coords(['longitude','latitude'])\n",
    "ww18t"
   ]
  },
  {
   "cell_type": "code",
   "execution_count": 7,
   "metadata": {},
   "outputs": [
    {
     "data": {
      "text/html": [
       "<pre>&lt;xarray.Dataset&gt;\n",
       "Dimensions:    (ni: 320, nj: 384, time: 1456)\n",
       "Coordinates:\n",
       "    longitude  (nj, ni) float32 ...\n",
       "    latitude   (nj, ni) float32 ...\n",
       "  * time       (time) datetime64[ns] 2018-01-01 ... 2018-12-30T18:00:00\n",
       "Dimensions without coordinates: ni, nj\n",
       "Data variables:\n",
       "    MAPSTA     (nj, ni) int16 ...\n",
       "    dpt        (time, nj, ni) float32 ...\n",
       "    uwnd       (time, nj, ni) float32 ...\n",
       "    vwnd       (time, nj, ni) float32 ...\n",
       "    ast        (time, nj, ni) float32 ...\n",
       "    ice        (time, nj, ni) float32 ...\n",
       "    hs         (time, nj, ni) float32 ...\n",
       "    lm         (time, nj, ni) float32 ...\n",
       "    t02        (time, nj, ni) float32 ...\n",
       "    t0m1       (time, nj, ni) float32 ...\n",
       "    t01        (time, nj, ni) float32 ...\n",
       "    fp         (time, nj, ni) float32 ...\n",
       "    dir        (time, nj, ni) float32 ...\n",
       "    spr        (time, nj, ni) float32 ...\n",
       "    dp         (time, nj, ni) float32 ...\n",
       "Attributes:\n",
       "    WAVEWATCH_III_version_number:  5.16\n",
       "    WAVEWATCH_III_switches:        F90 NOGRB NOPA LRB4 NC4 PR3 UQ FLX0 LN1 ST...\n",
       "    product_name:                  ww3.20180101.nc\n",
       "    area:                          POP 1 degree grid (gx1v6b)\n",
       "    latitude_resolution:           n/a\n",
       "    longitude_resolution:          n/a\n",
       "    southernmost_latitude:         -79.22052\n",
       "    northernmost_latitude:         89.70641\n",
       "    westernmost_longitude:         1.4731102E-02\n",
       "    easternmost_longitude:         359.9960\n",
       "    minimum_altitude:              -12000 m\n",
       "    maximum_altitude:              9000 m\n",
       "    altitude_resolution:           n/a\n",
       "    start_date:                    2018-01-01 00:00:00\n",
       "    stop_date:                     2018-01-01 18:00:00\n",
       "    history:                       Wed Apr 29 17:19:29 2020: ncrename -d long...\n",
       "    NCO:                           netCDF Operators version 4.7.9 (Homepage =...</pre>"
      ],
      "text/plain": [
       "<xarray.Dataset>\n",
       "Dimensions:    (ni: 320, nj: 384, time: 1456)\n",
       "Coordinates:\n",
       "    longitude  (nj, ni) float32 ...\n",
       "    latitude   (nj, ni) float32 ...\n",
       "  * time       (time) datetime64[ns] 2018-01-01 ... 2018-12-30T18:00:00\n",
       "Dimensions without coordinates: ni, nj\n",
       "Data variables:\n",
       "    MAPSTA     (nj, ni) int16 ...\n",
       "    dpt        (time, nj, ni) float32 ...\n",
       "    uwnd       (time, nj, ni) float32 ...\n",
       "    vwnd       (time, nj, ni) float32 ...\n",
       "    ast        (time, nj, ni) float32 ...\n",
       "    ice        (time, nj, ni) float32 ...\n",
       "    hs         (time, nj, ni) float32 ...\n",
       "    lm         (time, nj, ni) float32 ...\n",
       "    t02        (time, nj, ni) float32 ...\n",
       "    t0m1       (time, nj, ni) float32 ...\n",
       "    t01        (time, nj, ni) float32 ...\n",
       "    fp         (time, nj, ni) float32 ...\n",
       "    dir        (time, nj, ni) float32 ...\n",
       "    spr        (time, nj, ni) float32 ...\n",
       "    dp         (time, nj, ni) float32 ...\n",
       "Attributes:\n",
       "    WAVEWATCH_III_version_number:  5.16\n",
       "    WAVEWATCH_III_switches:        F90 NOGRB NOPA LRB4 NC4 PR3 UQ FLX0 LN1 ST...\n",
       "    product_name:                  ww3.20180101.nc\n",
       "    area:                          POP 1 degree grid (gx1v6b)\n",
       "    latitude_resolution:           n/a\n",
       "    longitude_resolution:          n/a\n",
       "    southernmost_latitude:         -79.22052\n",
       "    northernmost_latitude:         89.70641\n",
       "    westernmost_longitude:         1.4731102E-02\n",
       "    easternmost_longitude:         359.9960\n",
       "    minimum_altitude:              -12000 m\n",
       "    maximum_altitude:              9000 m\n",
       "    altitude_resolution:           n/a\n",
       "    start_date:                    2018-01-01 00:00:00\n",
       "    stop_date:                     2018-01-01 18:00:00\n",
       "    history:                       Wed Apr 29 17:19:29 2020: ncrename -d long...\n",
       "    NCO:                           netCDF Operators version 4.7.9 (Homepage =..."
      ]
     },
     "execution_count": 7,
     "metadata": {},
     "output_type": "execute_result"
    }
   ],
   "source": [
    "ww18"
   ]
  },
  {
   "cell_type": "code",
   "execution_count": 8,
   "metadata": {},
   "outputs": [
    {
     "data": {
      "text/plain": [
       "[<matplotlib.lines.Line2D at 0x2b1204e1cc18>]"
      ]
     },
     "execution_count": 8,
     "metadata": {},
     "output_type": "execute_result"
    },
    {
     "data": {
      "image/png": "[encoded data removed]",
      "text/plain": [
       "<Figure size 432x288 with 1 Axes>"
      ]
     },
     "metadata": {},
     "output_type": "display_data"
    }
   ],
   "source": [
    "# sodaA.sigwaveheight.plot()\n",
    "ww18t.hs.sel(time=slice('2018-09','2018-12'),nj=347,ni=210).plot(label='ww3')"
   ]
  },
  {
   "cell_type": "code",
   "execution_count": 6,
   "metadata": {},
   "outputs": [
    {
     "data": {
      "text/plain": [
       "[<matplotlib.lines.Line2D at 0x2ad55692ae48>]"
      ]
     },
     "execution_count": 6,
     "metadata": {},
     "output_type": "execute_result"
    },
    {
     "data": {
      "image/png": "[encoded data removed]",
      "text/plain": [
       "<Figure size 432x288 with 1 Axes>"
      ]
     },
     "metadata": {},
     "output_type": "display_data"
    }
   ],
   "source": [
    "ww18.hs.sel(time=slice('2018-09','2018-12'),nj=347,ni=210).plot(label='ww3')\n",
    "ww18t.hs.sel(time=slice('2018-09','2018-12'),nj=347,ni=210).plot(label='new')"
   ]
  },
  {
   "cell_type": "code",
   "execution_count": null,
   "metadata": {},
   "outputs": [],
   "source": []
  },
  {
   "cell_type": "markdown",
   "metadata": {},
   "source": [
    "## Run background calculations for distance from satellite data\n",
    "Do this for 2012, 2015, 2017"
   ]
  },
  {
   "cell_type": "code",
   "execution_count": 15,
   "metadata": {},
   "outputs": [],
   "source": [
    "## Updated version to 15% ice concentration threshold\n",
    "def icedistance(iceconc_input):\n",
    "    # turn icefracs to numpy array\n",
    "    icefracsnp = iceconc_input.values\n",
    "    lats = iceconc_input.TLAT.values # cice output version (including regridded satellite)\n",
    "    lons = iceconc_input.TLON.values # cice output version\n",
    "#     lats = iceconc_input.latitude.values # ww3 output version\n",
    "#     lons = iceconc_input.longitude.values # ww3 output version\n",
    "\n",
    "\n",
    "    # create array to hold the distances\n",
    "    distances = icefracsnp.copy() # same size array as the evaluated data\n",
    "    distances -= distances # make zeros or nan; we will keep these values for cells that don't need a calc\n",
    "\n",
    "    \n",
    "    ##### GET OPEN WATER -> WATER/ICE EDGE LOCATIONS #####\n",
    "    \n",
    "    # get all open water locations except at edge of domain to avoid computation breaking\n",
    "    icefracsnp_noborder = icefracsnp[1:-1,1:-1] # exclude borders for open water checking neighbors\n",
    "    locations_openw = np.transpose(np.where(icefracsnp_noborder<0.15))\n",
    "    locations_openw += 1 # adjust indices for the border exclusion\n",
    "\n",
    "    # create 4 arrays, each represents the offset of open water location in coords by 1 unit\n",
    "    latp1 = np.append(locations_openw[:,0]+1,locations_openw[:,1]).reshape(locations_openw.shape,order='F')\n",
    "    latm1 = np.append(locations_openw[:,0]-1,locations_openw[:,1]).reshape(locations_openw.shape,order='F')\n",
    "    lonp1 = np.append(locations_openw[:,0],locations_openw[:,1]+1).reshape(locations_openw.shape,order='F')\n",
    "    lonm1 = np.append(locations_openw[:,0],locations_openw[:,1]-1).reshape(locations_openw.shape,order='F')\n",
    "\n",
    "    # get max icefrac of 4 neighbor cells at each open water cell\n",
    "    iceneighbormax = np.nanmax(np.stack((icefracsnp[latp1[:,0],latp1[:,1]],\n",
    "                                         icefracsnp[lonm1[:,0],lonm1[:,1]],\n",
    "                                         icefracsnp[lonp1[:,0],lonp1[:,1]],\n",
    "                                         icefracsnp[latm1[:,0],latm1[:,1]])),axis=0)\n",
    "\n",
    "    # get index of the open water cells with ice neighbor>15% # these are values for which we will calc distance\n",
    "    wateredge = locations_openw[np.where(iceneighbormax>0.15)]\n",
    "    wateredgeT = wateredge.T\n",
    "    wateredgelatlon = np.array([[lats[wateredgeT[0],wateredgeT[1]]],\n",
    "                                [lons[wateredgeT[0],wateredgeT[1]]]]).squeeze().T # Nx2 matrix of lat,lon\n",
    "    \n",
    "    ##### CALCULATION OF DISTANCES #####\n",
    "    \n",
    "    # get all cell locations with ice > 15%\n",
    "    icewhere = np.where(icefracsnp>0.15)\n",
    "    icecells = np.transpose(icewhere) # index by array position\n",
    "    icelatlon = np.array([[lats[icewhere]],\n",
    "                          [lons[icewhere]]]).squeeze().T # Nx2 matrix of lat,lon\n",
    "\n",
    "    # calculate minimum distance\n",
    "    mindist = haversine_distances(np.deg2rad(icelatlon),\n",
    "                                  np.deg2rad(wateredgelatlon)).min(axis=1)*6371000/1000 # x by Radius-earth for km\n",
    "    \n",
    "    icecellsT = np.transpose(icecells) # transpose for vectorized indexing\n",
    "    distances[icecellsT[0],icecellsT[1]] = mindist # put mindist into each grid point\n",
    "    \n",
    "#     consider adding something like this and removing the loop? so it outputs xarray\n",
    "#     dist_series = iceconc_input.copy()\n",
    "#     dist_series.values = np.array(disttest_v04)\n",
    "\n",
    "\n",
    "    return(distances)"
   ]
  },
  {
   "cell_type": "code",
   "execution_count": 7,
   "metadata": {},
   "outputs": [
    {
     "name": "stderr",
     "output_type": "stream",
     "text": [
      "/glade/u/home/vcooper/miniconda3/envs/camus/lib/python3.7/site-packages/ipykernel_launcher.py:18: RuntimeWarning: invalid value encountered in less\n",
      "/glade/u/home/vcooper/miniconda3/envs/camus/lib/python3.7/site-packages/ipykernel_launcher.py:31: RuntimeWarning: All-NaN slice encountered\n",
      "/glade/u/home/vcooper/miniconda3/envs/camus/lib/python3.7/site-packages/ipykernel_launcher.py:34: RuntimeWarning: invalid value encountered in greater\n",
      "/glade/u/home/vcooper/miniconda3/envs/camus/lib/python3.7/site-packages/ipykernel_launcher.py:42: RuntimeWarning: invalid value encountered in greater\n",
      "/glade/u/home/vcooper/miniconda3/envs/camus/lib/python3.7/site-packages/ipykernel_launcher.py:18: RuntimeWarning: invalid value encountered in less\n",
      "/glade/u/home/vcooper/miniconda3/envs/camus/lib/python3.7/site-packages/ipykernel_launcher.py:42: RuntimeWarning: invalid value encountered in greater\n",
      "/glade/u/home/vcooper/miniconda3/envs/camus/lib/python3.7/site-packages/ipykernel_launcher.py:31: RuntimeWarning: All-NaN slice encountered\n",
      "/glade/u/home/vcooper/miniconda3/envs/camus/lib/python3.7/site-packages/ipykernel_launcher.py:34: RuntimeWarning: invalid value encountered in greater\n"
     ]
    },
    {
     "name": "stdout",
     "output_type": "stream",
     "text": [
      "CPU times: user 3min 22s, sys: 595 ms, total: 3min 23s\n",
      "Wall time: 3min 49s\n"
     ]
    }
   ],
   "source": [
    "%%time\n",
    "# calculate distances for 2012 cice\n",
    "timeslice = slice('2012-01-01','2012-12-31')\n",
    "latslice = slice(300,384)\n",
    "\n",
    "# # # UNCOMMENT THIS TO RESTART ALL, approx 7 min\n",
    "# dist_cice18_6h = [icedistance(aice) for aice in (cice18_6h_aice.sel(time=timeslice,nj=latslice))]\n",
    "# dist_cice18_6h = (xr.DataArray(dist_cice18_6h)).rename({'dim_0': 'time', 'dim_1': 'nj', 'dim_2': 'ni'})\n",
    "# dist_cice18_6h = xr.DataArray(dist_cice18_6h,coords=cice18_6h_aice.sel(nj=latslice).coords)\n",
    "\n",
    "# dist_sat12 = [icedistance(aice) for aice in (boot.aice_d.sel(time=timeslice,nj=latslice))]\n",
    "# dist_sat12 = (xr.DataArray(dist_sat12)).rename({'dim_0': 'time', 'dim_1': 'nj', 'dim_2': 'ni'})\n",
    "# dist_sat12 = xr.DataArray(dist_sat12,coords=boot.aice_d.sel(time=timeslice,nj=latslice).coords)\n",
    "\n",
    "# dist_sat12_bt = [icedistance(aice) for aice in (boot.goddard_bt_seaice_conc.sel(time=timeslice,nj=latslice))]\n",
    "# dist_sat12_bt = (xr.DataArray(dist_sat12_bt)).rename({'dim_0': 'time', 'dim_1': 'nj', 'dim_2': 'ni'})\n",
    "# dist_sat12_bt = xr.DataArray(dist_sat12_bt,coords=boot.goddard_bt_seaice_conc.sel(time=timeslice,nj=latslice).coords)\n",
    "\n",
    "# dist_sat12_nt = [icedistance(aice) for aice in (boot.goddard_nt_seaice_conc.sel(time=timeslice,nj=latslice))]\n",
    "# dist_sat12_nt = (xr.DataArray(dist_sat12_nt)).rename({'dim_0': 'time', 'dim_1': 'nj', 'dim_2': 'ni'})\n",
    "# dist_sat12_nt = xr.DataArray(dist_sat12_nt,coords=boot.goddard_nt_seaice_conc.sel(time=timeslice,nj=latslice).coords)"
   ]
  },
  {
   "cell_type": "code",
   "execution_count": 8,
   "metadata": {},
   "outputs": [
    {
     "name": "stdout",
     "output_type": "stream",
     "text": [
      "saving to  ./sat_iceedgedistance_2012.nc\n",
      "finished saving\n",
      "saving to  ./sat_iceedgedistance_bt_2012.nc\n",
      "finished saving\n",
      "saving to  ./sat_iceedgedistance_nt_2012.nc\n",
      "finished saving\n"
     ]
    }
   ],
   "source": [
    "# write distances to netcdf\n",
    "# cice model\n",
    "# new_filename = './cice_iceedgedistance_2018.nc'\n",
    "# print ('saving to ', new_filename)\n",
    "\n",
    "# dist_cice18_6h.to_netcdf(path=new_filename)\n",
    "# print ('finished saving')\n",
    "\n",
    "# satellite\n",
    "# new_filename = './sat_iceedgedistance_2012.nc'\n",
    "# print ('saving to ', new_filename)\n",
    "\n",
    "# dist_sat12.to_netcdf(path=new_filename)\n",
    "# print ('finished saving')\n",
    "\n",
    "# # satellite bt\n",
    "# new_filename = './sat_iceedgedistance_bt_2012.nc'\n",
    "# print ('saving to ', new_filename)\n",
    "\n",
    "# dist_sat12_bt.to_netcdf(path=new_filename)\n",
    "# print ('finished saving')\n",
    "\n",
    "# # satellite nt\n",
    "# new_filename = './sat_iceedgedistance_nt_2012.nc'\n",
    "# print ('saving to ', new_filename)\n",
    "\n",
    "# dist_sat12_nt.to_netcdf(path=new_filename)\n",
    "# print ('finished saving')\n",
    "\n",
    "## DONT FORGET TO COPY FILES IN CHEYENNE TO DESIRED DIRECTORY ##"
   ]
  },
  {
   "cell_type": "code",
   "execution_count": 13,
   "metadata": {},
   "outputs": [
    {
     "name": "stderr",
     "output_type": "stream",
     "text": [
      "/glade/u/home/vcooper/miniconda3/envs/camus/lib/python3.7/site-packages/ipykernel_launcher.py:18: RuntimeWarning: invalid value encountered in less\n",
      "/glade/u/home/vcooper/miniconda3/envs/camus/lib/python3.7/site-packages/ipykernel_launcher.py:31: RuntimeWarning: All-NaN slice encountered\n",
      "/glade/u/home/vcooper/miniconda3/envs/camus/lib/python3.7/site-packages/ipykernel_launcher.py:34: RuntimeWarning: invalid value encountered in greater\n",
      "/glade/u/home/vcooper/miniconda3/envs/camus/lib/python3.7/site-packages/ipykernel_launcher.py:42: RuntimeWarning: invalid value encountered in greater\n"
     ]
    },
    {
     "name": "stdout",
     "output_type": "stream",
     "text": [
      "CPU times: user 3min 24s, sys: 405 ms, total: 3min 25s\n",
      "Wall time: 3min 45s\n"
     ]
    }
   ],
   "source": [
    "%%time\n",
    "# calculate distances for 2012 cice\n",
    "timeslice = slice('2017-01-01','2017-12-31')\n",
    "latslice = slice(300,384)\n",
    "\n",
    "# # # UNCOMMENT THIS TO RESTART ALL, approx 7 min\n",
    "# dist_cice18_6h = [icedistance(aice) for aice in (cice18_6h_aice.sel(time=timeslice,nj=latslice))]\n",
    "# dist_cice18_6h = (xr.DataArray(dist_cice18_6h)).rename({'dim_0': 'time', 'dim_1': 'nj', 'dim_2': 'ni'})\n",
    "# dist_cice18_6h = xr.DataArray(dist_cice18_6h,coords=cice18_6h_aice.sel(nj=latslice).coords)\n",
    "\n",
    "# dist_sat = [icedistance(aice) for aice in (boot.aice_d.sel(time=timeslice,nj=latslice))]\n",
    "# dist_sat = (xr.DataArray(dist_sat)).rename({'dim_0': 'time', 'dim_1': 'nj', 'dim_2': 'ni'})\n",
    "# dist_sat = xr.DataArray(dist_sat,coords=boot.aice_d.sel(time=timeslice,nj=latslice).coords)\n",
    "\n",
    "# dist_sat_bt = [icedistance(aice) for aice in (boot.goddard_bt_seaice_conc.sel(time=timeslice,nj=latslice))]\n",
    "# dist_sat_bt = (xr.DataArray(dist_sat_bt)).rename({'dim_0': 'time', 'dim_1': 'nj', 'dim_2': 'ni'})\n",
    "# dist_sat_bt = xr.DataArray(dist_sat_bt,coords=boot.goddard_bt_seaice_conc.sel(time=timeslice,nj=latslice).coords)\n",
    "\n",
    "# dist_sat_nt = [icedistance(aice) for aice in (boot.goddard_nt_seaice_conc.sel(time=timeslice,nj=latslice))]\n",
    "# dist_sat_nt = (xr.DataArray(dist_sat_nt)).rename({'dim_0': 'time', 'dim_1': 'nj', 'dim_2': 'ni'})\n",
    "# dist_sat_nt = xr.DataArray(dist_sat_nt,coords=boot.goddard_nt_seaice_conc.sel(time=timeslice,nj=latslice).coords)"
   ]
  },
  {
   "cell_type": "code",
   "execution_count": 14,
   "metadata": {},
   "outputs": [
    {
     "name": "stdout",
     "output_type": "stream",
     "text": [
      "saving to  ./sat_iceedgedistance_2017.nc\n",
      "finished saving\n",
      "saving to  ./sat_iceedgedistance_bt_2017.nc\n",
      "finished saving\n",
      "saving to  ./sat_iceedgedistance_nt_2017.nc\n",
      "finished saving\n"
     ]
    }
   ],
   "source": [
    "# write distances to netcdf\n",
    "# cice model\n",
    "# new_filename = './cice_iceedgedistance_2018.nc'\n",
    "# print ('saving to ', new_filename)\n",
    "\n",
    "# dist_cice18_6h.to_netcdf(path=new_filename)\n",
    "# print ('finished saving')\n",
    "\n",
    "# # satellite\n",
    "# new_filename = './sat_iceedgedistance_2017.nc'\n",
    "# print ('saving to ', new_filename)\n",
    "\n",
    "# dist_sat.to_netcdf(path=new_filename)\n",
    "# print ('finished saving')\n",
    "\n",
    "# # satellite bt\n",
    "# new_filename = './sat_iceedgedistance_bt_2017.nc'\n",
    "# print ('saving to ', new_filename)\n",
    "\n",
    "# dist_sat_bt.to_netcdf(path=new_filename)\n",
    "# print ('finished saving')\n",
    "\n",
    "# # satellite nt\n",
    "# new_filename = './sat_iceedgedistance_nt_2017.nc'\n",
    "# print ('saving to ', new_filename)\n",
    "\n",
    "# dist_sat_nt.to_netcdf(path=new_filename)\n",
    "# print ('finished saving')\n",
    "\n",
    "# ## DONT FORGET TO COPY FILES IN CHEYENNE TO DESIRED DIRECTORY ##"
   ]
  },
  {
   "cell_type": "code",
   "execution_count": 20,
   "metadata": {},
   "outputs": [
    {
     "name": "stderr",
     "output_type": "stream",
     "text": [
      "/glade/u/home/vcooper/miniconda3/envs/camus/lib/python3.7/site-packages/ipykernel_launcher.py:20: RuntimeWarning: invalid value encountered in less\n",
      "/glade/u/home/vcooper/miniconda3/envs/camus/lib/python3.7/site-packages/ipykernel_launcher.py:33: RuntimeWarning: All-NaN slice encountered\n",
      "/glade/u/home/vcooper/miniconda3/envs/camus/lib/python3.7/site-packages/ipykernel_launcher.py:36: RuntimeWarning: invalid value encountered in greater\n",
      "/glade/u/home/vcooper/miniconda3/envs/camus/lib/python3.7/site-packages/ipykernel_launcher.py:44: RuntimeWarning: invalid value encountered in greater\n"
     ]
    },
    {
     "name": "stdout",
     "output_type": "stream",
     "text": [
      "CPU times: user 3min 17s, sys: 371 ms, total: 3min 18s\n",
      "Wall time: 3min 37s\n"
     ]
    }
   ],
   "source": [
    "%%time\n",
    "# calculate distances for 2019\n",
    "timeslice = slice('2013-01-01','2013-12-31')\n",
    "latslice = slice(300,384)\n",
    "\n",
    "# # UNCOMMENT THIS TO RESTART ALL\n",
    "dist_sat = [icedistance(aice) for aice in (boot.aice_d.sel(time=timeslice,nj=latslice))]\n",
    "dist_sat = (xr.DataArray(dist_sat)).rename({'dim_0': 'time', 'dim_1': 'nj', 'dim_2': 'ni'})\n",
    "dist_sat = xr.DataArray(dist_sat,coords=boot.aice_d.sel(time=timeslice,nj=latslice).coords)\n",
    "\n",
    "dist_sat_bt = [icedistance(aice) for aice in (boot.goddard_bt_seaice_conc.sel(time=timeslice,nj=latslice))]\n",
    "dist_sat_bt = (xr.DataArray(dist_sat_bt)).rename({'dim_0': 'time', 'dim_1': 'nj', 'dim_2': 'ni'})\n",
    "dist_sat_bt = xr.DataArray(dist_sat_bt,coords=boot.goddard_bt_seaice_conc.sel(time=timeslice,nj=latslice).coords)\n",
    "\n",
    "dist_sat_nt = [icedistance(aice) for aice in (boot.goddard_nt_seaice_conc.sel(time=timeslice,nj=latslice))]\n",
    "dist_sat_nt = (xr.DataArray(dist_sat_nt)).rename({'dim_0': 'time', 'dim_1': 'nj', 'dim_2': 'ni'})\n",
    "dist_sat_nt = xr.DataArray(dist_sat_nt,coords=boot.goddard_nt_seaice_conc.sel(time=timeslice,nj=latslice).coords)"
   ]
  },
  {
   "cell_type": "code",
   "execution_count": 21,
   "metadata": {},
   "outputs": [
    {
     "name": "stdout",
     "output_type": "stream",
     "text": [
      "saving to  ./sat_iceedgedistance_2013.nc\n",
      "finished saving\n",
      "saving to  ./sat_iceedgedistance_bt_2013.nc\n",
      "finished saving\n",
      "saving to  ./sat_iceedgedistance_nt_2013.nc\n",
      "finished saving\n"
     ]
    }
   ],
   "source": [
    "## satellite\n",
    "new_filename = './sat_iceedgedistance_2013.nc'\n",
    "print ('saving to ', new_filename)\n",
    "\n",
    "dist_sat.to_netcdf(path=new_filename)\n",
    "print ('finished saving')\n",
    "\n",
    "# satellite bt\n",
    "new_filename = './sat_iceedgedistance_bt_2013.nc'\n",
    "print ('saving to ', new_filename)\n",
    "\n",
    "dist_sat_bt.to_netcdf(path=new_filename)\n",
    "print ('finished saving')\n",
    "\n",
    "# satellite nt\n",
    "new_filename = './sat_iceedgedistance_nt_2013.nc'\n",
    "print ('saving to ', new_filename)\n",
    "\n",
    "dist_sat_nt.to_netcdf(path=new_filename)\n",
    "print ('finished saving')\n",
    "\n",
    "# ## DONT FORGET TO COPY FILES IN CHEYENNE TO DESIRED DIRECTORY ##"
   ]
  },
  {
   "cell_type": "code",
   "execution_count": 11,
   "metadata": {},
   "outputs": [
    {
     "name": "stderr",
     "output_type": "stream",
     "text": [
      "/glade/u/home/vcooper/miniconda3/envs/camus/lib/python3.7/site-packages/ipykernel_launcher.py:18: RuntimeWarning: invalid value encountered in less\n",
      "/glade/u/home/vcooper/miniconda3/envs/camus/lib/python3.7/site-packages/ipykernel_launcher.py:31: RuntimeWarning: All-NaN slice encountered\n",
      "/glade/u/home/vcooper/miniconda3/envs/camus/lib/python3.7/site-packages/ipykernel_launcher.py:34: RuntimeWarning: invalid value encountered in greater\n",
      "/glade/u/home/vcooper/miniconda3/envs/camus/lib/python3.7/site-packages/ipykernel_launcher.py:42: RuntimeWarning: invalid value encountered in greater\n"
     ]
    },
    {
     "name": "stdout",
     "output_type": "stream",
     "text": [
      "CPU times: user 3min 27s, sys: 350 ms, total: 3min 27s\n",
      "Wall time: 3min 47s\n"
     ]
    }
   ],
   "source": [
    "%%time\n",
    "# calculate distances for 2012 cice\n",
    "timeslice = slice('2015-01-01','2015-12-31')\n",
    "latslice = slice(300,384)\n",
    "\n",
    "# # # UNCOMMENT THIS TO RESTART ALL, approx 7 min\n",
    "# dist_cice18_6h = [icedistance(aice) for aice in (cice18_6h_aice.sel(time=timeslice,nj=latslice))]\n",
    "# dist_cice18_6h = (xr.DataArray(dist_cice18_6h)).rename({'dim_0': 'time', 'dim_1': 'nj', 'dim_2': 'ni'})\n",
    "# dist_cice18_6h = xr.DataArray(dist_cice18_6h,coords=cice18_6h_aice.sel(nj=latslice).coords)\n",
    "\n",
    "# dist_sat = [icedistance(aice) for aice in (boot.aice_d.sel(time=timeslice,nj=latslice))]\n",
    "# dist_sat = (xr.DataArray(dist_sat)).rename({'dim_0': 'time', 'dim_1': 'nj', 'dim_2': 'ni'})\n",
    "# dist_sat = xr.DataArray(dist_sat,coords=boot.aice_d.sel(time=timeslice,nj=latslice).coords)\n",
    "\n",
    "# dist_sat_bt = [icedistance(aice) for aice in (boot.goddard_bt_seaice_conc.sel(time=timeslice,nj=latslice))]\n",
    "# dist_sat_bt = (xr.DataArray(dist_sat_bt)).rename({'dim_0': 'time', 'dim_1': 'nj', 'dim_2': 'ni'})\n",
    "# dist_sat_bt = xr.DataArray(dist_sat_bt,coords=boot.goddard_bt_seaice_conc.sel(time=timeslice,nj=latslice).coords)\n",
    "\n",
    "# dist_sat_nt = [icedistance(aice) for aice in (boot.goddard_nt_seaice_conc.sel(time=timeslice,nj=latslice))]\n",
    "# dist_sat_nt = (xr.DataArray(dist_sat_nt)).rename({'dim_0': 'time', 'dim_1': 'nj', 'dim_2': 'ni'})\n",
    "# dist_sat_nt = xr.DataArray(dist_sat_nt,coords=boot.goddard_nt_seaice_conc.sel(time=timeslice,nj=latslice).coords)"
   ]
  },
  {
   "cell_type": "code",
   "execution_count": 12,
   "metadata": {},
   "outputs": [
    {
     "name": "stdout",
     "output_type": "stream",
     "text": [
      "saving to  ./sat_iceedgedistance_2015.nc\n",
      "finished saving\n",
      "saving to  ./sat_iceedgedistance_bt_2015.nc\n",
      "finished saving\n",
      "saving to  ./sat_iceedgedistance_nt_2015.nc\n",
      "finished saving\n"
     ]
    }
   ],
   "source": [
    "# write distances to netcdf\n",
    "# cice model\n",
    "# new_filename = './cice_iceedgedistance_2018.nc'\n",
    "# print ('saving to ', new_filename)\n",
    "\n",
    "# dist_cice18_6h.to_netcdf(path=new_filename)\n",
    "# print ('finished saving')\n",
    "\n",
    "# satellite\n",
    "# new_filename = './sat_iceedgedistance_2015.nc'\n",
    "# print ('saving to ', new_filename)\n",
    "\n",
    "# dist_sat.to_netcdf(path=new_filename)\n",
    "# print ('finished saving')\n",
    "\n",
    "# # satellite bt\n",
    "# new_filename = './sat_iceedgedistance_bt_2015.nc'\n",
    "# print ('saving to ', new_filename)\n",
    "\n",
    "# dist_sat_bt.to_netcdf(path=new_filename)\n",
    "# print ('finished saving')\n",
    "\n",
    "# # satellite nt\n",
    "# new_filename = './sat_iceedgedistance_nt_2015.nc'\n",
    "# print ('saving to ', new_filename)\n",
    "\n",
    "# dist_sat_nt.to_netcdf(path=new_filename)\n",
    "# print ('finished saving')\n",
    "\n",
    "# ## DONT FORGET TO COPY FILES IN CHEYENNE TO DESIRED DIRECTORY ##"
   ]
  },
  {
   "cell_type": "code",
   "execution_count": 18,
   "metadata": {},
   "outputs": [
    {
     "name": "stderr",
     "output_type": "stream",
     "text": [
      "/glade/u/home/vcooper/miniconda3/envs/camus/lib/python3.7/site-packages/ipykernel_launcher.py:20: RuntimeWarning: invalid value encountered in less\n",
      "/glade/u/home/vcooper/miniconda3/envs/camus/lib/python3.7/site-packages/ipykernel_launcher.py:33: RuntimeWarning: All-NaN slice encountered\n",
      "/glade/u/home/vcooper/miniconda3/envs/camus/lib/python3.7/site-packages/ipykernel_launcher.py:36: RuntimeWarning: invalid value encountered in greater\n",
      "/glade/u/home/vcooper/miniconda3/envs/camus/lib/python3.7/site-packages/ipykernel_launcher.py:44: RuntimeWarning: invalid value encountered in greater\n"
     ]
    },
    {
     "name": "stdout",
     "output_type": "stream",
     "text": [
      "CPU times: user 3min 14s, sys: 413 ms, total: 3min 14s\n",
      "Wall time: 3min 35s\n"
     ]
    }
   ],
   "source": [
    "%%time\n",
    "# calculate distances for 2019\n",
    "timeslice = slice('2016-01-01','2016-12-31')\n",
    "latslice = slice(300,384)\n",
    "\n",
    "# # UNCOMMENT THIS TO RESTART ALL\n",
    "dist_sat = [icedistance(aice) for aice in (boot.aice_d.sel(time=timeslice,nj=latslice))]\n",
    "dist_sat = (xr.DataArray(dist_sat)).rename({'dim_0': 'time', 'dim_1': 'nj', 'dim_2': 'ni'})\n",
    "dist_sat = xr.DataArray(dist_sat,coords=boot.aice_d.sel(time=timeslice,nj=latslice).coords)\n",
    "\n",
    "dist_sat_bt = [icedistance(aice) for aice in (boot.goddard_bt_seaice_conc.sel(time=timeslice,nj=latslice))]\n",
    "dist_sat_bt = (xr.DataArray(dist_sat_bt)).rename({'dim_0': 'time', 'dim_1': 'nj', 'dim_2': 'ni'})\n",
    "dist_sat_bt = xr.DataArray(dist_sat_bt,coords=boot.goddard_bt_seaice_conc.sel(time=timeslice,nj=latslice).coords)\n",
    "\n",
    "dist_sat_nt = [icedistance(aice) for aice in (boot.goddard_nt_seaice_conc.sel(time=timeslice,nj=latslice))]\n",
    "dist_sat_nt = (xr.DataArray(dist_sat_nt)).rename({'dim_0': 'time', 'dim_1': 'nj', 'dim_2': 'ni'})\n",
    "dist_sat_nt = xr.DataArray(dist_sat_nt,coords=boot.goddard_nt_seaice_conc.sel(time=timeslice,nj=latslice).coords)"
   ]
  },
  {
   "cell_type": "code",
   "execution_count": 19,
   "metadata": {},
   "outputs": [
    {
     "name": "stdout",
     "output_type": "stream",
     "text": [
      "saving to  ./sat_iceedgedistance_2016.nc\n",
      "finished saving\n",
      "saving to  ./sat_iceedgedistance_bt_2016.nc\n",
      "finished saving\n",
      "saving to  ./sat_iceedgedistance_nt_2016.nc\n",
      "finished saving\n"
     ]
    }
   ],
   "source": [
    "## satellite\n",
    "new_filename = './sat_iceedgedistance_2016.nc'\n",
    "print ('saving to ', new_filename)\n",
    "\n",
    "dist_sat.to_netcdf(path=new_filename)\n",
    "print ('finished saving')\n",
    "\n",
    "# satellite bt\n",
    "new_filename = './sat_iceedgedistance_bt_2016.nc'\n",
    "print ('saving to ', new_filename)\n",
    "\n",
    "dist_sat_bt.to_netcdf(path=new_filename)\n",
    "print ('finished saving')\n",
    "\n",
    "# satellite nt\n",
    "new_filename = './sat_iceedgedistance_nt_2016.nc'\n",
    "print ('saving to ', new_filename)\n",
    "\n",
    "dist_sat_nt.to_netcdf(path=new_filename)\n",
    "print ('finished saving')\n",
    "\n",
    "# ## DONT FORGET TO COPY FILES IN CHEYENNE TO DESIRED DIRECTORY ##"
   ]
  },
  {
   "cell_type": "code",
   "execution_count": 16,
   "metadata": {},
   "outputs": [
    {
     "name": "stderr",
     "output_type": "stream",
     "text": [
      "/glade/u/home/vcooper/miniconda3/envs/camus/lib/python3.7/site-packages/ipykernel_launcher.py:20: RuntimeWarning: invalid value encountered in less\n",
      "/glade/u/home/vcooper/miniconda3/envs/camus/lib/python3.7/site-packages/ipykernel_launcher.py:44: RuntimeWarning: invalid value encountered in greater\n",
      "/glade/u/home/vcooper/miniconda3/envs/camus/lib/python3.7/site-packages/ipykernel_launcher.py:20: RuntimeWarning: invalid value encountered in less\n",
      "/glade/u/home/vcooper/miniconda3/envs/camus/lib/python3.7/site-packages/ipykernel_launcher.py:44: RuntimeWarning: invalid value encountered in greater\n",
      "/glade/u/home/vcooper/miniconda3/envs/camus/lib/python3.7/site-packages/ipykernel_launcher.py:33: RuntimeWarning: All-NaN slice encountered\n",
      "/glade/u/home/vcooper/miniconda3/envs/camus/lib/python3.7/site-packages/ipykernel_launcher.py:36: RuntimeWarning: invalid value encountered in greater\n"
     ]
    },
    {
     "name": "stdout",
     "output_type": "stream",
     "text": [
      "CPU times: user 3min 11s, sys: 482 ms, total: 3min 12s\n",
      "Wall time: 3min 34s\n"
     ]
    }
   ],
   "source": [
    "%%time\n",
    "# calculate distances for 2019\n",
    "timeslice = slice('2019-01-01','2019-12-31')\n",
    "latslice = slice(300,384)\n",
    "\n",
    "# # UNCOMMENT THIS TO RESTART ALL\n",
    "dist_sat = [icedistance(aice) for aice in (boot.aice_d.sel(time=timeslice,nj=latslice))]\n",
    "dist_sat = (xr.DataArray(dist_sat)).rename({'dim_0': 'time', 'dim_1': 'nj', 'dim_2': 'ni'})\n",
    "dist_sat = xr.DataArray(dist_sat,coords=boot.aice_d.sel(time=timeslice,nj=latslice).coords)\n",
    "\n",
    "dist_sat_bt = [icedistance(aice) for aice in (boot.goddard_bt_seaice_conc.sel(time=timeslice,nj=latslice))]\n",
    "dist_sat_bt = (xr.DataArray(dist_sat_bt)).rename({'dim_0': 'time', 'dim_1': 'nj', 'dim_2': 'ni'})\n",
    "dist_sat_bt = xr.DataArray(dist_sat_bt,coords=boot.goddard_bt_seaice_conc.sel(time=timeslice,nj=latslice).coords)\n",
    "\n",
    "dist_sat_nt = [icedistance(aice) for aice in (boot.goddard_nt_seaice_conc.sel(time=timeslice,nj=latslice))]\n",
    "dist_sat_nt = (xr.DataArray(dist_sat_nt)).rename({'dim_0': 'time', 'dim_1': 'nj', 'dim_2': 'ni'})\n",
    "dist_sat_nt = xr.DataArray(dist_sat_nt,coords=boot.goddard_nt_seaice_conc.sel(time=timeslice,nj=latslice).coords)"
   ]
  },
  {
   "cell_type": "code",
   "execution_count": 17,
   "metadata": {},
   "outputs": [
    {
     "name": "stdout",
     "output_type": "stream",
     "text": [
      "saving to  ./sat_iceedgedistance_2019.nc\n",
      "finished saving\n",
      "saving to  ./sat_iceedgedistance_bt_2019.nc\n",
      "finished saving\n",
      "saving to  ./sat_iceedgedistance_nt_2019.nc\n",
      "finished saving\n"
     ]
    }
   ],
   "source": [
    "## satellite\n",
    "new_filename = './sat_iceedgedistance_2019.nc'\n",
    "print ('saving to ', new_filename)\n",
    "\n",
    "dist_sat.to_netcdf(path=new_filename)\n",
    "print ('finished saving')\n",
    "\n",
    "# satellite bt\n",
    "new_filename = './sat_iceedgedistance_bt_2019.nc'\n",
    "print ('saving to ', new_filename)\n",
    "\n",
    "dist_sat_bt.to_netcdf(path=new_filename)\n",
    "print ('finished saving')\n",
    "\n",
    "# satellite nt\n",
    "new_filename = './sat_iceedgedistance_nt_2019.nc'\n",
    "print ('saving to ', new_filename)\n",
    "\n",
    "dist_sat_nt.to_netcdf(path=new_filename)\n",
    "print ('finished saving')\n",
    "\n",
    "# ## DONT FORGET TO COPY FILES IN CHEYENNE TO DESIRED DIRECTORY ##"
   ]
  },
  {
   "cell_type": "markdown",
   "metadata": {},
   "source": [
    "## Calculate distances for full model run 2000-2019"
   ]
  },
  {
   "cell_type": "code",
   "execution_count": 15,
   "metadata": {},
   "outputs": [
    {
     "data": {
      "text/plain": [
       "Coordinates:\n",
       "    longitude  (nj, ni) float32 ...\n",
       "    latitude   (nj, ni) float32 ...\n",
       "  * time       (time) datetime64[ns] 2000-01-01 ... 2019-12-31T18:00:00"
      ]
     },
     "execution_count": 15,
     "metadata": {},
     "output_type": "execute_result"
    }
   ],
   "source": [
    "ww0019.coords"
   ]
  },
  {
   "cell_type": "code",
   "execution_count": 16,
   "metadata": {},
   "outputs": [
    {
     "name": "stderr",
     "output_type": "stream",
     "text": [
      "/glade/u/home/vcooper/miniconda3/envs/camus/lib/python3.7/site-packages/ipykernel_launcher.py:20: RuntimeWarning: invalid value encountered in less\n",
      "/glade/u/home/vcooper/miniconda3/envs/camus/lib/python3.7/site-packages/ipykernel_launcher.py:44: RuntimeWarning: invalid value encountered in greater\n",
      "/glade/u/home/vcooper/miniconda3/envs/camus/lib/python3.7/site-packages/ipykernel_launcher.py:20: RuntimeWarning: invalid value encountered in less\n",
      "/glade/u/home/vcooper/miniconda3/envs/camus/lib/python3.7/site-packages/ipykernel_launcher.py:44: RuntimeWarning: invalid value encountered in greater\n"
     ]
    },
    {
     "name": "stdout",
     "output_type": "stream",
     "text": [
      "CPU times: user 1h 32min 34s, sys: 5.65 s, total: 1h 32min 40s\n",
      "Wall time: 1h 33min 14s\n"
     ]
    }
   ],
   "source": [
    "%%time\n",
    "# calculate distances for model run\n",
    "# timeslice = slice('2015-01-01','2015-12-31')\n",
    "latslice = slice(300,384)\n",
    "\n",
    "dist_model = [icedistance(aice) for aice in (ww0019.ice.sel(nj=latslice))]\n",
    "dist_model = (xr.DataArray(dist_model)).rename({'dim_0': 'time', 'dim_1': 'nj', 'dim_2': 'ni'})\n",
    "dist_model = xr.DataArray(dist_model,coords=ww0019.sel(nj=latslice).coords)\n"
   ]
  },
  {
   "cell_type": "code",
   "execution_count": 17,
   "metadata": {},
   "outputs": [
    {
     "name": "stdout",
     "output_type": "stream",
     "text": [
      "saving to  ./model_iceedgedistance_2000-2019.nc\n",
      "finished saving\n"
     ]
    }
   ],
   "source": [
    "# write distances to netcdf\n",
    "# cice model\n",
    "new_filename = './model_iceedgedistance_2000-2019.nc'\n",
    "print ('saving to ', new_filename)\n",
    "\n",
    "dist_model.to_netcdf(path=new_filename)\n",
    "print ('finished saving')\n",
    "\n",
    "## DONT FORGET TO COPY FILES IN CHEYENNE TO DESIRED DIRECTORY ##"
   ]
  },
  {
   "cell_type": "code",
   "execution_count": null,
   "metadata": {},
   "outputs": [],
   "source": []
  }
 ],
 "metadata": {
  "kernelspec": {
   "display_name": "Python 3",
   "language": "python",
   "name": "python3"
  },
  "language_info": {
   "codemirror_mode": {
    "name": "ipython",
    "version": 3
   },
   "file_extension": ".py",
   "mimetype": "text/x-python",
   "name": "python",
   "nbconvert_exporter": "python",
   "pygments_lexer": "ipython3",
   "version": "3.7.5"
  }
 },
 "nbformat": 4,
 "nbformat_minor": 4
}
