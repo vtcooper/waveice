{
 "cells": [
  {
   "cell_type": "markdown",
   "metadata": {},
   "source": [
    "- A sample notebook to convert Jim Thomson's matlab structures into netcdf format\n",
    "- I tried to make it as general as possible, but can't guarantee it will work for all the different structure types!\n",
    "- It should be easy enough to convert this into a loop if you want to run it on lots of different files\n",
    "- Author: Lettie Roach, lroach@uw.edu - last updated Apr 2020\n",
    "- Edited: Vince Cooper, vcooper@uw.edu - updated Jul 2020 for SODA R0 from S Brenner\n",
    "- Edited: Vince Cooper, vcooper@uw.edu - Sep 2020 for BGOS-AWAC update from J Thomson"
   ]
  },
  {
   "cell_type": "code",
   "execution_count": 1,
   "metadata": {},
   "outputs": [],
   "source": [
    "import numpy as np\n",
    "import matplotlib as mpl\n",
    "import glob\n",
    "import os\n",
    "import matplotlib.pyplot as plt\n",
    "from scipy.io import savemat,loadmat,whosmat\n",
    "import pandas as pd\n",
    "import datetime, time\n",
    "import xarray as xr"
   ]
  },
  {
   "cell_type": "markdown",
   "metadata": {},
   "source": [
    "A function to convert matlab datenum to python datetime"
   ]
  },
  {
   "cell_type": "code",
   "execution_count": 2,
   "metadata": {},
   "outputs": [],
   "source": [
    "def matlab2datetime(matlab_datenum):\n",
    "    \n",
    "    if matlab_datenum!=matlab_datenum: #if there is NaN in the time dimension\n",
    "        mytime = 0 # this sets time to 1970, which we will then screen out below\n",
    "    else:\n",
    "        day = datetime.datetime.fromordinal(int(matlab_datenum))\n",
    "        dayfrac = datetime.timedelta(days=matlab_datenum%1) - datetime.timedelta(days=366)\n",
    "        mytime = day + dayfrac\n",
    "    return mytime"
   ]
  },
  {
   "cell_type": "markdown",
   "metadata": {},
   "source": [
    "Edit these"
   ]
  },
  {
   "cell_type": "code",
   "execution_count": 67,
   "metadata": {},
   "outputs": [],
   "source": [
    "datadir = '/glade/work/vcooper/BGEP_vtc/BGOS-AWAC_resultsv02/' # stored wave files\n",
    "os.listdir(datadir)\n",
    "fname = 'BGOS-D_AWAC.mat'"
   ]
  },
  {
   "cell_type": "markdown",
   "metadata": {},
   "source": [
    "Read in SWIFT metadata"
   ]
  },
  {
   "cell_type": "code",
   "execution_count": 14,
   "metadata": {},
   "outputs": [],
   "source": [
    "# df = pd.read_csv('SWIFT_README.csv')\n",
    "# df = df.set_index('netcdf_var').transpose()\n",
    "# attr_dict = df.to_dict()"
   ]
  },
  {
   "cell_type": "code",
   "execution_count": 68,
   "metadata": {},
   "outputs": [
    {
     "data": {
      "text/plain": [
       "['__header__', '__version__', '__globals__', 'AWAC']"
      ]
     },
     "execution_count": 68,
     "metadata": {},
     "output_type": "execute_result"
    }
   ],
   "source": [
    "struct = loadmat(datadir+fname,squeeze_me=True)\n",
    "[f for f in struct]"
   ]
  },
  {
   "cell_type": "markdown",
   "metadata": {},
   "source": [
    "Read into a pandas dataframe with python datetime format times"
   ]
  },
  {
   "cell_type": "code",
   "execution_count": 69,
   "metadata": {},
   "outputs": [],
   "source": [
    "identifier = 'AWAC' # check this makes sense with struct above, may need to edit\n",
    "my_dict = struct[identifier]"
   ]
  },
  {
   "cell_type": "code",
   "execution_count": 70,
   "metadata": {},
   "outputs": [
    {
     "data": {
      "text/plain": [
       "33900"
      ]
     },
     "execution_count": 70,
     "metadata": {},
     "output_type": "execute_result"
    }
   ],
   "source": [
    "my_dict['time'] = [matlab2datetime(tval) for tval in my_dict['time']]\n",
    "my_dict['time'] = np.array(my_dict['time'],dtype='datetime64[s]')\n",
    "\n",
    "df = pd.DataFrame(my_dict)\n",
    "df = df.set_index('time')\n",
    "len(df.index)"
   ]
  },
  {
   "cell_type": "markdown",
   "metadata": {},
   "source": [
    "Any NaNs in the time index were set to 1970-01-01, so here we screen them out"
   ]
  },
  {
   "cell_type": "code",
   "execution_count": 71,
   "metadata": {},
   "outputs": [
    {
     "name": "stdout",
     "output_type": "stream",
     "text": [
      "33900\n"
     ]
    }
   ],
   "source": [
    "df = df.loc[df.index > '2000-01-01']\n",
    "ntime = len(df.index)\n",
    "print(ntime)"
   ]
  },
  {
   "cell_type": "markdown",
   "metadata": {},
   "source": [
    "Read in 1D (dimension=time) directly "
   ]
  },
  {
   "cell_type": "code",
   "execution_count": 72,
   "metadata": {},
   "outputs": [
    {
     "data": {
      "text/html": [
       "<div>\n",
       "<style scoped>\n",
       "    .dataframe tbody tr th:only-of-type {\n",
       "        vertical-align: middle;\n",
       "    }\n",
       "\n",
       "    .dataframe tbody tr th {\n",
       "        vertical-align: top;\n",
       "    }\n",
       "\n",
       "    .dataframe thead th {\n",
       "        text-align: right;\n",
       "    }\n",
       "</style>\n",
       "<table border=\"1\" class=\"dataframe\">\n",
       "  <thead>\n",
       "    <tr style=\"text-align: right;\">\n",
       "      <th></th>\n",
       "      <th>lat</th>\n",
       "      <th>lon</th>\n",
       "      <th>icethickness</th>\n",
       "      <th>sigwaveheight</th>\n",
       "      <th>peakwaveperiod</th>\n",
       "      <th>peakwavedirT</th>\n",
       "    </tr>\n",
       "    <tr>\n",
       "      <th>time</th>\n",
       "      <th></th>\n",
       "      <th></th>\n",
       "      <th></th>\n",
       "      <th></th>\n",
       "      <th></th>\n",
       "      <th></th>\n",
       "    </tr>\n",
       "  </thead>\n",
       "  <tbody>\n",
       "    <tr>\n",
       "      <th>2013-08-09 06:31:01</th>\n",
       "      <td>74</td>\n",
       "      <td>-140</td>\n",
       "      <td>NaN</td>\n",
       "      <td>NaN</td>\n",
       "      <td>NaN</td>\n",
       "      <td>NaN</td>\n",
       "    </tr>\n",
       "    <tr>\n",
       "      <th>2013-08-09 07:31:01</th>\n",
       "      <td>74</td>\n",
       "      <td>-140</td>\n",
       "      <td>NaN</td>\n",
       "      <td>NaN</td>\n",
       "      <td>NaN</td>\n",
       "      <td>NaN</td>\n",
       "    </tr>\n",
       "    <tr>\n",
       "      <th>2013-08-09 08:31:00</th>\n",
       "      <td>74</td>\n",
       "      <td>-140</td>\n",
       "      <td>NaN</td>\n",
       "      <td>NaN</td>\n",
       "      <td>NaN</td>\n",
       "      <td>NaN</td>\n",
       "    </tr>\n",
       "    <tr>\n",
       "      <th>2013-08-09 09:31:01</th>\n",
       "      <td>74</td>\n",
       "      <td>-140</td>\n",
       "      <td>NaN</td>\n",
       "      <td>NaN</td>\n",
       "      <td>NaN</td>\n",
       "      <td>NaN</td>\n",
       "    </tr>\n",
       "    <tr>\n",
       "      <th>2013-08-09 10:31:01</th>\n",
       "      <td>74</td>\n",
       "      <td>-140</td>\n",
       "      <td>NaN</td>\n",
       "      <td>NaN</td>\n",
       "      <td>NaN</td>\n",
       "      <td>NaN</td>\n",
       "    </tr>\n",
       "    <tr>\n",
       "      <th>...</th>\n",
       "      <td>...</td>\n",
       "      <td>...</td>\n",
       "      <td>...</td>\n",
       "      <td>...</td>\n",
       "      <td>...</td>\n",
       "      <td>...</td>\n",
       "    </tr>\n",
       "    <tr>\n",
       "      <th>2018-09-04 07:31:01</th>\n",
       "      <td>74</td>\n",
       "      <td>-140</td>\n",
       "      <td>0.672034</td>\n",
       "      <td>0.964549</td>\n",
       "      <td>4.53097</td>\n",
       "      <td>NaN</td>\n",
       "    </tr>\n",
       "    <tr>\n",
       "      <th>2018-09-04 08:31:00</th>\n",
       "      <td>74</td>\n",
       "      <td>-140</td>\n",
       "      <td>0.670812</td>\n",
       "      <td>0.875104</td>\n",
       "      <td>5.38947</td>\n",
       "      <td>NaN</td>\n",
       "    </tr>\n",
       "    <tr>\n",
       "      <th>2018-09-04 09:31:01</th>\n",
       "      <td>74</td>\n",
       "      <td>-140</td>\n",
       "      <td>0.686233</td>\n",
       "      <td>0.869093</td>\n",
       "      <td>5.06931</td>\n",
       "      <td>NaN</td>\n",
       "    </tr>\n",
       "    <tr>\n",
       "      <th>2018-09-04 10:31:01</th>\n",
       "      <td>74</td>\n",
       "      <td>-140</td>\n",
       "      <td>0.689188</td>\n",
       "      <td>0.878969</td>\n",
       "      <td>5.38947</td>\n",
       "      <td>NaN</td>\n",
       "    </tr>\n",
       "    <tr>\n",
       "      <th>2018-09-04 11:31:00</th>\n",
       "      <td>74</td>\n",
       "      <td>-140</td>\n",
       "      <td>0.682349</td>\n",
       "      <td>0.811734</td>\n",
       "      <td>5.06931</td>\n",
       "      <td>NaN</td>\n",
       "    </tr>\n",
       "  </tbody>\n",
       "</table>\n",
       "<p>33900 rows × 6 columns</p>\n",
       "</div>"
      ],
      "text/plain": [
       "                    lat   lon icethickness sigwaveheight peakwaveperiod  \\\n",
       "time                                                                      \n",
       "2013-08-09 06:31:01  74  -140          NaN           NaN            NaN   \n",
       "2013-08-09 07:31:01  74  -140          NaN           NaN            NaN   \n",
       "2013-08-09 08:31:00  74  -140          NaN           NaN            NaN   \n",
       "2013-08-09 09:31:01  74  -140          NaN           NaN            NaN   \n",
       "2013-08-09 10:31:01  74  -140          NaN           NaN            NaN   \n",
       "...                  ..   ...          ...           ...            ...   \n",
       "2018-09-04 07:31:01  74  -140     0.672034      0.964549        4.53097   \n",
       "2018-09-04 08:31:00  74  -140     0.670812      0.875104        5.38947   \n",
       "2018-09-04 09:31:01  74  -140     0.686233      0.869093        5.06931   \n",
       "2018-09-04 10:31:01  74  -140     0.689188      0.878969        5.38947   \n",
       "2018-09-04 11:31:00  74  -140     0.682349      0.811734        5.06931   \n",
       "\n",
       "                    peakwavedirT  \n",
       "time                              \n",
       "2013-08-09 06:31:01          NaN  \n",
       "2013-08-09 07:31:01          NaN  \n",
       "2013-08-09 08:31:00          NaN  \n",
       "2013-08-09 09:31:01          NaN  \n",
       "2013-08-09 10:31:01          NaN  \n",
       "...                          ...  \n",
       "2018-09-04 07:31:01          NaN  \n",
       "2018-09-04 08:31:00          NaN  \n",
       "2018-09-04 09:31:01          NaN  \n",
       "2018-09-04 10:31:01          NaN  \n",
       "2018-09-04 11:31:00          NaN  \n",
       "\n",
       "[33900 rows x 6 columns]"
      ]
     },
     "execution_count": 72,
     "metadata": {},
     "output_type": "execute_result"
    }
   ],
   "source": [
    "headers = [i for i in df]\n",
    "headers_1d = [i for i in df if [type(j) for j in df[i]][-1] is not np.ndarray]\n",
    "df_1d = df[headers_1d]\n",
    "df_1d"
   ]
  },
  {
   "cell_type": "markdown",
   "metadata": {},
   "source": [
    "Possible dimensions the multidimensional data could have - if it is another dimension, you will need to edit"
   ]
  },
  {
   "cell_type": "code",
   "execution_count": 73,
   "metadata": {},
   "outputs": [],
   "source": [
    "test_dims = ['Nobs','bincenters','freq'] # determined from 'varheaders' below if need to change"
   ]
  },
  {
   "cell_type": "code",
   "execution_count": 12,
   "metadata": {},
   "outputs": [
    {
     "name": "stdout",
     "output_type": "stream",
     "text": [
      "0.0\n"
     ]
    }
   ],
   "source": [
    "## this is how I identified two issue times in BGOS-AWAC-A data\n",
    "## these are different from the rest of timestamps\n",
    "## and broke the for loop below\n",
    "# tflist = []\n",
    "# for t in range(ntime):\n",
    "#     tflist = np.append(tflist,\n",
    "#                         type(df[mult].values[t][()][0]) == type(np.nan))\n",
    "# print(tflist.sum())"
   ]
  },
  {
   "cell_type": "code",
   "execution_count": 357,
   "metadata": {},
   "outputs": [
    {
     "name": "stdout",
     "output_type": "stream",
     "text": [
      "0.0 0.0\n"
     ]
    }
   ],
   "source": [
    "# tflist[10982:].argmax()\n",
    "# these are the two problem times, so I can skip them\n",
    "# print(tflist[10981],\n",
    "#     tflist[17145+10982])"
   ]
  },
  {
   "cell_type": "markdown",
   "metadata": {},
   "source": [
    "For multidimensional data, loop around and save each variable in a list of Datasets"
   ]
  },
  {
   "cell_type": "code",
   "execution_count": 242,
   "metadata": {
    "collapsed": true,
    "jupyter": {
     "outputs_hidden": true,
     "source_hidden": true
    }
   },
   "outputs": [
    {
     "name": "stdout",
     "output_type": "stream",
     "text": [
      "['wavespectra']\n",
      "['energy', 'freq', 'a1', 'b1', 'a2', 'b2', 'check']\n",
      "freq\n",
      "<xarray.Dataset>\n",
      "Dimensions:             (freq_wavespectra: 42, time: 4036)\n",
      "Coordinates:\n",
      "  * freq_wavespectra    (freq_wavespectra) float64 0.009766 0.02148 ... 0.4902\n",
      "  * time                (time) datetime64[ns] 2018-10-09 ... 2019-09-11T22:00:00\n",
      "Data variables:\n",
      "    wavespectra_energy  (time, freq_wavespectra) float64 nan nan ... 0.003802\n",
      "    wavespectra_a1      (time, freq_wavespectra) float64 nan nan nan ... nan nan\n",
      "    wavespectra_b1      (time, freq_wavespectra) float64 nan nan nan ... nan nan\n",
      "    wavespectra_a2      (time, freq_wavespectra) float64 nan nan nan ... nan nan\n",
      "    wavespectra_b2      (time, freq_wavespectra) float64 nan nan nan ... nan nan\n",
      "    wavespectra_check   (time, freq_wavespectra) float64 nan nan nan ... nan nan\n"
     ]
    }
   ],
   "source": [
    "## ORIGINAL VERSION FROM LETTIE\n",
    "headers_multd = [h for h in headers if h not in headers_1d]\n",
    "list_ds = []\n",
    "print(headers_multd) # e.g. 'wave_spectra' - so here there is only one set of multidimensional data\n",
    "\n",
    "for mult in headers_multd:\n",
    "    nvar = len(df[mult].values[0][()]) # number of variables below this heading e.g. 'energy','freq','a1','b1'\n",
    "    ndim = len(df[mult].values[0][()][0])\n",
    "    mystr = str(df[mult].values[0][()][()].dtype)\n",
    "    varheaders = [var[3:-1] for var in mystr.split(',')[::2]]\n",
    "    print(varheaders)\n",
    "    multidimdata = np.zeros([nvar,ntime,ndim])\n",
    "    for t in range(ntime):\n",
    "        for v in range(nvar):\n",
    "            multidimdata[v,t,:] = df[mult].values[t][()][v][:]\n",
    "    \n",
    "    # identify which of these variables is a dimension\n",
    "    my_dim = ''\n",
    "    for f in range(len(test_dims)):\n",
    "        if test_dims[f] in varheaders:\n",
    "            my_dim = test_dims[f]\n",
    "    print(my_dim)\n",
    "    \n",
    "    if my_dim !='': # we found the dimension for multidimensional data\n",
    "        ind_dim = varheaders.index(my_dim)\n",
    "        varheaders.remove(my_dim)\n",
    "        my_dim_vals = multidimdata[ind_dim,0,:]\n",
    "        multidimdata = np.delete(multidimdata,ind_dim,axis=0)\n",
    "        nvar = nvar - 1\n",
    "    \n",
    "    # make a Dataset for the first variable\n",
    "    ds = xr.Dataset(\n",
    "            data_vars ={mult+'_'+varheaders[0] : xr.DataArray(multidimdata[0,:,:],dims=['time',my_dim+'_'+mult])},\n",
    "            coords={'time' : df.index, my_dim+'_'+mult : my_dim_vals})\n",
    "    \n",
    "    # if there are more variables, add these to to the Dataset\n",
    "    if nvar > 1:\n",
    "        for v in range(1,nvar):\n",
    "            ds[mult+'_'+varheaders[v]] = xr.DataArray(multidimdata[v,:,:],dims=['time',my_dim+'_'+mult])\n",
    "    list_ds.append(ds)\n",
    "       \n",
    "    print(ds)\n",
    "\n"
   ]
  },
  {
   "cell_type": "code",
   "execution_count": 74,
   "metadata": {},
   "outputs": [
    {
     "name": "stdout",
     "output_type": "stream",
     "text": [
      "['icehistogram', 'wavespectra']\n",
      "['Nobs', 'bincenters']\n",
      "bincenters\n",
      "<xarray.Dataset>\n",
      "Dimensions:                  (bincenters_icehistogram: 21, time: 33900)\n",
      "Coordinates:\n",
      "  * time                     (time) datetime64[ns] 2013-08-09T06:31:01 ... 2018-09-04T11:31:00\n",
      "  * bincenters_icehistogram  (bincenters_icehistogram) float64 0.0 0.5 ... 10.0\n",
      "Data variables:\n",
      "    icehistogram_Nobs        (time, bincenters_icehistogram) float64 nan ... 0.0\n",
      "['energy', 'freq']\n",
      "freq\n",
      "<xarray.Dataset>\n",
      "Dimensions:             (freq_wavespectra: 42, time: 33900)\n",
      "Coordinates:\n",
      "  * time                (time) datetime64[ns] 2013-08-09T06:31:01 ... 2018-09-04T11:31:00\n",
      "  * freq_wavespectra    (freq_wavespectra) float64 0.009766 0.02148 ... 0.4902\n",
      "Data variables:\n",
      "    wavespectra_energy  (time, freq_wavespectra) float64 nan nan ... 0.01678\n"
     ]
    }
   ],
   "source": [
    "headers_multd = [h for h in headers if h not in headers_1d]\n",
    "list_ds = []\n",
    "print(headers_multd) # e.g. 'wave_spectra' - so here there is only one set of multidimensional data\n",
    "\n",
    "for mult in headers_multd:\n",
    "    nvar = len(df[mult].values[0][()]) # number of variables below this heading e.g. 'energy','freq','a1','b1'\n",
    "    ndim = len(df[mult].values[0][()][0])\n",
    "    mystr = str(df[mult].values[0][()][()].dtype)\n",
    "    varheaders = [var[3:-1] for var in mystr.split(',')[::2]]\n",
    "    print(varheaders)\n",
    "    multidimdata = np.zeros([nvar,ntime,ndim])\n",
    "    for t in range(ntime):\n",
    "        for v in range(nvar):\n",
    "            if (type(df[mult].values[t][()][v]) == float): # these are the errors identified above\n",
    "                print(t)\n",
    "                multidimdata[v,t,:] = np.full_like(multidimdata[v,t,:],np.nan) # fill w nan\n",
    "            else:\n",
    "                multidimdata[v,t,:] = df[mult].values[t][()][v][:]\n",
    "    \n",
    "    # identify which of these variables is a dimension\n",
    "    my_dim = ''\n",
    "    for f in range(len(test_dims)):\n",
    "        if test_dims[f] in varheaders:\n",
    "            my_dim = test_dims[f]\n",
    "    print(my_dim)\n",
    "    \n",
    "    if my_dim !='': # we found the dimension for multidimensional data\n",
    "        ind_dim = varheaders.index(my_dim)\n",
    "        varheaders.remove(my_dim)\n",
    "        time_avoidnan = np.nanargmax(multidimdata[1,:],axis=0)[0] # get time index with actual dimension vals\n",
    "        my_dim_vals = multidimdata[ind_dim,time_avoidnan,:]\n",
    "        multidimdata = np.delete(multidimdata,ind_dim,axis=0)\n",
    "        nvar = nvar - 1\n",
    "    \n",
    "    # make a Dataset for the first variable\n",
    "    ds = xr.Dataset(\n",
    "            data_vars ={mult+'_'+varheaders[0] : xr.DataArray(multidimdata[0,:,:],dims=['time',my_dim+'_'+mult])},\n",
    "            coords={'time' : df.index, my_dim+'_'+mult : my_dim_vals})\n",
    "    \n",
    "    # if there are more variables, add these to to the Dataset\n",
    "    if nvar > 1:\n",
    "        for v in range(1,nvar):\n",
    "            ds[mult+'_'+varheaders[v]] = xr.DataArray(multidimdata[v,:,:],dims=['time',my_dim+'_'+mult])\n",
    "    list_ds.append(ds)\n",
    "       \n",
    "    print(ds)"
   ]
  },
  {
   "cell_type": "markdown",
   "metadata": {},
   "source": [
    "Combine everything - 1D plus multidimensional data"
   ]
  },
  {
   "cell_type": "code",
   "execution_count": 75,
   "metadata": {},
   "outputs": [],
   "source": [
    "list_ds.append(df_1d.to_xarray())\n",
    "allds = xr.merge(list_ds)   "
   ]
  },
  {
   "cell_type": "code",
   "execution_count": 76,
   "metadata": {},
   "outputs": [
    {
     "data": {
      "text/html": [
       "<div><svg style=\"position: absolute; width: 0; height: 0; overflow: hidden\">\n",
       "<defs>\n",
       "<symbol id=\"icon-database\" viewBox=\"0 0 32 32\">\n",
       "<title>Show/Hide data repr</title>\n",
       "<path d=\"M16 0c-8.837 0-16 2.239-16 5v4c0 2.761 7.163 5 16 5s16-2.239 16-5v-4c0-2.761-7.163-5-16-5z\"></path>\n",
       "<path d=\"M16 17c-8.837 0-16-2.239-16-5v6c0 2.761 7.163 5 16 5s16-2.239 16-5v-6c0 2.761-7.163 5-16 5z\"></path>\n",
       "<path d=\"M16 26c-8.837 0-16-2.239-16-5v6c0 2.761 7.163 5 16 5s16-2.239 16-5v-6c0 2.761-7.163 5-16 5z\"></path>\n",
       "</symbol>\n",
       "<symbol id=\"icon-file-text2\" viewBox=\"0 0 32 32\">\n",
       "<title>Show/Hide attributes</title>\n",
       "<path d=\"M28.681 7.159c-0.694-0.947-1.662-2.053-2.724-3.116s-2.169-2.030-3.116-2.724c-1.612-1.182-2.393-1.319-2.841-1.319h-15.5c-1.378 0-2.5 1.121-2.5 2.5v27c0 1.378 1.122 2.5 2.5 2.5h23c1.378 0 2.5-1.122 2.5-2.5v-19.5c0-0.448-0.137-1.23-1.319-2.841zM24.543 5.457c0.959 0.959 1.712 1.825 2.268 2.543h-4.811v-4.811c0.718 0.556 1.584 1.309 2.543 2.268zM28 29.5c0 0.271-0.229 0.5-0.5 0.5h-23c-0.271 0-0.5-0.229-0.5-0.5v-27c0-0.271 0.229-0.5 0.5-0.5 0 0 15.499-0 15.5 0v7c0 0.552 0.448 1 1 1h7v19.5z\"></path>\n",
       "<path d=\"M23 26h-14c-0.552 0-1-0.448-1-1s0.448-1 1-1h14c0.552 0 1 0.448 1 1s-0.448 1-1 1z\"></path>\n",
       "<path d=\"M23 22h-14c-0.552 0-1-0.448-1-1s0.448-1 1-1h14c0.552 0 1 0.448 1 1s-0.448 1-1 1z\"></path>\n",
       "<path d=\"M23 18h-14c-0.552 0-1-0.448-1-1s0.448-1 1-1h14c0.552 0 1 0.448 1 1s-0.448 1-1 1z\"></path>\n",
       "</symbol>\n",
       "</defs>\n",
       "</svg>\n",
       "<style>/* CSS stylesheet for displaying xarray objects in jupyterlab.\n",
       " *\n",
       " */\n",
       "\n",
       ":root {\n",
       "  --xr-font-color0: var(--jp-content-font-color0, rgba(0, 0, 0, 1));\n",
       "  --xr-font-color2: var(--jp-content-font-color2, rgba(0, 0, 0, 0.54));\n",
       "  --xr-font-color3: var(--jp-content-font-color3, rgba(0, 0, 0, 0.38));\n",
       "  --xr-border-color: var(--jp-border-color2, #e0e0e0);\n",
       "  --xr-disabled-color: var(--jp-layout-color3, #bdbdbd);\n",
       "  --xr-background-color: var(--jp-layout-color0, white);\n",
       "  --xr-background-color-row-even: var(--jp-layout-color1, white);\n",
       "  --xr-background-color-row-odd: var(--jp-layout-color2, #eeeeee);\n",
       "}\n",
       "\n",
       ".xr-wrap {\n",
       "  min-width: 300px;\n",
       "  max-width: 700px;\n",
       "}\n",
       "\n",
       ".xr-header {\n",
       "  padding-top: 6px;\n",
       "  padding-bottom: 6px;\n",
       "  margin-bottom: 4px;\n",
       "  border-bottom: solid 1px var(--xr-border-color);\n",
       "}\n",
       "\n",
       ".xr-header > div,\n",
       ".xr-header > ul {\n",
       "  display: inline;\n",
       "  margin-top: 0;\n",
       "  margin-bottom: 0;\n",
       "}\n",
       "\n",
       ".xr-obj-type,\n",
       ".xr-array-name {\n",
       "  margin-left: 2px;\n",
       "  margin-right: 10px;\n",
       "}\n",
       "\n",
       ".xr-obj-type {\n",
       "  color: var(--xr-font-color2);\n",
       "}\n",
       "\n",
       ".xr-sections {\n",
       "  padding-left: 0 !important;\n",
       "  display: grid;\n",
       "  grid-template-columns: 150px auto auto 1fr 20px 20px;\n",
       "}\n",
       "\n",
       ".xr-section-item {\n",
       "  display: contents;\n",
       "}\n",
       "\n",
       ".xr-section-item input {\n",
       "  display: none;\n",
       "}\n",
       "\n",
       ".xr-section-item input + label {\n",
       "  color: var(--xr-disabled-color);\n",
       "}\n",
       "\n",
       ".xr-section-item input:enabled + label {\n",
       "  cursor: pointer;\n",
       "  color: var(--xr-font-color2);\n",
       "}\n",
       "\n",
       ".xr-section-item input:enabled + label:hover {\n",
       "  color: var(--xr-font-color0);\n",
       "}\n",
       "\n",
       ".xr-section-summary {\n",
       "  grid-column: 1;\n",
       "  color: var(--xr-font-color2);\n",
       "  font-weight: 500;\n",
       "}\n",
       "\n",
       ".xr-section-summary > span {\n",
       "  display: inline-block;\n",
       "  padding-left: 0.5em;\n",
       "}\n",
       "\n",
       ".xr-section-summary-in:disabled + label {\n",
       "  color: var(--xr-font-color2);\n",
       "}\n",
       "\n",
       ".xr-section-summary-in + label:before {\n",
       "  display: inline-block;\n",
       "  content: '►';\n",
       "  font-size: 11px;\n",
       "  width: 15px;\n",
       "  text-align: center;\n",
       "}\n",
       "\n",
       ".xr-section-summary-in:disabled + label:before {\n",
       "  color: var(--xr-disabled-color);\n",
       "}\n",
       "\n",
       ".xr-section-summary-in:checked + label:before {\n",
       "  content: '▼';\n",
       "}\n",
       "\n",
       ".xr-section-summary-in:checked + label > span {\n",
       "  display: none;\n",
       "}\n",
       "\n",
       ".xr-section-summary,\n",
       ".xr-section-inline-details {\n",
       "  padding-top: 4px;\n",
       "  padding-bottom: 4px;\n",
       "}\n",
       "\n",
       ".xr-section-inline-details {\n",
       "  grid-column: 2 / -1;\n",
       "}\n",
       "\n",
       ".xr-section-details {\n",
       "  display: none;\n",
       "  grid-column: 1 / -1;\n",
       "  margin-bottom: 5px;\n",
       "}\n",
       "\n",
       ".xr-section-summary-in:checked ~ .xr-section-details {\n",
       "  display: contents;\n",
       "}\n",
       "\n",
       ".xr-array-wrap {\n",
       "  grid-column: 1 / -1;\n",
       "  display: grid;\n",
       "  grid-template-columns: 20px auto;\n",
       "}\n",
       "\n",
       ".xr-array-wrap > label {\n",
       "  grid-column: 1;\n",
       "  vertical-align: top;\n",
       "}\n",
       "\n",
       ".xr-preview {\n",
       "  color: var(--xr-font-color3);\n",
       "}\n",
       "\n",
       ".xr-array-preview,\n",
       ".xr-array-data {\n",
       "  padding: 0 5px !important;\n",
       "  grid-column: 2;\n",
       "}\n",
       "\n",
       ".xr-array-data,\n",
       ".xr-array-in:checked ~ .xr-array-preview {\n",
       "  display: none;\n",
       "}\n",
       "\n",
       ".xr-array-in:checked ~ .xr-array-data,\n",
       ".xr-array-preview {\n",
       "  display: inline-block;\n",
       "}\n",
       "\n",
       ".xr-dim-list {\n",
       "  display: inline-block !important;\n",
       "  list-style: none;\n",
       "  padding: 0 !important;\n",
       "  margin: 0;\n",
       "}\n",
       "\n",
       ".xr-dim-list li {\n",
       "  display: inline-block;\n",
       "  padding: 0;\n",
       "  margin: 0;\n",
       "}\n",
       "\n",
       ".xr-dim-list:before {\n",
       "  content: '(';\n",
       "}\n",
       "\n",
       ".xr-dim-list:after {\n",
       "  content: ')';\n",
       "}\n",
       "\n",
       ".xr-dim-list li:not(:last-child):after {\n",
       "  content: ',';\n",
       "  padding-right: 5px;\n",
       "}\n",
       "\n",
       ".xr-has-index {\n",
       "  font-weight: bold;\n",
       "}\n",
       "\n",
       ".xr-var-list,\n",
       ".xr-var-item {\n",
       "  display: contents;\n",
       "}\n",
       "\n",
       ".xr-var-item > div,\n",
       ".xr-var-item label,\n",
       ".xr-var-item > .xr-var-name span {\n",
       "  background-color: var(--xr-background-color-row-even);\n",
       "  margin-bottom: 0;\n",
       "}\n",
       "\n",
       ".xr-var-item > .xr-var-name:hover span {\n",
       "  padding-right: 5px;\n",
       "}\n",
       "\n",
       ".xr-var-list > li:nth-child(odd) > div,\n",
       ".xr-var-list > li:nth-child(odd) > label,\n",
       ".xr-var-list > li:nth-child(odd) > .xr-var-name span {\n",
       "  background-color: var(--xr-background-color-row-odd);\n",
       "}\n",
       "\n",
       ".xr-var-name {\n",
       "  grid-column: 1;\n",
       "}\n",
       "\n",
       ".xr-var-dims {\n",
       "  grid-column: 2;\n",
       "}\n",
       "\n",
       ".xr-var-dtype {\n",
       "  grid-column: 3;\n",
       "  text-align: right;\n",
       "  color: var(--xr-font-color2);\n",
       "}\n",
       "\n",
       ".xr-var-preview {\n",
       "  grid-column: 4;\n",
       "}\n",
       "\n",
       ".xr-var-name,\n",
       ".xr-var-dims,\n",
       ".xr-var-dtype,\n",
       ".xr-preview,\n",
       ".xr-attrs dt {\n",
       "  white-space: nowrap;\n",
       "  overflow: hidden;\n",
       "  text-overflow: ellipsis;\n",
       "  padding-right: 10px;\n",
       "}\n",
       "\n",
       ".xr-var-name:hover,\n",
       ".xr-var-dims:hover,\n",
       ".xr-var-dtype:hover,\n",
       ".xr-attrs dt:hover {\n",
       "  overflow: visible;\n",
       "  width: auto;\n",
       "  z-index: 1;\n",
       "}\n",
       "\n",
       ".xr-var-attrs,\n",
       ".xr-var-data {\n",
       "  display: none;\n",
       "  background-color: var(--xr-background-color) !important;\n",
       "  padding-bottom: 5px !important;\n",
       "}\n",
       "\n",
       ".xr-var-attrs-in:checked ~ .xr-var-attrs,\n",
       ".xr-var-data-in:checked ~ .xr-var-data {\n",
       "  display: block;\n",
       "}\n",
       "\n",
       ".xr-var-data > table {\n",
       "  float: right;\n",
       "}\n",
       "\n",
       ".xr-var-name span,\n",
       ".xr-var-data,\n",
       ".xr-attrs {\n",
       "  padding-left: 25px !important;\n",
       "}\n",
       "\n",
       ".xr-attrs,\n",
       ".xr-var-attrs,\n",
       ".xr-var-data {\n",
       "  grid-column: 1 / -1;\n",
       "}\n",
       "\n",
       "dl.xr-attrs {\n",
       "  padding: 0;\n",
       "  margin: 0;\n",
       "  display: grid;\n",
       "  grid-template-columns: 125px auto;\n",
       "}\n",
       "\n",
       ".xr-attrs dt, dd {\n",
       "  padding: 0;\n",
       "  margin: 0;\n",
       "  float: left;\n",
       "  padding-right: 10px;\n",
       "  width: auto;\n",
       "}\n",
       "\n",
       ".xr-attrs dt {\n",
       "  font-weight: normal;\n",
       "  grid-column: 1;\n",
       "}\n",
       "\n",
       ".xr-attrs dt:hover span {\n",
       "  display: inline-block;\n",
       "  background: var(--xr-background-color);\n",
       "  padding-right: 10px;\n",
       "}\n",
       "\n",
       ".xr-attrs dd {\n",
       "  grid-column: 2;\n",
       "  white-space: pre-wrap;\n",
       "  word-break: break-all;\n",
       "}\n",
       "\n",
       ".xr-icon-database,\n",
       ".xr-icon-file-text2 {\n",
       "  display: inline-block;\n",
       "  vertical-align: middle;\n",
       "  width: 1em;\n",
       "  height: 1.5em !important;\n",
       "  stroke-width: 0;\n",
       "  stroke: currentColor;\n",
       "  fill: currentColor;\n",
       "}\n",
       "</style><div class='xr-wrap'><div class='xr-header'><div class='xr-obj-type'>xarray.Dataset</div></div><ul class='xr-sections'><li class='xr-section-item'><input id='section-e7fa4de6-aefa-496e-9d90-ed3fbe0f1d5a' class='xr-section-summary-in' type='checkbox' disabled ><label for='section-e7fa4de6-aefa-496e-9d90-ed3fbe0f1d5a' class='xr-section-summary'  title='Expand/collapse section'>Dimensions:</label><div class='xr-section-inline-details'><ul class='xr-dim-list'><li><span class='xr-has-index'>bincenters_icehistogram</span>: 21</li><li><span class='xr-has-index'>freq_wavespectra</span>: 42</li><li><span class='xr-has-index'>time</span>: 33900</li></ul></div><div class='xr-section-details'></div></li><li class='xr-section-item'><input id='section-0cf71779-d5c5-4bbc-9ad7-6442130fd85a' class='xr-section-summary-in' type='checkbox'  checked><label for='section-0cf71779-d5c5-4bbc-9ad7-6442130fd85a' class='xr-section-summary' >Coordinates: <span>(3)</span></label><div class='xr-section-inline-details'></div><div class='xr-section-details'><ul class='xr-var-list'><li class='xr-var-item'><div class='xr-var-name'><span class='xr-has-index'>time</span></div><div class='xr-var-dims'>(time)</div><div class='xr-var-dtype'>datetime64[ns]</div><div class='xr-var-preview xr-preview'>2013-08-09T06:31:01 ... 2018-09-04T11:31:00</div><input id='attrs-413e6d59-3092-4ba3-86b7-8fa5ffea66a7' class='xr-var-attrs-in' type='checkbox' disabled><label for='attrs-413e6d59-3092-4ba3-86b7-8fa5ffea66a7' title='Show/Hide attributes'><svg class='icon xr-icon-file-text2'><use xlink:href='#icon-file-text2'></use></svg></label><input id='data-1ca61945-4dde-4e1a-a179-5508143cdadf' class='xr-var-data-in' type='checkbox'><label for='data-1ca61945-4dde-4e1a-a179-5508143cdadf' title='Show/Hide data repr'><svg class='icon xr-icon-database'><use xlink:href='#icon-database'></use></svg></label><div class='xr-var-attrs'><dl class='xr-attrs'></dl></div><pre class='xr-var-data'>array([&#x27;2013-08-09T06:31:01.000000000&#x27;, &#x27;2013-08-09T07:31:01.000000000&#x27;,\n",
       "       &#x27;2013-08-09T08:31:00.000000000&#x27;, ..., &#x27;2018-09-04T09:31:01.000000000&#x27;,\n",
       "       &#x27;2018-09-04T10:31:01.000000000&#x27;, &#x27;2018-09-04T11:31:00.000000000&#x27;],\n",
       "      dtype=&#x27;datetime64[ns]&#x27;)</pre></li><li class='xr-var-item'><div class='xr-var-name'><span class='xr-has-index'>bincenters_icehistogram</span></div><div class='xr-var-dims'>(bincenters_icehistogram)</div><div class='xr-var-dtype'>float64</div><div class='xr-var-preview xr-preview'>0.0 0.5 1.0 1.5 ... 9.0 9.5 10.0</div><input id='attrs-7717e2b9-c631-4769-9b48-424183c757e5' class='xr-var-attrs-in' type='checkbox' disabled><label for='attrs-7717e2b9-c631-4769-9b48-424183c757e5' title='Show/Hide attributes'><svg class='icon xr-icon-file-text2'><use xlink:href='#icon-file-text2'></use></svg></label><input id='data-8edad82d-4743-4abd-ae89-4ee6bdafff6d' class='xr-var-data-in' type='checkbox'><label for='data-8edad82d-4743-4abd-ae89-4ee6bdafff6d' title='Show/Hide data repr'><svg class='icon xr-icon-database'><use xlink:href='#icon-database'></use></svg></label><div class='xr-var-attrs'><dl class='xr-attrs'></dl></div><pre class='xr-var-data'>array([ 0. ,  0.5,  1. ,  1.5,  2. ,  2.5,  3. ,  3.5,  4. ,  4.5,  5. ,  5.5,\n",
       "        6. ,  6.5,  7. ,  7.5,  8. ,  8.5,  9. ,  9.5, 10. ])</pre></li><li class='xr-var-item'><div class='xr-var-name'><span class='xr-has-index'>freq_wavespectra</span></div><div class='xr-var-dims'>(freq_wavespectra)</div><div class='xr-var-dtype'>float64</div><div class='xr-var-preview xr-preview'>0.009766 0.02148 ... 0.4785 0.4902</div><input id='attrs-0194e714-3325-4218-8d97-f1b406577e24' class='xr-var-attrs-in' type='checkbox' disabled><label for='attrs-0194e714-3325-4218-8d97-f1b406577e24' title='Show/Hide attributes'><svg class='icon xr-icon-file-text2'><use xlink:href='#icon-file-text2'></use></svg></label><input id='data-5b0d5f20-c9de-4bf2-affa-39024cb62d19' class='xr-var-data-in' type='checkbox'><label for='data-5b0d5f20-c9de-4bf2-affa-39024cb62d19' title='Show/Hide data repr'><svg class='icon xr-icon-database'><use xlink:href='#icon-database'></use></svg></label><div class='xr-var-attrs'><dl class='xr-attrs'></dl></div><pre class='xr-var-data'>array([0.009766, 0.021484, 0.033203, 0.044922, 0.056641, 0.068359, 0.080078,\n",
       "       0.091797, 0.103516, 0.115234, 0.126953, 0.138672, 0.150391, 0.162109,\n",
       "       0.173828, 0.185547, 0.197266, 0.208984, 0.220703, 0.232422, 0.244141,\n",
       "       0.255859, 0.267578, 0.279297, 0.291016, 0.302734, 0.314453, 0.326172,\n",
       "       0.337891, 0.349609, 0.361328, 0.373047, 0.384766, 0.396484, 0.408203,\n",
       "       0.419922, 0.431641, 0.443359, 0.455078, 0.466797, 0.478516, 0.490234])</pre></li></ul></div></li><li class='xr-section-item'><input id='section-d534e0da-2ab2-4643-9b6b-65a8fad012a0' class='xr-section-summary-in' type='checkbox'  checked><label for='section-d534e0da-2ab2-4643-9b6b-65a8fad012a0' class='xr-section-summary' >Data variables: <span>(8)</span></label><div class='xr-section-inline-details'></div><div class='xr-section-details'><ul class='xr-var-list'><li class='xr-var-item'><div class='xr-var-name'><span>icehistogram_Nobs</span></div><div class='xr-var-dims'>(time, bincenters_icehistogram)</div><div class='xr-var-dtype'>float64</div><div class='xr-var-preview xr-preview'>nan nan nan nan ... 0.0 0.0 0.0 0.0</div><input id='attrs-78e888b7-1ce1-427b-8ee7-49461ba8cf50' class='xr-var-attrs-in' type='checkbox' disabled><label for='attrs-78e888b7-1ce1-427b-8ee7-49461ba8cf50' title='Show/Hide attributes'><svg class='icon xr-icon-file-text2'><use xlink:href='#icon-file-text2'></use></svg></label><input id='data-ca85fcbd-2cf7-4659-94a5-d5b4b0ae2e38' class='xr-var-data-in' type='checkbox'><label for='data-ca85fcbd-2cf7-4659-94a5-d5b4b0ae2e38' title='Show/Hide data repr'><svg class='icon xr-icon-database'><use xlink:href='#icon-database'></use></svg></label><div class='xr-var-attrs'><dl class='xr-attrs'></dl></div><pre class='xr-var-data'>array([[ nan,  nan,  nan, ...,  nan,  nan,  nan],\n",
       "       [ nan,  nan,  nan, ...,  nan,  nan,  nan],\n",
       "       [ nan,  nan,  nan, ...,  nan,  nan,  nan],\n",
       "       ...,\n",
       "       [ 27., 594., 400., ...,   0.,   0.,   0.],\n",
       "       [ 30., 582., 410., ...,   0.,   0.,   0.],\n",
       "       [ 22., 620., 382., ...,   0.,   0.,   0.]])</pre></li><li class='xr-var-item'><div class='xr-var-name'><span>wavespectra_energy</span></div><div class='xr-var-dims'>(time, freq_wavespectra)</div><div class='xr-var-dtype'>float64</div><div class='xr-var-preview xr-preview'>nan nan nan ... 0.01321 0.01678</div><input id='attrs-d3eaed0e-6ebf-4c1f-9923-a7966fab0269' class='xr-var-attrs-in' type='checkbox' disabled><label for='attrs-d3eaed0e-6ebf-4c1f-9923-a7966fab0269' title='Show/Hide attributes'><svg class='icon xr-icon-file-text2'><use xlink:href='#icon-file-text2'></use></svg></label><input id='data-b542643f-bb99-44da-9267-5ed9d7adc99a' class='xr-var-data-in' type='checkbox'><label for='data-b542643f-bb99-44da-9267-5ed9d7adc99a' title='Show/Hide data repr'><svg class='icon xr-icon-database'><use xlink:href='#icon-database'></use></svg></label><div class='xr-var-attrs'><dl class='xr-attrs'></dl></div><pre class='xr-var-data'>array([[       nan,        nan,        nan, ...,        nan,        nan,\n",
       "               nan],\n",
       "       [       nan,        nan,        nan, ...,        nan,        nan,\n",
       "               nan],\n",
       "       [       nan,        nan,        nan, ...,        nan,        nan,\n",
       "               nan],\n",
       "       ...,\n",
       "       [0.        , 0.        , 0.        , ..., 0.0214319 , 0.02219893,\n",
       "        0.02584273],\n",
       "       [0.        , 0.        , 0.        , ..., 0.01953479, 0.02587762,\n",
       "        0.01670428],\n",
       "       [0.        , 0.        , 0.        , ..., 0.01396026, 0.01320724,\n",
       "        0.0167845 ]])</pre></li><li class='xr-var-item'><div class='xr-var-name'><span>lat</span></div><div class='xr-var-dims'>(time)</div><div class='xr-var-dtype'>object</div><div class='xr-var-preview xr-preview'>74 74 74 74 74 ... 74 74 74 74 74</div><input id='attrs-6f10f77b-706f-4b99-894a-6fadc1491f48' class='xr-var-attrs-in' type='checkbox' disabled><label for='attrs-6f10f77b-706f-4b99-894a-6fadc1491f48' title='Show/Hide attributes'><svg class='icon xr-icon-file-text2'><use xlink:href='#icon-file-text2'></use></svg></label><input id='data-f7934e52-a827-4c59-a1ec-c161b865dbeb' class='xr-var-data-in' type='checkbox'><label for='data-f7934e52-a827-4c59-a1ec-c161b865dbeb' title='Show/Hide data repr'><svg class='icon xr-icon-database'><use xlink:href='#icon-database'></use></svg></label><div class='xr-var-attrs'><dl class='xr-attrs'></dl></div><pre class='xr-var-data'>array([74, 74, 74, ..., 74, 74, 74], dtype=object)</pre></li><li class='xr-var-item'><div class='xr-var-name'><span>lon</span></div><div class='xr-var-dims'>(time)</div><div class='xr-var-dtype'>object</div><div class='xr-var-preview xr-preview'>-140 -140 -140 ... -140 -140 -140</div><input id='attrs-3efe919c-3cae-4c73-b886-bb9a79ce248a' class='xr-var-attrs-in' type='checkbox' disabled><label for='attrs-3efe919c-3cae-4c73-b886-bb9a79ce248a' title='Show/Hide attributes'><svg class='icon xr-icon-file-text2'><use xlink:href='#icon-file-text2'></use></svg></label><input id='data-24c30858-a869-4d86-98d2-5b821d71bdb2' class='xr-var-data-in' type='checkbox'><label for='data-24c30858-a869-4d86-98d2-5b821d71bdb2' title='Show/Hide data repr'><svg class='icon xr-icon-database'><use xlink:href='#icon-database'></use></svg></label><div class='xr-var-attrs'><dl class='xr-attrs'></dl></div><pre class='xr-var-data'>array([-140, -140, -140, ..., -140, -140, -140], dtype=object)</pre></li><li class='xr-var-item'><div class='xr-var-name'><span>icethickness</span></div><div class='xr-var-dims'>(time)</div><div class='xr-var-dtype'>object</div><div class='xr-var-preview xr-preview'>nan nan nan ... 0.6892 0.6823</div><input id='attrs-ce26dd48-dbfa-48a9-b88b-4c4aa72cdda6' class='xr-var-attrs-in' type='checkbox' disabled><label for='attrs-ce26dd48-dbfa-48a9-b88b-4c4aa72cdda6' title='Show/Hide attributes'><svg class='icon xr-icon-file-text2'><use xlink:href='#icon-file-text2'></use></svg></label><input id='data-e6e219f3-6a45-4f92-8a58-0e05c0d67303' class='xr-var-data-in' type='checkbox'><label for='data-e6e219f3-6a45-4f92-8a58-0e05c0d67303' title='Show/Hide data repr'><svg class='icon xr-icon-database'><use xlink:href='#icon-database'></use></svg></label><div class='xr-var-attrs'><dl class='xr-attrs'></dl></div><pre class='xr-var-data'>array([nan, nan, nan, ..., 0.6862329101562281, 0.6891879882811764,\n",
       "       0.6823491210937789], dtype=object)</pre></li><li class='xr-var-item'><div class='xr-var-name'><span>sigwaveheight</span></div><div class='xr-var-dims'>(time)</div><div class='xr-var-dtype'>object</div><div class='xr-var-preview xr-preview'>nan nan nan ... 0.8691 0.879 0.8117</div><input id='attrs-3e9340ba-dcc4-4d17-99d9-018d1e946ae6' class='xr-var-attrs-in' type='checkbox' disabled><label for='attrs-3e9340ba-dcc4-4d17-99d9-018d1e946ae6' title='Show/Hide attributes'><svg class='icon xr-icon-file-text2'><use xlink:href='#icon-file-text2'></use></svg></label><input id='data-c97c5f8d-4792-4326-a403-e5040c2914ed' class='xr-var-data-in' type='checkbox'><label for='data-c97c5f8d-4792-4326-a403-e5040c2914ed' title='Show/Hide data repr'><svg class='icon xr-icon-database'><use xlink:href='#icon-database'></use></svg></label><div class='xr-var-attrs'><dl class='xr-attrs'></dl></div><pre class='xr-var-data'>array([nan, nan, nan, ..., 0.8690932921445752, 0.8789687362093497,\n",
       "       0.811733989750346], dtype=object)</pre></li><li class='xr-var-item'><div class='xr-var-name'><span>peakwaveperiod</span></div><div class='xr-var-dims'>(time)</div><div class='xr-var-dtype'>object</div><div class='xr-var-preview xr-preview'>nan nan nan ... 5.069 5.389 5.069</div><input id='attrs-41b58691-379e-4ecc-a025-be7e67f673ce' class='xr-var-attrs-in' type='checkbox' disabled><label for='attrs-41b58691-379e-4ecc-a025-be7e67f673ce' title='Show/Hide attributes'><svg class='icon xr-icon-file-text2'><use xlink:href='#icon-file-text2'></use></svg></label><input id='data-78660c10-322f-4a54-b23c-4bd81f09a2d8' class='xr-var-data-in' type='checkbox'><label for='data-78660c10-322f-4a54-b23c-4bd81f09a2d8' title='Show/Hide data repr'><svg class='icon xr-icon-database'><use xlink:href='#icon-database'></use></svg></label><div class='xr-var-attrs'><dl class='xr-attrs'></dl></div><pre class='xr-var-data'>array([nan, nan, nan, ..., 5.069306930693069, 5.389473684210526,\n",
       "       5.069306930693069], dtype=object)</pre></li><li class='xr-var-item'><div class='xr-var-name'><span>peakwavedirT</span></div><div class='xr-var-dims'>(time)</div><div class='xr-var-dtype'>object</div><div class='xr-var-preview xr-preview'>nan nan nan nan ... nan nan nan nan</div><input id='attrs-07d11da5-1dbd-456c-8410-e7202b957a78' class='xr-var-attrs-in' type='checkbox' disabled><label for='attrs-07d11da5-1dbd-456c-8410-e7202b957a78' title='Show/Hide attributes'><svg class='icon xr-icon-file-text2'><use xlink:href='#icon-file-text2'></use></svg></label><input id='data-281fe262-c2c7-488a-8881-4c219f9b642b' class='xr-var-data-in' type='checkbox'><label for='data-281fe262-c2c7-488a-8881-4c219f9b642b' title='Show/Hide data repr'><svg class='icon xr-icon-database'><use xlink:href='#icon-database'></use></svg></label><div class='xr-var-attrs'><dl class='xr-attrs'></dl></div><pre class='xr-var-data'>array([nan, nan, nan, ..., nan, nan, nan], dtype=object)</pre></li></ul></div></li><li class='xr-section-item'><input id='section-5e89817b-8bcb-4c5a-bfd6-b1cccaf11ebd' class='xr-section-summary-in' type='checkbox' disabled ><label for='section-5e89817b-8bcb-4c5a-bfd6-b1cccaf11ebd' class='xr-section-summary'  title='Expand/collapse section'>Attributes: <span>(0)</span></label><div class='xr-section-inline-details'></div><div class='xr-section-details'><dl class='xr-attrs'></dl></div></li></ul></div></div>"
      ],
      "text/plain": [
       "<xarray.Dataset>\n",
       "Dimensions:                  (bincenters_icehistogram: 21, freq_wavespectra: 42, time: 33900)\n",
       "Coordinates:\n",
       "  * time                     (time) datetime64[ns] 2013-08-09T06:31:01 ... 2018-09-04T11:31:00\n",
       "  * bincenters_icehistogram  (bincenters_icehistogram) float64 0.0 0.5 ... 10.0\n",
       "  * freq_wavespectra         (freq_wavespectra) float64 0.009766 ... 0.4902\n",
       "Data variables:\n",
       "    icehistogram_Nobs        (time, bincenters_icehistogram) float64 nan ... 0.0\n",
       "    wavespectra_energy       (time, freq_wavespectra) float64 nan ... 0.01678\n",
       "    lat                      (time) object 74 74 74 74 74 74 ... 74 74 74 74 74\n",
       "    lon                      (time) object -140 -140 -140 ... -140 -140 -140\n",
       "    icethickness             (time) object nan nan nan ... 0.6862 0.6892 0.6823\n",
       "    sigwaveheight            (time) object nan nan nan ... 0.8691 0.879 0.8117\n",
       "    peakwaveperiod           (time) object nan nan nan nan ... 5.069 5.389 5.069\n",
       "    peakwavedirT             (time) object nan nan nan nan ... nan nan nan nan"
      ]
     },
     "execution_count": 76,
     "metadata": {},
     "output_type": "execute_result"
    }
   ],
   "source": [
    "allds"
   ]
  },
  {
   "cell_type": "markdown",
   "metadata": {},
   "source": [
    "Add metadata\n",
    "(pull from SWIFT data)"
   ]
  },
  {
   "cell_type": "code",
   "execution_count": 77,
   "metadata": {},
   "outputs": [
    {
     "name": "stdout",
     "output_type": "stream",
     "text": [
      "icehistogram_Nobs False\n",
      "wavespectra_energy True\n",
      "lat True\n",
      "lon True\n",
      "icethickness False\n",
      "sigwaveheight True\n",
      "peakwaveperiod True\n",
      "peakwavedirT True\n"
     ]
    }
   ],
   "source": [
    "sodaA = xr.open_dataset('/glade/work/vcooper/BGEP_vtc/SODA/2020-07-27_R0/SODA_A_sigWaves.mat_converted_2020-07-27.nc')\n",
    "for var in allds:\n",
    "    print(var, var in sodaA)"
   ]
  },
  {
   "cell_type": "code",
   "execution_count": 78,
   "metadata": {},
   "outputs": [
    {
     "data": {
      "text/html": [
       "<div><svg style=\"position: absolute; width: 0; height: 0; overflow: hidden\">\n",
       "<defs>\n",
       "<symbol id=\"icon-database\" viewBox=\"0 0 32 32\">\n",
       "<title>Show/Hide data repr</title>\n",
       "<path d=\"M16 0c-8.837 0-16 2.239-16 5v4c0 2.761 7.163 5 16 5s16-2.239 16-5v-4c0-2.761-7.163-5-16-5z\"></path>\n",
       "<path d=\"M16 17c-8.837 0-16-2.239-16-5v6c0 2.761 7.163 5 16 5s16-2.239 16-5v-6c0 2.761-7.163 5-16 5z\"></path>\n",
       "<path d=\"M16 26c-8.837 0-16-2.239-16-5v6c0 2.761 7.163 5 16 5s16-2.239 16-5v-6c0 2.761-7.163 5-16 5z\"></path>\n",
       "</symbol>\n",
       "<symbol id=\"icon-file-text2\" viewBox=\"0 0 32 32\">\n",
       "<title>Show/Hide attributes</title>\n",
       "<path d=\"M28.681 7.159c-0.694-0.947-1.662-2.053-2.724-3.116s-2.169-2.030-3.116-2.724c-1.612-1.182-2.393-1.319-2.841-1.319h-15.5c-1.378 0-2.5 1.121-2.5 2.5v27c0 1.378 1.122 2.5 2.5 2.5h23c1.378 0 2.5-1.122 2.5-2.5v-19.5c0-0.448-0.137-1.23-1.319-2.841zM24.543 5.457c0.959 0.959 1.712 1.825 2.268 2.543h-4.811v-4.811c0.718 0.556 1.584 1.309 2.543 2.268zM28 29.5c0 0.271-0.229 0.5-0.5 0.5h-23c-0.271 0-0.5-0.229-0.5-0.5v-27c0-0.271 0.229-0.5 0.5-0.5 0 0 15.499-0 15.5 0v7c0 0.552 0.448 1 1 1h7v19.5z\"></path>\n",
       "<path d=\"M23 26h-14c-0.552 0-1-0.448-1-1s0.448-1 1-1h14c0.552 0 1 0.448 1 1s-0.448 1-1 1z\"></path>\n",
       "<path d=\"M23 22h-14c-0.552 0-1-0.448-1-1s0.448-1 1-1h14c0.552 0 1 0.448 1 1s-0.448 1-1 1z\"></path>\n",
       "<path d=\"M23 18h-14c-0.552 0-1-0.448-1-1s0.448-1 1-1h14c0.552 0 1 0.448 1 1s-0.448 1-1 1z\"></path>\n",
       "</symbol>\n",
       "</defs>\n",
       "</svg>\n",
       "<style>/* CSS stylesheet for displaying xarray objects in jupyterlab.\n",
       " *\n",
       " */\n",
       "\n",
       ":root {\n",
       "  --xr-font-color0: var(--jp-content-font-color0, rgba(0, 0, 0, 1));\n",
       "  --xr-font-color2: var(--jp-content-font-color2, rgba(0, 0, 0, 0.54));\n",
       "  --xr-font-color3: var(--jp-content-font-color3, rgba(0, 0, 0, 0.38));\n",
       "  --xr-border-color: var(--jp-border-color2, #e0e0e0);\n",
       "  --xr-disabled-color: var(--jp-layout-color3, #bdbdbd);\n",
       "  --xr-background-color: var(--jp-layout-color0, white);\n",
       "  --xr-background-color-row-even: var(--jp-layout-color1, white);\n",
       "  --xr-background-color-row-odd: var(--jp-layout-color2, #eeeeee);\n",
       "}\n",
       "\n",
       ".xr-wrap {\n",
       "  min-width: 300px;\n",
       "  max-width: 700px;\n",
       "}\n",
       "\n",
       ".xr-header {\n",
       "  padding-top: 6px;\n",
       "  padding-bottom: 6px;\n",
       "  margin-bottom: 4px;\n",
       "  border-bottom: solid 1px var(--xr-border-color);\n",
       "}\n",
       "\n",
       ".xr-header > div,\n",
       ".xr-header > ul {\n",
       "  display: inline;\n",
       "  margin-top: 0;\n",
       "  margin-bottom: 0;\n",
       "}\n",
       "\n",
       ".xr-obj-type,\n",
       ".xr-array-name {\n",
       "  margin-left: 2px;\n",
       "  margin-right: 10px;\n",
       "}\n",
       "\n",
       ".xr-obj-type {\n",
       "  color: var(--xr-font-color2);\n",
       "}\n",
       "\n",
       ".xr-sections {\n",
       "  padding-left: 0 !important;\n",
       "  display: grid;\n",
       "  grid-template-columns: 150px auto auto 1fr 20px 20px;\n",
       "}\n",
       "\n",
       ".xr-section-item {\n",
       "  display: contents;\n",
       "}\n",
       "\n",
       ".xr-section-item input {\n",
       "  display: none;\n",
       "}\n",
       "\n",
       ".xr-section-item input + label {\n",
       "  color: var(--xr-disabled-color);\n",
       "}\n",
       "\n",
       ".xr-section-item input:enabled + label {\n",
       "  cursor: pointer;\n",
       "  color: var(--xr-font-color2);\n",
       "}\n",
       "\n",
       ".xr-section-item input:enabled + label:hover {\n",
       "  color: var(--xr-font-color0);\n",
       "}\n",
       "\n",
       ".xr-section-summary {\n",
       "  grid-column: 1;\n",
       "  color: var(--xr-font-color2);\n",
       "  font-weight: 500;\n",
       "}\n",
       "\n",
       ".xr-section-summary > span {\n",
       "  display: inline-block;\n",
       "  padding-left: 0.5em;\n",
       "}\n",
       "\n",
       ".xr-section-summary-in:disabled + label {\n",
       "  color: var(--xr-font-color2);\n",
       "}\n",
       "\n",
       ".xr-section-summary-in + label:before {\n",
       "  display: inline-block;\n",
       "  content: '►';\n",
       "  font-size: 11px;\n",
       "  width: 15px;\n",
       "  text-align: center;\n",
       "}\n",
       "\n",
       ".xr-section-summary-in:disabled + label:before {\n",
       "  color: var(--xr-disabled-color);\n",
       "}\n",
       "\n",
       ".xr-section-summary-in:checked + label:before {\n",
       "  content: '▼';\n",
       "}\n",
       "\n",
       ".xr-section-summary-in:checked + label > span {\n",
       "  display: none;\n",
       "}\n",
       "\n",
       ".xr-section-summary,\n",
       ".xr-section-inline-details {\n",
       "  padding-top: 4px;\n",
       "  padding-bottom: 4px;\n",
       "}\n",
       "\n",
       ".xr-section-inline-details {\n",
       "  grid-column: 2 / -1;\n",
       "}\n",
       "\n",
       ".xr-section-details {\n",
       "  display: none;\n",
       "  grid-column: 1 / -1;\n",
       "  margin-bottom: 5px;\n",
       "}\n",
       "\n",
       ".xr-section-summary-in:checked ~ .xr-section-details {\n",
       "  display: contents;\n",
       "}\n",
       "\n",
       ".xr-array-wrap {\n",
       "  grid-column: 1 / -1;\n",
       "  display: grid;\n",
       "  grid-template-columns: 20px auto;\n",
       "}\n",
       "\n",
       ".xr-array-wrap > label {\n",
       "  grid-column: 1;\n",
       "  vertical-align: top;\n",
       "}\n",
       "\n",
       ".xr-preview {\n",
       "  color: var(--xr-font-color3);\n",
       "}\n",
       "\n",
       ".xr-array-preview,\n",
       ".xr-array-data {\n",
       "  padding: 0 5px !important;\n",
       "  grid-column: 2;\n",
       "}\n",
       "\n",
       ".xr-array-data,\n",
       ".xr-array-in:checked ~ .xr-array-preview {\n",
       "  display: none;\n",
       "}\n",
       "\n",
       ".xr-array-in:checked ~ .xr-array-data,\n",
       ".xr-array-preview {\n",
       "  display: inline-block;\n",
       "}\n",
       "\n",
       ".xr-dim-list {\n",
       "  display: inline-block !important;\n",
       "  list-style: none;\n",
       "  padding: 0 !important;\n",
       "  margin: 0;\n",
       "}\n",
       "\n",
       ".xr-dim-list li {\n",
       "  display: inline-block;\n",
       "  padding: 0;\n",
       "  margin: 0;\n",
       "}\n",
       "\n",
       ".xr-dim-list:before {\n",
       "  content: '(';\n",
       "}\n",
       "\n",
       ".xr-dim-list:after {\n",
       "  content: ')';\n",
       "}\n",
       "\n",
       ".xr-dim-list li:not(:last-child):after {\n",
       "  content: ',';\n",
       "  padding-right: 5px;\n",
       "}\n",
       "\n",
       ".xr-has-index {\n",
       "  font-weight: bold;\n",
       "}\n",
       "\n",
       ".xr-var-list,\n",
       ".xr-var-item {\n",
       "  display: contents;\n",
       "}\n",
       "\n",
       ".xr-var-item > div,\n",
       ".xr-var-item label,\n",
       ".xr-var-item > .xr-var-name span {\n",
       "  background-color: var(--xr-background-color-row-even);\n",
       "  margin-bottom: 0;\n",
       "}\n",
       "\n",
       ".xr-var-item > .xr-var-name:hover span {\n",
       "  padding-right: 5px;\n",
       "}\n",
       "\n",
       ".xr-var-list > li:nth-child(odd) > div,\n",
       ".xr-var-list > li:nth-child(odd) > label,\n",
       ".xr-var-list > li:nth-child(odd) > .xr-var-name span {\n",
       "  background-color: var(--xr-background-color-row-odd);\n",
       "}\n",
       "\n",
       ".xr-var-name {\n",
       "  grid-column: 1;\n",
       "}\n",
       "\n",
       ".xr-var-dims {\n",
       "  grid-column: 2;\n",
       "}\n",
       "\n",
       ".xr-var-dtype {\n",
       "  grid-column: 3;\n",
       "  text-align: right;\n",
       "  color: var(--xr-font-color2);\n",
       "}\n",
       "\n",
       ".xr-var-preview {\n",
       "  grid-column: 4;\n",
       "}\n",
       "\n",
       ".xr-var-name,\n",
       ".xr-var-dims,\n",
       ".xr-var-dtype,\n",
       ".xr-preview,\n",
       ".xr-attrs dt {\n",
       "  white-space: nowrap;\n",
       "  overflow: hidden;\n",
       "  text-overflow: ellipsis;\n",
       "  padding-right: 10px;\n",
       "}\n",
       "\n",
       ".xr-var-name:hover,\n",
       ".xr-var-dims:hover,\n",
       ".xr-var-dtype:hover,\n",
       ".xr-attrs dt:hover {\n",
       "  overflow: visible;\n",
       "  width: auto;\n",
       "  z-index: 1;\n",
       "}\n",
       "\n",
       ".xr-var-attrs,\n",
       ".xr-var-data {\n",
       "  display: none;\n",
       "  background-color: var(--xr-background-color) !important;\n",
       "  padding-bottom: 5px !important;\n",
       "}\n",
       "\n",
       ".xr-var-attrs-in:checked ~ .xr-var-attrs,\n",
       ".xr-var-data-in:checked ~ .xr-var-data {\n",
       "  display: block;\n",
       "}\n",
       "\n",
       ".xr-var-data > table {\n",
       "  float: right;\n",
       "}\n",
       "\n",
       ".xr-var-name span,\n",
       ".xr-var-data,\n",
       ".xr-attrs {\n",
       "  padding-left: 25px !important;\n",
       "}\n",
       "\n",
       ".xr-attrs,\n",
       ".xr-var-attrs,\n",
       ".xr-var-data {\n",
       "  grid-column: 1 / -1;\n",
       "}\n",
       "\n",
       "dl.xr-attrs {\n",
       "  padding: 0;\n",
       "  margin: 0;\n",
       "  display: grid;\n",
       "  grid-template-columns: 125px auto;\n",
       "}\n",
       "\n",
       ".xr-attrs dt, dd {\n",
       "  padding: 0;\n",
       "  margin: 0;\n",
       "  float: left;\n",
       "  padding-right: 10px;\n",
       "  width: auto;\n",
       "}\n",
       "\n",
       ".xr-attrs dt {\n",
       "  font-weight: normal;\n",
       "  grid-column: 1;\n",
       "}\n",
       "\n",
       ".xr-attrs dt:hover span {\n",
       "  display: inline-block;\n",
       "  background: var(--xr-background-color);\n",
       "  padding-right: 10px;\n",
       "}\n",
       "\n",
       ".xr-attrs dd {\n",
       "  grid-column: 2;\n",
       "  white-space: pre-wrap;\n",
       "  word-break: break-all;\n",
       "}\n",
       "\n",
       ".xr-icon-database,\n",
       ".xr-icon-file-text2 {\n",
       "  display: inline-block;\n",
       "  vertical-align: middle;\n",
       "  width: 1em;\n",
       "  height: 1.5em !important;\n",
       "  stroke-width: 0;\n",
       "  stroke: currentColor;\n",
       "  fill: currentColor;\n",
       "}\n",
       "</style><div class='xr-wrap'><div class='xr-header'><div class='xr-obj-type'>xarray.Dataset</div></div><ul class='xr-sections'><li class='xr-section-item'><input id='section-6a26262f-632c-4a41-b629-f48b7fb84148' class='xr-section-summary-in' type='checkbox' disabled ><label for='section-6a26262f-632c-4a41-b629-f48b7fb84148' class='xr-section-summary'  title='Expand/collapse section'>Dimensions:</label><div class='xr-section-inline-details'><ul class='xr-dim-list'><li><span class='xr-has-index'>bincenters_icehistogram</span>: 21</li><li><span class='xr-has-index'>freq_wavespectra</span>: 42</li><li><span class='xr-has-index'>time</span>: 33900</li></ul></div><div class='xr-section-details'></div></li><li class='xr-section-item'><input id='section-428fc3d6-d636-4ca3-a238-9638f8e96c94' class='xr-section-summary-in' type='checkbox'  checked><label for='section-428fc3d6-d636-4ca3-a238-9638f8e96c94' class='xr-section-summary' >Coordinates: <span>(3)</span></label><div class='xr-section-inline-details'></div><div class='xr-section-details'><ul class='xr-var-list'><li class='xr-var-item'><div class='xr-var-name'><span class='xr-has-index'>time</span></div><div class='xr-var-dims'>(time)</div><div class='xr-var-dtype'>datetime64[ns]</div><div class='xr-var-preview xr-preview'>2013-08-09T06:31:01 ... 2018-09-04T11:31:00</div><input id='attrs-378eedd1-9a3e-4d8f-99ff-eeb178c9e7ca' class='xr-var-attrs-in' type='checkbox' disabled><label for='attrs-378eedd1-9a3e-4d8f-99ff-eeb178c9e7ca' title='Show/Hide attributes'><svg class='icon xr-icon-file-text2'><use xlink:href='#icon-file-text2'></use></svg></label><input id='data-e4d9e0f6-e77a-4972-a14f-dc56b6c8476a' class='xr-var-data-in' type='checkbox'><label for='data-e4d9e0f6-e77a-4972-a14f-dc56b6c8476a' title='Show/Hide data repr'><svg class='icon xr-icon-database'><use xlink:href='#icon-database'></use></svg></label><div class='xr-var-attrs'><dl class='xr-attrs'></dl></div><pre class='xr-var-data'>array([&#x27;2013-08-09T06:31:01.000000000&#x27;, &#x27;2013-08-09T07:31:01.000000000&#x27;,\n",
       "       &#x27;2013-08-09T08:31:00.000000000&#x27;, ..., &#x27;2018-09-04T09:31:01.000000000&#x27;,\n",
       "       &#x27;2018-09-04T10:31:01.000000000&#x27;, &#x27;2018-09-04T11:31:00.000000000&#x27;],\n",
       "      dtype=&#x27;datetime64[ns]&#x27;)</pre></li><li class='xr-var-item'><div class='xr-var-name'><span class='xr-has-index'>bincenters_icehistogram</span></div><div class='xr-var-dims'>(bincenters_icehistogram)</div><div class='xr-var-dtype'>float64</div><div class='xr-var-preview xr-preview'>0.0 0.5 1.0 1.5 ... 9.0 9.5 10.0</div><input id='attrs-87c1517a-4311-4ca8-8e05-7edb4ee9ca7d' class='xr-var-attrs-in' type='checkbox' disabled><label for='attrs-87c1517a-4311-4ca8-8e05-7edb4ee9ca7d' title='Show/Hide attributes'><svg class='icon xr-icon-file-text2'><use xlink:href='#icon-file-text2'></use></svg></label><input id='data-2be8e6e3-269d-43fa-bd19-29418302b5a2' class='xr-var-data-in' type='checkbox'><label for='data-2be8e6e3-269d-43fa-bd19-29418302b5a2' title='Show/Hide data repr'><svg class='icon xr-icon-database'><use xlink:href='#icon-database'></use></svg></label><div class='xr-var-attrs'><dl class='xr-attrs'></dl></div><pre class='xr-var-data'>array([ 0. ,  0.5,  1. ,  1.5,  2. ,  2.5,  3. ,  3.5,  4. ,  4.5,  5. ,  5.5,\n",
       "        6. ,  6.5,  7. ,  7.5,  8. ,  8.5,  9. ,  9.5, 10. ])</pre></li><li class='xr-var-item'><div class='xr-var-name'><span class='xr-has-index'>freq_wavespectra</span></div><div class='xr-var-dims'>(freq_wavespectra)</div><div class='xr-var-dtype'>float64</div><div class='xr-var-preview xr-preview'>0.009766 0.02148 ... 0.4785 0.4902</div><input id='attrs-9a76e190-5fc5-4ae0-b450-f19b2646208c' class='xr-var-attrs-in' type='checkbox' disabled><label for='attrs-9a76e190-5fc5-4ae0-b450-f19b2646208c' title='Show/Hide attributes'><svg class='icon xr-icon-file-text2'><use xlink:href='#icon-file-text2'></use></svg></label><input id='data-efd8d339-ea4f-4958-b37b-3b8d0c6b16de' class='xr-var-data-in' type='checkbox'><label for='data-efd8d339-ea4f-4958-b37b-3b8d0c6b16de' title='Show/Hide data repr'><svg class='icon xr-icon-database'><use xlink:href='#icon-database'></use></svg></label><div class='xr-var-attrs'><dl class='xr-attrs'></dl></div><pre class='xr-var-data'>array([0.009766, 0.021484, 0.033203, 0.044922, 0.056641, 0.068359, 0.080078,\n",
       "       0.091797, 0.103516, 0.115234, 0.126953, 0.138672, 0.150391, 0.162109,\n",
       "       0.173828, 0.185547, 0.197266, 0.208984, 0.220703, 0.232422, 0.244141,\n",
       "       0.255859, 0.267578, 0.279297, 0.291016, 0.302734, 0.314453, 0.326172,\n",
       "       0.337891, 0.349609, 0.361328, 0.373047, 0.384766, 0.396484, 0.408203,\n",
       "       0.419922, 0.431641, 0.443359, 0.455078, 0.466797, 0.478516, 0.490234])</pre></li></ul></div></li><li class='xr-section-item'><input id='section-30a04a3e-2d1c-41f7-873e-b4e6b800bdba' class='xr-section-summary-in' type='checkbox'  checked><label for='section-30a04a3e-2d1c-41f7-873e-b4e6b800bdba' class='xr-section-summary' >Data variables: <span>(8)</span></label><div class='xr-section-inline-details'></div><div class='xr-section-details'><ul class='xr-var-list'><li class='xr-var-item'><div class='xr-var-name'><span>icehistogram_Nobs</span></div><div class='xr-var-dims'>(time, bincenters_icehistogram)</div><div class='xr-var-dtype'>float64</div><div class='xr-var-preview xr-preview'>nan nan nan nan ... 0.0 0.0 0.0 0.0</div><input id='attrs-72fbec9d-816c-4ff8-8f10-5998519863c9' class='xr-var-attrs-in' type='checkbox' disabled><label for='attrs-72fbec9d-816c-4ff8-8f10-5998519863c9' title='Show/Hide attributes'><svg class='icon xr-icon-file-text2'><use xlink:href='#icon-file-text2'></use></svg></label><input id='data-afc59284-44fd-4da8-a590-fa1fe8b59213' class='xr-var-data-in' type='checkbox'><label for='data-afc59284-44fd-4da8-a590-fa1fe8b59213' title='Show/Hide data repr'><svg class='icon xr-icon-database'><use xlink:href='#icon-database'></use></svg></label><div class='xr-var-attrs'><dl class='xr-attrs'></dl></div><pre class='xr-var-data'>array([[ nan,  nan,  nan, ...,  nan,  nan,  nan],\n",
       "       [ nan,  nan,  nan, ...,  nan,  nan,  nan],\n",
       "       [ nan,  nan,  nan, ...,  nan,  nan,  nan],\n",
       "       ...,\n",
       "       [ 27., 594., 400., ...,   0.,   0.,   0.],\n",
       "       [ 30., 582., 410., ...,   0.,   0.,   0.],\n",
       "       [ 22., 620., 382., ...,   0.,   0.,   0.]])</pre></li><li class='xr-var-item'><div class='xr-var-name'><span>wavespectra_energy</span></div><div class='xr-var-dims'>(time, freq_wavespectra)</div><div class='xr-var-dtype'>float64</div><div class='xr-var-preview xr-preview'>nan nan nan ... 0.01321 0.01678</div><input id='attrs-223ad566-5043-42ca-9629-12a9b455b292' class='xr-var-attrs-in' type='checkbox' ><label for='attrs-223ad566-5043-42ca-9629-12a9b455b292' title='Show/Hide attributes'><svg class='icon xr-icon-file-text2'><use xlink:href='#icon-file-text2'></use></svg></label><input id='data-d32aeb02-9ee9-415b-ac75-1b1eeb5d0d01' class='xr-var-data-in' type='checkbox'><label for='data-d32aeb02-9ee9-415b-ac75-1b1eeb5d0d01' title='Show/Hide data repr'><svg class='icon xr-icon-database'><use xlink:href='#icon-database'></use></svg></label><div class='xr-var-attrs'><dl class='xr-attrs'><dt><span>units :</span></dt><dd>m^2/Hz</dd><dt><span>description :</span></dt><dd>wavespectra.energy: wave energy spectral density, in m^2/Hz, as a function of frequency.  Note that this is derived from orbital motions and is thus insensitive to low-energy swell conditions.  The technique is best suited to measuring short wind waves. </dd></dl></div><pre class='xr-var-data'>array([[       nan,        nan,        nan, ...,        nan,        nan,\n",
       "               nan],\n",
       "       [       nan,        nan,        nan, ...,        nan,        nan,\n",
       "               nan],\n",
       "       [       nan,        nan,        nan, ...,        nan,        nan,\n",
       "               nan],\n",
       "       ...,\n",
       "       [0.        , 0.        , 0.        , ..., 0.0214319 , 0.02219893,\n",
       "        0.02584273],\n",
       "       [0.        , 0.        , 0.        , ..., 0.01953479, 0.02587762,\n",
       "        0.01670428],\n",
       "       [0.        , 0.        , 0.        , ..., 0.01396026, 0.01320724,\n",
       "        0.0167845 ]])</pre></li><li class='xr-var-item'><div class='xr-var-name'><span>lat</span></div><div class='xr-var-dims'>(time)</div><div class='xr-var-dtype'>object</div><div class='xr-var-preview xr-preview'>74 74 74 74 74 ... 74 74 74 74 74</div><input id='attrs-093ffc3e-6c5b-4d72-be55-e37ab86d7755' class='xr-var-attrs-in' type='checkbox' ><label for='attrs-093ffc3e-6c5b-4d72-be55-e37ab86d7755' title='Show/Hide attributes'><svg class='icon xr-icon-file-text2'><use xlink:href='#icon-file-text2'></use></svg></label><input id='data-9532ce0d-7199-43fe-9fb6-96728797f1f3' class='xr-var-data-in' type='checkbox'><label for='data-9532ce0d-7199-43fe-9fb6-96728797f1f3' title='Show/Hide data repr'><svg class='icon xr-icon-database'><use xlink:href='#icon-database'></use></svg></label><div class='xr-var-attrs'><dl class='xr-attrs'><dt><span>units :</span></dt><dd>degrees</dd><dt><span>description :</span></dt><dd>lat: latitude in decimal degrees</dd></dl></div><pre class='xr-var-data'>array([74, 74, 74, ..., 74, 74, 74], dtype=object)</pre></li><li class='xr-var-item'><div class='xr-var-name'><span>lon</span></div><div class='xr-var-dims'>(time)</div><div class='xr-var-dtype'>object</div><div class='xr-var-preview xr-preview'>-140 -140 -140 ... -140 -140 -140</div><input id='attrs-c3c71f33-7633-4bd4-b44d-c3875f030d71' class='xr-var-attrs-in' type='checkbox' ><label for='attrs-c3c71f33-7633-4bd4-b44d-c3875f030d71' title='Show/Hide attributes'><svg class='icon xr-icon-file-text2'><use xlink:href='#icon-file-text2'></use></svg></label><input id='data-5f6035e8-e250-40b9-b639-6f13e4451e2d' class='xr-var-data-in' type='checkbox'><label for='data-5f6035e8-e250-40b9-b639-6f13e4451e2d' title='Show/Hide data repr'><svg class='icon xr-icon-database'><use xlink:href='#icon-database'></use></svg></label><div class='xr-var-attrs'><dl class='xr-attrs'><dt><span>units :</span></dt><dd>degrees</dd><dt><span>description :</span></dt><dd>lon: longitude in decimal degrees</dd></dl></div><pre class='xr-var-data'>array([-140, -140, -140, ..., -140, -140, -140], dtype=object)</pre></li><li class='xr-var-item'><div class='xr-var-name'><span>icethickness</span></div><div class='xr-var-dims'>(time)</div><div class='xr-var-dtype'>object</div><div class='xr-var-preview xr-preview'>nan nan nan ... 0.6892 0.6823</div><input id='attrs-13f3c012-18d3-4092-a2bf-07c94fc5cbea' class='xr-var-attrs-in' type='checkbox' disabled><label for='attrs-13f3c012-18d3-4092-a2bf-07c94fc5cbea' title='Show/Hide attributes'><svg class='icon xr-icon-file-text2'><use xlink:href='#icon-file-text2'></use></svg></label><input id='data-44d4ea8b-a371-4d57-be53-31e2957d7bdc' class='xr-var-data-in' type='checkbox'><label for='data-44d4ea8b-a371-4d57-be53-31e2957d7bdc' title='Show/Hide data repr'><svg class='icon xr-icon-database'><use xlink:href='#icon-database'></use></svg></label><div class='xr-var-attrs'><dl class='xr-attrs'></dl></div><pre class='xr-var-data'>array([nan, nan, nan, ..., 0.6862329101562281, 0.6891879882811764,\n",
       "       0.6823491210937789], dtype=object)</pre></li><li class='xr-var-item'><div class='xr-var-name'><span>sigwaveheight</span></div><div class='xr-var-dims'>(time)</div><div class='xr-var-dtype'>object</div><div class='xr-var-preview xr-preview'>nan nan nan ... 0.8691 0.879 0.8117</div><input id='attrs-c43cb53f-2c6c-481b-a4fa-ef419edeedc8' class='xr-var-attrs-in' type='checkbox' ><label for='attrs-c43cb53f-2c6c-481b-a4fa-ef419edeedc8' title='Show/Hide attributes'><svg class='icon xr-icon-file-text2'><use xlink:href='#icon-file-text2'></use></svg></label><input id='data-e1b19d6d-d3e3-4d81-83b2-44524b9f205a' class='xr-var-data-in' type='checkbox'><label for='data-e1b19d6d-d3e3-4d81-83b2-44524b9f205a' title='Show/Hide data repr'><svg class='icon xr-icon-database'><use xlink:href='#icon-database'></use></svg></label><div class='xr-var-attrs'><dl class='xr-attrs'><dt><span>units :</span></dt><dd>m</dd><dt><span>description :</span></dt><dd>sigwaveheight: significant wave height, in meters</dd></dl></div><pre class='xr-var-data'>array([nan, nan, nan, ..., 0.8690932921445752, 0.8789687362093497,\n",
       "       0.811733989750346], dtype=object)</pre></li><li class='xr-var-item'><div class='xr-var-name'><span>peakwaveperiod</span></div><div class='xr-var-dims'>(time)</div><div class='xr-var-dtype'>object</div><div class='xr-var-preview xr-preview'>nan nan nan ... 5.069 5.389 5.069</div><input id='attrs-40214cad-c1d2-4e34-ac91-bdd8b7b32561' class='xr-var-attrs-in' type='checkbox' ><label for='attrs-40214cad-c1d2-4e34-ac91-bdd8b7b32561' title='Show/Hide attributes'><svg class='icon xr-icon-file-text2'><use xlink:href='#icon-file-text2'></use></svg></label><input id='data-7bffcca5-2b91-46f4-919a-72c2f63c8c5c' class='xr-var-data-in' type='checkbox'><label for='data-7bffcca5-2b91-46f4-919a-72c2f63c8c5c' title='Show/Hide data repr'><svg class='icon xr-icon-database'><use xlink:href='#icon-database'></use></svg></label><div class='xr-var-attrs'><dl class='xr-attrs'><dt><span>units :</span></dt><dd>s</dd><dt><span>description :</span></dt><dd>peakwaveperiod: peak of period orbital velocity spectra (note convention is usually wave height spectrum)</dd></dl></div><pre class='xr-var-data'>array([nan, nan, nan, ..., 5.069306930693069, 5.389473684210526,\n",
       "       5.069306930693069], dtype=object)</pre></li><li class='xr-var-item'><div class='xr-var-name'><span>peakwavedirT</span></div><div class='xr-var-dims'>(time)</div><div class='xr-var-dtype'>object</div><div class='xr-var-preview xr-preview'>nan nan nan nan ... nan nan nan nan</div><input id='attrs-4d4c7e95-cb21-4284-9e80-ae7a98f2271b' class='xr-var-attrs-in' type='checkbox' ><label for='attrs-4d4c7e95-cb21-4284-9e80-ae7a98f2271b' title='Show/Hide attributes'><svg class='icon xr-icon-file-text2'><use xlink:href='#icon-file-text2'></use></svg></label><input id='data-6e3c745a-71c3-4f9b-b171-65ceb7c40e32' class='xr-var-data-in' type='checkbox'><label for='data-6e3c745a-71c3-4f9b-b171-65ceb7c40e32' title='Show/Hide data repr'><svg class='icon xr-icon-database'><use xlink:href='#icon-database'></use></svg></label><div class='xr-var-attrs'><dl class='xr-attrs'><dt><span>units :</span></dt><dd>degrees_north</dd><dt><span>description :</span></dt><dd>peakwavedirT: wind direction, in degrees FROM North</dd></dl></div><pre class='xr-var-data'>array([nan, nan, nan, ..., nan, nan, nan], dtype=object)</pre></li></ul></div></li><li class='xr-section-item'><input id='section-bd3c149d-a607-403b-a385-fc4ba419de35' class='xr-section-summary-in' type='checkbox'  checked><label for='section-bd3c149d-a607-403b-a385-fc4ba419de35' class='xr-section-summary' >Attributes: <span>(4)</span></label><div class='xr-section-inline-details'></div><div class='xr-section-details'><dl class='xr-attrs'><dt><span>description :</span></dt><dd>AWAC</dd><dt><span>data :</span></dt><dd>BGOS-AWAC, Jim Thomson, APL</dd><dt><span>netcdf_created_by :</span></dt><dd>Vince Cooper, 2020, UW</dd><dt><span>comment :</span></dt><dd>Attributes pulled from SWIFT 2015 data</dd></dl></div></li></ul></div></div>"
      ],
      "text/plain": [
       "<xarray.Dataset>\n",
       "Dimensions:                  (bincenters_icehistogram: 21, freq_wavespectra: 42, time: 33900)\n",
       "Coordinates:\n",
       "  * time                     (time) datetime64[ns] 2013-08-09T06:31:01 ... 2018-09-04T11:31:00\n",
       "  * bincenters_icehistogram  (bincenters_icehistogram) float64 0.0 0.5 ... 10.0\n",
       "  * freq_wavespectra         (freq_wavespectra) float64 0.009766 ... 0.4902\n",
       "Data variables:\n",
       "    icehistogram_Nobs        (time, bincenters_icehistogram) float64 nan ... 0.0\n",
       "    wavespectra_energy       (time, freq_wavespectra) float64 nan ... 0.01678\n",
       "    lat                      (time) object 74 74 74 74 74 74 ... 74 74 74 74 74\n",
       "    lon                      (time) object -140 -140 -140 ... -140 -140 -140\n",
       "    icethickness             (time) object nan nan nan ... 0.6862 0.6892 0.6823\n",
       "    sigwaveheight            (time) object nan nan nan ... 0.8691 0.879 0.8117\n",
       "    peakwaveperiod           (time) object nan nan nan nan ... 5.069 5.389 5.069\n",
       "    peakwavedirT             (time) object nan nan nan nan ... nan nan nan nan\n",
       "Attributes:\n",
       "    description:        AWAC\n",
       "    data:               BGOS-AWAC, Jim Thomson, APL\n",
       "    netcdf_created_by:  Vince Cooper, 2020, UW\n",
       "    comment:            Attributes pulled from SWIFT 2015 data"
      ]
     },
     "execution_count": 78,
     "metadata": {},
     "output_type": "execute_result"
    }
   ],
   "source": [
    "# for the whole file\n",
    "allds.attrs= {'description' : identifier,\n",
    "              'data' : 'BGOS-AWAC, Jim Thomson, APL',\n",
    "              'netcdf_created_by': 'Vince Cooper, 2020, UW',\n",
    "              'comment': 'Attributes pulled from SWIFT 2015 data'}\n",
    "\n",
    "# for variables - add description and units\n",
    "for var in allds:\n",
    "        if var in sodaA:\n",
    "#             allds[var].attrs['units'] = attr_dict[var]['units']\n",
    "#             allds[var].attrs['description'] = attr_dict[var]['description']\n",
    "            allds[var].attrs = sodaA[var].attrs\n",
    "\n",
    "allds"
   ]
  },
  {
   "cell_type": "markdown",
   "metadata": {},
   "source": [
    "Output to netcdf"
   ]
  },
  {
   "cell_type": "code",
   "execution_count": 79,
   "metadata": {},
   "outputs": [],
   "source": [
    "allds.to_netcdf(fname+'_converted.nc')"
   ]
  },
  {
   "cell_type": "code",
   "execution_count": 23,
   "metadata": {},
   "outputs": [
    {
     "data": {
      "text/plain": [
       "[<matplotlib.lines.Line2D at 0x2b7478ba12e8>]"
      ]
     },
     "execution_count": 23,
     "metadata": {},
     "output_type": "execute_result"
    },
    {
     "data": {
      "image/png": "[encoded data removed]",
      "text/plain": [
       "<Figure size 432x288 with 1 Axes>"
      ]
     },
     "metadata": {
      "needs_background": "light"
     },
     "output_type": "display_data"
    }
   ],
   "source": [
    "# SODA A\n",
    "plt.plot(allds.sigwaveheight.time.values,allds.sigwaveheight.values)"
   ]
  },
  {
   "cell_type": "code",
   "execution_count": 21,
   "metadata": {},
   "outputs": [
    {
     "data": {
      "text/plain": [
       "[<matplotlib.lines.Line2D at 0x2ba36cc1e278>]"
      ]
     },
     "execution_count": 21,
     "metadata": {},
     "output_type": "execute_result"
    },
    {
     "data": {
      "image/png": "[encoded data removed]",
      "text/plain": [
       "<Figure size 432x288 with 1 Axes>"
      ]
     },
     "metadata": {
      "needs_background": "light"
     },
     "output_type": "display_data"
    }
   ],
   "source": [
    "# SODA B\n",
    "plt.plot(allds.sigwaveheight.time.values,allds.sigwaveheight.values)"
   ]
  },
  {
   "cell_type": "code",
   "execution_count": 38,
   "metadata": {},
   "outputs": [
    {
     "data": {
      "text/plain": [
       "[<matplotlib.lines.Line2D at 0x2ba3699370b8>]"
      ]
     },
     "execution_count": 38,
     "metadata": {},
     "output_type": "execute_result"
    },
    {
     "data": {
      "image/png": "[encoded data removed]",
      "text/plain": [
       "<Figure size 432x288 with 1 Axes>"
      ]
     },
     "metadata": {
      "needs_background": "light"
     },
     "output_type": "display_data"
    }
   ],
   "source": [
    "# SODA C\n",
    "plt.plot(allds.sigwaveheight.time.values,allds.sigwaveheight.values,marker='x',linestyle='')"
   ]
  },
  {
   "cell_type": "code",
   "execution_count": 60,
   "metadata": {},
   "outputs": [
    {
     "data": {
      "text/plain": [
       "[<matplotlib.lines.Line2D at 0x2b8298237a50>]"
      ]
     },
     "execution_count": 60,
     "metadata": {},
     "output_type": "execute_result"
    },
    {
     "data": {
      "image/png": "[encoded data removed]",
      "text/plain": [
       "<Figure size 432x288 with 1 Axes>"
      ]
     },
     "metadata": {
      "needs_background": "light"
     },
     "output_type": "display_data"
    }
   ],
   "source": [
    "# BGOS-A\n",
    "plt.plot(allds.sigwaveheight.time.values,allds.sigwaveheight.values,marker='x',linestyle='')"
   ]
  },
  {
   "cell_type": "code",
   "execution_count": 64,
   "metadata": {},
   "outputs": [
    {
     "data": {
      "image/png": "[encoded data removed]",
      "text/plain": [
       "<Figure size 432x288 with 2 Axes>"
      ]
     },
     "metadata": {
      "needs_background": "light"
     },
     "output_type": "display_data"
    }
   ],
   "source": [
    "allds.icehistogram_Nobs.T.plot()\n",
    "plt.show()"
   ]
  },
  {
   "cell_type": "code",
   "execution_count": 61,
   "metadata": {},
   "outputs": [
    {
     "data": {
      "image/png": "[encoded data removed]",
      "text/plain": [
       "<Figure size 432x288 with 1 Axes>"
      ]
     },
     "metadata": {
      "needs_background": "light"
     },
     "output_type": "display_data"
    },
    {
     "name": "stdout",
     "output_type": "stream",
     "text": [
      "CPU times: user 37.6 s, sys: 581 ms, total: 38.2 s\n",
      "Wall time: 38.3 s\n"
     ]
    }
   ],
   "source": [
    "%%time\n",
    "allds.wavespectra_energy.plot.line(hue='time',add_legend=False,alpha=0.01,c='0.1')\n",
    "plt.xlim(0.05,)\n",
    "plt.loglog()\n",
    "plt.show()"
   ]
  },
  {
   "cell_type": "code",
   "execution_count": 80,
   "metadata": {},
   "outputs": [
    {
     "data": {
      "text/plain": [
       "[<matplotlib.lines.Line2D at 0x2b82b6abc9d0>]"
      ]
     },
     "execution_count": 80,
     "metadata": {},
     "output_type": "execute_result"
    },
    {
     "data": {
      "image/png": "[encoded data removed]",
      "text/plain": [
       "<Figure size 432x288 with 1 Axes>"
      ]
     },
     "metadata": {
      "needs_background": "light"
     },
     "output_type": "display_data"
    }
   ],
   "source": [
    "# BGOS-D\n",
    "plt.plot(allds.sigwaveheight.time.values,allds.sigwaveheight.values,marker='x',linestyle='')"
   ]
  },
  {
   "cell_type": "code",
   "execution_count": 81,
   "metadata": {},
   "outputs": [
    {
     "data": {
      "image/png": "[encoded data removed]",
      "text/plain": [
       "<Figure size 432x288 with 1 Axes>"
      ]
     },
     "metadata": {
      "needs_background": "light"
     },
     "output_type": "display_data"
    },
    {
     "name": "stdout",
     "output_type": "stream",
     "text": [
      "CPU times: user 38.2 s, sys: 517 ms, total: 38.7 s\n",
      "Wall time: 38.7 s\n"
     ]
    }
   ],
   "source": [
    "%%time\n",
    "allds.wavespectra_energy.plot.line(hue='time',add_legend=False,alpha=0.01,c='0.1')\n",
    "plt.xlim(0.05,)\n",
    "plt.loglog()\n",
    "plt.show()"
   ]
  },
  {
   "cell_type": "code",
   "execution_count": 82,
   "metadata": {},
   "outputs": [
    {
     "data": {
      "image/png": "[encoded data removed]",
      "text/plain": [
       "<Figure size 432x288 with 2 Axes>"
      ]
     },
     "metadata": {
      "needs_background": "light"
     },
     "output_type": "display_data"
    }
   ],
   "source": [
    "allds.icehistogram_Nobs.T.plot()\n",
    "plt.show()"
   ]
  },
  {
   "cell_type": "code",
   "execution_count": null,
   "metadata": {},
   "outputs": [],
   "source": []
  }
 ],
 "metadata": {
  "kernelspec": {
   "display_name": "Python 3",
   "language": "python",
   "name": "python3"
  },
  "language_info": {
   "codemirror_mode": {
    "name": "ipython",
    "version": 3
   },
   "file_extension": ".py",
   "mimetype": "text/x-python",
   "name": "python",
   "nbconvert_exporter": "python",
   "pygments_lexer": "ipython3",
   "version": "3.7.5"
  }
 },
 "nbformat": 4,
 "nbformat_minor": 4
}
