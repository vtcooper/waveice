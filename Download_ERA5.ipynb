{
 "cells": [
  {
   "cell_type": "code",
   "execution_count": 2,
   "metadata": {},
   "outputs": [],
   "source": [
    "\"\"\"\n",
    "Code to download ERA5 reanalysis data at 6hr intervals as netcdfs using the cds api.\n",
    "\n",
    "Select variables then provide inputs before running.\n",
    "Make sure target directory exists before downloading.\n",
    "\n",
    "***  Make sure username is changed otherwise you'll overwrite my files I've downloaded :) ***\n",
    "\n",
    "For more info see:\n",
    "https://cds.climate.copernicus.eu/cdsapp#!/dataset/reanalysis-era5-single-levels?tab=overview\n",
    "https://cds.climate.copernicus.eu/cdsapp#!/dataset/reanalysis-era5-pressure-levels?tab=overview\n",
    "\n",
    "Look here for active requests:\n",
    "https://cds.climate.copernicus.eu/cdsapp#!/yourrequests?tab=form\n",
    "\"\"\"\n",
    "\n",
    "import cdsapi\n",
    "import os"
   ]
  },
  {
   "cell_type": "code",
   "execution_count": 11,
   "metadata": {},
   "outputs": [],
   "source": [
    "# SELECT VARIABLES (Only select ones on same model level together)\n",
    "\n",
    "# SINGLE LEVEL\n",
    "variable_names = []\n",
    "#variable_names.append('mean_sea_level_pressure')\n",
    "# variable_names.append('10m_u_component_of_wind')\n",
    "# variable_names.append('10m_v_component_of_wind')\n",
    "# variable_names.append('sea_ice_cover')\n",
    "# variable_names.append('total_cloud_cover')\n",
    "#variable_names.append('surface_latent_heat_flux')\n",
    "#variable_names.append('surface_net_solar_radiation')\n",
    "#variable_names.append('surface_net_thermal_radiation')\n",
    "#variable_names.append('surface_sensible_heat_flux')\n",
    "#variable_names.append('surface_solar_radiation_downwards')\n",
    "#variable_names.append('surface_thermal_radiation_downwards')\n",
    "#variable_names.append('low_cloud_cover')\n",
    "#variable_names.append('high_cloud_cover')\n",
    "#variable_names.append('medium_cloud_cover')\n",
    "\n",
    "# variable_names.append('2m_temperature')\n",
    "# variable_names.append('significant_height_of_combined_wind_waves_and_swell')\n",
    "# variable_names.append('significant_height_of_wind_waves')\n",
    "# variable_names.append('significant_height_of_total_swell')\n",
    "# variable_names.append('maximum_individual_wave_height')\n",
    "# variable_names.append('peak_wave_period')\n",
    "# variable_names.append('mean_period_of_wind_waves')\n",
    "# variable_names.append('mean_wave_direction')\n",
    "# variable_names.append('ocean_surface_stress_equivalent_10m_neutral_wind_speed')\n",
    "# variable_names.append('ocean_surface_stress_equivalent_10m_neutral_wind_direction')\n",
    "product_source = 'reanalysis-era5-single-levels'\n",
    "\n",
    "# PRESSURE LEVELS (Mostly on different levels so download one variable at a time)\n",
    "#variable_names = ['geopotential']\n",
    "#variable_names = ['vertical_velocity']\n",
    "# variable_names = ['temperature']\n",
    "# pressure_list = ['500'] #pressures in mb of levels to be downloaded\n",
    "# product_source = 'reanalysis-era5-pressure-levels'\n",
    "\n",
    "# POTENTIAL VORTICITY LEVEL\n",
    "#have to go through different method. Use mars request\n",
    "#https://confluence.ecmwf.int/display/CKB/How+to+download+ERA5"
   ]
  },
  {
   "cell_type": "code",
   "execution_count": 12,
   "metadata": {},
   "outputs": [],
   "source": [
    "# PROVIDE INPUTS\n",
    "product_type = 'reanalysis' #'reanalysis' or 'ensemble_spread'\n",
    "start_year = 2018\n",
    "end_year = 2018 # end_year is included in download\n",
    "# month_list = ['01', '02', '03', '04', '05', '06', '07', '08', '09', '10', '11', '12'] # note formate of leading zero for single digit months.\n",
    "month_list = ['07', '08']\n",
    "time_list = ['00:00', '06:00', '12:00', '18:00']\n",
    "# Area: North, West (-ve), South (-ve), East. Default: global\n",
    "area_list  = [90, -180, 60, 180] \n",
    "# Latitude/longitude grid: east-west (longitude) and north-south resolution (latitude).\n",
    "# Default: 0.25 x 0.25 for reanalysis at least. Might be coarser for ensemble members/spread\n",
    "grid_list =  [0.25, 0.25]\n",
    "username = 'vcooper' #change to your own"
   ]
  },
  {
   "cell_type": "code",
   "execution_count": 13,
   "metadata": {},
   "outputs": [],
   "source": [
    "# Get year list\n",
    "year_list = []\n",
    "for i in range(start_year, end_year+1):\n",
    "    year_list.append(str(i))"
   ]
  },
  {
   "cell_type": "code",
   "execution_count": 14,
   "metadata": {},
   "outputs": [],
   "source": [
    "# Get day list\n",
    "day_list = []\n",
    "for i in range(1, 31+1):\n",
    "    day_list.append(str(i).zfill(2))"
   ]
  },
  {
   "cell_type": "code",
   "execution_count": 15,
   "metadata": {},
   "outputs": [],
   "source": [
    "# Put inputs into dictionary\n",
    "cdict = {\n",
    "        'product_type' : product_type,\n",
    "        'year': year_list,\n",
    "        'day': day_list,\n",
    "        'area' : area_list,\n",
    "        'grid' : grid_list,\n",
    "        'time' : time_list,\n",
    "        'format' : 'netcdf',\n",
    "        }\n",
    "\n",
    "if product_source == 'reanalysis-era5-pressure-levels':\n",
    "    cdict['pressure_level'] = pressure_list"
   ]
  },
  {
   "cell_type": "code",
   "execution_count": 16,
   "metadata": {},
   "outputs": [
    {
     "name": "stdout",
     "output_type": "stream",
     "text": [
      "10m_u_component_of_wind\n",
      "10m_v_component_of_wind\n",
      "sea_ice_cover\n",
      "2m_temperature\n",
      "significant_height_of_combined_wind_waves_and_swell\n",
      "significant_height_of_wind_waves\n",
      "significant_height_of_total_swell\n",
      "maximum_individual_wave_height\n",
      "peak_wave_period\n",
      "mean_period_of_wind_waves\n",
      "mean_wave_direction\n",
      "ocean_surface_stress_equivalent_10m_neutral_wind_speed\n",
      "ocean_surface_stress_equivalent_10m_neutral_wind_direction\n"
     ]
    }
   ],
   "source": [
    "for variable_name in variable_names:\n",
    "    print(variable_name)"
   ]
  },
  {
   "cell_type": "code",
   "execution_count": 19,
   "metadata": {},
   "outputs": [
    {
     "name": "stdout",
     "output_type": "stream",
     "text": [
      "/glade/scratch/vcooper/ERA5/native/months=07_years=2018to2018_minlat=60_grid=0.25x0.2510m_u_component_of_wind.nc\n"
     ]
    },
    {
     "name": "stderr",
     "output_type": "stream",
     "text": [
      "2020-08-31 13:17:04,656 INFO Welcome to the CDS\n",
      "2020-08-31 13:17:04,657 INFO Sending request to https://cds.climate.copernicus.eu/api/v2/resources/reanalysis-era5-single-levels\n",
      "2020-08-31 13:17:05,219 INFO Request is completed\n",
      "2020-08-31 13:17:05,220 INFO Downloading http://136.156.132.198/cache-compute-0003/cache/data4/adaptor.mars.internal-1598901196.280285-17393-11-2bd02a84-9737-4720-8470-441dbe029921.nc to /glade/scratch/vcooper/ERA5/native/months=07_years=2018to2018_minlat=60_grid=0.25x0.2510m_u_component_of_wind.nc (41.2M)\n",
      "2020-08-31 13:17:10,054 INFO Download rate 8.5M/s   \n"
     ]
    },
    {
     "name": "stdout",
     "output_type": "stream",
     "text": [
      "/glade/scratch/vcooper/ERA5/native/months=08_years=2018to2018_minlat=60_grid=0.25x0.2510m_u_component_of_wind.nc\n"
     ]
    },
    {
     "name": "stderr",
     "output_type": "stream",
     "text": [
      "2020-08-31 13:17:11,491 INFO Welcome to the CDS\n",
      "2020-08-31 13:17:11,492 INFO Sending request to https://cds.climate.copernicus.eu/api/v2/resources/reanalysis-era5-single-levels\n",
      "2020-08-31 13:17:12,086 INFO Request is queued\n",
      "2020-08-31 13:17:17,202 INFO Request is running\n",
      "2020-08-31 13:17:33,612 INFO Request is completed\n",
      "2020-08-31 13:17:33,612 INFO Downloading http://136.156.132.210/cache-compute-0005/cache/data0/adaptor.mars.internal-1598901416.166178-28966-28-324d1f04-7ce2-4322-af03-f80d4c6477bd.nc to /glade/scratch/vcooper/ERA5/native/months=08_years=2018to2018_minlat=60_grid=0.25x0.2510m_u_component_of_wind.nc (41.2M)\n",
      "2020-08-31 13:17:39,386 INFO Download rate 7.1M/s   \n"
     ]
    },
    {
     "name": "stdout",
     "output_type": "stream",
     "text": [
      "/glade/scratch/vcooper/ERA5/native/months=07_years=2018to2018_minlat=60_grid=0.25x0.2510m_v_component_of_wind.nc\n"
     ]
    },
    {
     "name": "stderr",
     "output_type": "stream",
     "text": [
      "2020-08-31 13:17:40,014 INFO Welcome to the CDS\n",
      "2020-08-31 13:17:40,015 INFO Sending request to https://cds.climate.copernicus.eu/api/v2/resources/reanalysis-era5-single-levels\n",
      "2020-08-31 13:17:40,609 INFO Request is queued\n",
      "2020-08-31 13:17:41,729 INFO Request is running\n",
      "2020-08-31 13:17:54,403 INFO Request is completed\n",
      "2020-08-31 13:17:54,403 INFO Downloading http://136.156.132.153/cache-compute-0002/cache/data7/adaptor.mars.internal-1598901442.0787034-25463-14-4d69eca3-5b27-470b-b5af-a2e5805ed070.nc to /glade/scratch/vcooper/ERA5/native/months=07_years=2018to2018_minlat=60_grid=0.25x0.2510m_v_component_of_wind.nc (41.2M)\n",
      "2020-08-31 13:17:59,786 INFO Download rate 7.7M/s   \n"
     ]
    },
    {
     "name": "stdout",
     "output_type": "stream",
     "text": [
      "/glade/scratch/vcooper/ERA5/native/months=08_years=2018to2018_minlat=60_grid=0.25x0.2510m_v_component_of_wind.nc\n"
     ]
    },
    {
     "name": "stderr",
     "output_type": "stream",
     "text": [
      "2020-08-31 13:18:04,242 INFO Welcome to the CDS\n",
      "2020-08-31 13:18:04,242 INFO Sending request to https://cds.climate.copernicus.eu/api/v2/resources/reanalysis-era5-single-levels\n",
      "2020-08-31 13:18:05,070 INFO Request is queued\n",
      "2020-08-31 13:18:10,182 INFO Request is running\n",
      "2020-08-31 13:18:26,589 INFO Request is completed\n",
      "2020-08-31 13:18:26,590 INFO Downloading http://136.156.133.46/cache-compute-0015/cache/data7/adaptor.mars.internal-1598901469.329968-30496-18-8b9bc44b-fe7b-4ff9-9a48-1a6aba1d37e5.nc to /glade/scratch/vcooper/ERA5/native/months=08_years=2018to2018_minlat=60_grid=0.25x0.2510m_v_component_of_wind.nc (41.2M)\n",
      "2020-08-31 13:18:44,138 INFO Download rate 2.3M/s   \n"
     ]
    },
    {
     "name": "stdout",
     "output_type": "stream",
     "text": [
      "/glade/scratch/vcooper/ERA5/native/months=07_years=2018to2018_minlat=60_grid=0.25x0.25sea_ice_cover.nc\n"
     ]
    },
    {
     "name": "stderr",
     "output_type": "stream",
     "text": [
      "2020-08-31 13:18:45,078 INFO Welcome to the CDS\n",
      "2020-08-31 13:18:45,079 INFO Sending request to https://cds.climate.copernicus.eu/api/v2/resources/reanalysis-era5-single-levels\n",
      "2020-08-31 13:18:46,036 INFO Request is queued\n",
      "2020-08-31 13:18:47,158 INFO Request is running\n",
      "2020-08-31 13:19:07,558 INFO Request is completed\n",
      "2020-08-31 13:19:07,558 INFO Downloading http://136.156.132.198/cache-compute-0003/cache/data4/adaptor.mars.internal-1598901507.7730153-12589-30-b1f5fc88-72db-4544-b856-f34398e21c95.nc to /glade/scratch/vcooper/ERA5/native/months=07_years=2018to2018_minlat=60_grid=0.25x0.25sea_ice_cover.nc (41.2M)\n",
      "2020-08-31 13:19:14,337 INFO Download rate 6.1M/s   \n"
     ]
    },
    {
     "name": "stdout",
     "output_type": "stream",
     "text": [
      "/glade/scratch/vcooper/ERA5/native/months=08_years=2018to2018_minlat=60_grid=0.25x0.25sea_ice_cover.nc\n"
     ]
    },
    {
     "name": "stderr",
     "output_type": "stream",
     "text": [
      "2020-08-31 13:19:15,365 INFO Welcome to the CDS\n",
      "2020-08-31 13:19:15,365 INFO Sending request to https://cds.climate.copernicus.eu/api/v2/resources/reanalysis-era5-single-levels\n",
      "2020-08-31 13:19:15,949 INFO Request is queued\n",
      "2020-08-31 13:19:17,070 INFO Request is running\n",
      "2020-08-31 13:19:37,466 INFO Request is completed\n",
      "2020-08-31 13:19:37,467 INFO Downloading http://136.156.133.36/cache-compute-0010/cache/data4/adaptor.mars.internal-1598901538.346377-32724-28-0882a6b1-aa2c-440e-9ea5-37c495b4c0a5.nc to /glade/scratch/vcooper/ERA5/native/months=08_years=2018to2018_minlat=60_grid=0.25x0.25sea_ice_cover.nc (41.2M)\n",
      "2020-08-31 13:19:41,096 INFO Download rate 11.4M/s  \n"
     ]
    },
    {
     "name": "stdout",
     "output_type": "stream",
     "text": [
      "/glade/scratch/vcooper/ERA5/native/months=07_years=2018to2018_minlat=60_grid=0.25x0.252m_temperature.nc\n"
     ]
    },
    {
     "name": "stderr",
     "output_type": "stream",
     "text": [
      "2020-08-31 13:19:41,745 INFO Welcome to the CDS\n",
      "2020-08-31 13:19:41,746 INFO Sending request to https://cds.climate.copernicus.eu/api/v2/resources/reanalysis-era5-single-levels\n",
      "2020-08-31 13:19:42,508 INFO Request is queued\n",
      "2020-08-31 13:19:43,628 INFO Request is running\n",
      "2020-08-31 13:19:51,119 INFO Request is completed\n",
      "2020-08-31 13:19:51,119 INFO Downloading http://136.156.132.236/cache-compute-0007/cache/data4/adaptor.mars.internal-1598901564.0566835-21486-25-e1db5e28-fa2b-499c-99fb-f6c7573495c6.nc to /glade/scratch/vcooper/ERA5/native/months=07_years=2018to2018_minlat=60_grid=0.25x0.252m_temperature.nc (41.2M)\n",
      "2020-08-31 13:19:54,098 INFO Download rate 13.8M/s  \n"
     ]
    },
    {
     "name": "stdout",
     "output_type": "stream",
     "text": [
      "/glade/scratch/vcooper/ERA5/native/months=08_years=2018to2018_minlat=60_grid=0.25x0.252m_temperature.nc\n"
     ]
    },
    {
     "name": "stderr",
     "output_type": "stream",
     "text": [
      "2020-08-31 13:19:55,248 INFO Welcome to the CDS\n",
      "2020-08-31 13:19:55,249 INFO Sending request to https://cds.climate.copernicus.eu/api/v2/resources/reanalysis-era5-single-levels\n",
      "2020-08-31 13:19:55,827 INFO Request is queued\n",
      "2020-08-31 13:19:58,569 INFO Request is running\n",
      "2020-08-31 13:20:09,625 INFO Request is completed\n",
      "2020-08-31 13:20:09,625 INFO Downloading http://136.156.133.46/cache-compute-0015/cache/data3/adaptor.mars.internal-1598901579.1569624-30007-18-30a6a922-9aa1-4c50-b6b4-dfc863df75a1.nc to /glade/scratch/vcooper/ERA5/native/months=08_years=2018to2018_minlat=60_grid=0.25x0.252m_temperature.nc (41.2M)\n",
      "2020-08-31 13:20:23,399 INFO Download rate 3M/s     \n"
     ]
    },
    {
     "name": "stdout",
     "output_type": "stream",
     "text": [
      "/glade/scratch/vcooper/ERA5/native/months=07_years=2018to2018_minlat=60_grid=0.25x0.25significant_height_of_combined_wind_waves_and_swell.nc\n"
     ]
    },
    {
     "name": "stderr",
     "output_type": "stream",
     "text": [
      "2020-08-31 13:20:24,024 INFO Welcome to the CDS\n",
      "2020-08-31 13:20:24,025 INFO Sending request to https://cds.climate.copernicus.eu/api/v2/resources/reanalysis-era5-single-levels\n",
      "2020-08-31 13:20:24,630 INFO Request is queued\n",
      "2020-08-31 13:20:29,743 INFO Request is running\n",
      "2020-08-31 13:20:57,669 INFO Request is completed\n",
      "2020-08-31 13:20:57,670 INFO Downloading http://136.156.133.41/cache-compute-0013/cache/data4/adaptor.mars.internal-1598901608.7380035-14199-30-d464086e-1332-4bd0-8a27-6739b04b76cb.nc to /glade/scratch/vcooper/ERA5/native/months=07_years=2018to2018_minlat=60_grid=0.25x0.25significant_height_of_combined_wind_waves_and_swell.nc (41.2M)\n",
      "2020-08-31 13:21:01,621 INFO Download rate 10.4M/s  \n"
     ]
    },
    {
     "name": "stdout",
     "output_type": "stream",
     "text": [
      "/glade/scratch/vcooper/ERA5/native/months=08_years=2018to2018_minlat=60_grid=0.25x0.25significant_height_of_combined_wind_waves_and_swell.nc\n"
     ]
    },
    {
     "name": "stderr",
     "output_type": "stream",
     "text": [
      "2020-08-31 13:21:02,373 INFO Welcome to the CDS\n",
      "2020-08-31 13:21:02,374 INFO Sending request to https://cds.climate.copernicus.eu/api/v2/resources/reanalysis-era5-single-levels\n",
      "2020-08-31 13:21:03,052 INFO Request is queued\n",
      "2020-08-31 13:21:04,174 INFO Request is running\n",
      "2020-08-31 13:21:24,577 INFO Request is completed\n",
      "2020-08-31 13:21:24,578 INFO Downloading http://136.156.132.105/cache-compute-0000/cache/data0/adaptor.mars.internal-1598901644.5750108-25211-35-db4f1fd5-17e7-4f08-9531-f33477bf3c20.nc to /glade/scratch/vcooper/ERA5/native/months=08_years=2018to2018_minlat=60_grid=0.25x0.25significant_height_of_combined_wind_waves_and_swell.nc (41.2M)\n",
      "2020-08-31 13:21:29,008 INFO Download rate 9.3M/s   \n"
     ]
    },
    {
     "name": "stdout",
     "output_type": "stream",
     "text": [
      "/glade/scratch/vcooper/ERA5/native/months=07_years=2018to2018_minlat=60_grid=0.25x0.25significant_height_of_wind_waves.nc\n"
     ]
    },
    {
     "name": "stderr",
     "output_type": "stream",
     "text": [
      "2020-08-31 13:21:29,644 INFO Welcome to the CDS\n",
      "2020-08-31 13:21:29,644 INFO Sending request to https://cds.climate.copernicus.eu/api/v2/resources/reanalysis-era5-single-levels\n",
      "2020-08-31 13:21:30,390 INFO Request is queued\n",
      "2020-08-31 13:21:33,134 INFO Request is running\n",
      "2020-08-31 13:22:03,434 INFO Request is completed\n",
      "2020-08-31 13:22:03,435 INFO Downloading http://136.156.132.201/cache-compute-0004/cache/data8/adaptor.mars.internal-1598901674.173214-797-14-a0d21007-412f-46b4-9d85-189fda200edb.nc to /glade/scratch/vcooper/ERA5/native/months=07_years=2018to2018_minlat=60_grid=0.25x0.25significant_height_of_wind_waves.nc (41.2M)\n",
      "2020-08-31 13:22:06,408 INFO Download rate 13.9M/s  \n"
     ]
    },
    {
     "name": "stdout",
     "output_type": "stream",
     "text": [
      "/glade/scratch/vcooper/ERA5/native/months=08_years=2018to2018_minlat=60_grid=0.25x0.25significant_height_of_wind_waves.nc\n"
     ]
    },
    {
     "name": "stderr",
     "output_type": "stream",
     "text": [
      "2020-08-31 13:22:07,055 INFO Welcome to the CDS\n",
      "2020-08-31 13:22:07,056 INFO Sending request to https://cds.climate.copernicus.eu/api/v2/resources/reanalysis-era5-single-levels\n",
      "2020-08-31 13:22:07,722 INFO Request is queued\n",
      "2020-08-31 13:22:16,334 INFO Request is running\n",
      "2020-08-31 13:23:23,760 INFO Request is completed\n",
      "2020-08-31 13:23:23,760 INFO Downloading http://136.156.133.32/cache-compute-0009/cache/data7/adaptor.mars.internal-1598901714.4449186-25595-34-f208383c-c22b-4f7e-ae12-44a8a41cdb03.nc to /glade/scratch/vcooper/ERA5/native/months=08_years=2018to2018_minlat=60_grid=0.25x0.25significant_height_of_wind_waves.nc (41.2M)\n",
      "2020-08-31 13:23:27,493 INFO Download rate 11M/s    \n"
     ]
    },
    {
     "name": "stdout",
     "output_type": "stream",
     "text": [
      "/glade/scratch/vcooper/ERA5/native/months=07_years=2018to2018_minlat=60_grid=0.25x0.25significant_height_of_total_swell.nc\n"
     ]
    },
    {
     "name": "stderr",
     "output_type": "stream",
     "text": [
      "2020-08-31 13:23:28,150 INFO Welcome to the CDS\n",
      "2020-08-31 13:23:28,151 INFO Sending request to https://cds.climate.copernicus.eu/api/v2/resources/reanalysis-era5-single-levels\n",
      "2020-08-31 13:23:30,450 INFO Request is queued\n",
      "2020-08-31 13:23:44,243 INFO Request is running\n",
      "2020-08-31 13:24:03,485 INFO Request is completed\n",
      "2020-08-31 13:24:03,486 INFO Downloading http://136.156.133.42/cache-compute-0014/cache/data2/adaptor.mars.internal-1598901803.5914829-17457-14-d4dfdd01-3f23-4518-a876-c331a3361e50.nc to /glade/scratch/vcooper/ERA5/native/months=07_years=2018to2018_minlat=60_grid=0.25x0.25significant_height_of_total_swell.nc (41.2M)\n",
      "2020-08-31 13:24:09,667 INFO Download rate 6.7M/s   \n"
     ]
    },
    {
     "name": "stdout",
     "output_type": "stream",
     "text": [
      "/glade/scratch/vcooper/ERA5/native/months=08_years=2018to2018_minlat=60_grid=0.25x0.25significant_height_of_total_swell.nc\n"
     ]
    },
    {
     "name": "stderr",
     "output_type": "stream",
     "text": [
      "2020-08-31 13:24:10,366 INFO Welcome to the CDS\n",
      "2020-08-31 13:24:10,367 INFO Sending request to https://cds.climate.copernicus.eu/api/v2/resources/reanalysis-era5-single-levels\n",
      "2020-08-31 13:24:11,195 INFO Request is queued\n",
      "2020-08-31 13:24:19,805 INFO Request is running\n",
      "2020-08-31 13:24:44,234 INFO Request is completed\n",
      "2020-08-31 13:24:44,235 INFO Downloading http://136.156.133.32/cache-compute-0009/cache/data0/adaptor.mars.internal-1598901840.6783533-28456-1-d03ebfbf-e436-4327-a21d-ab605fafbf02.nc to /glade/scratch/vcooper/ERA5/native/months=08_years=2018to2018_minlat=60_grid=0.25x0.25significant_height_of_total_swell.nc (41.2M)\n",
      "2020-08-31 13:24:51,098 INFO Download rate 6M/s     \n"
     ]
    },
    {
     "name": "stdout",
     "output_type": "stream",
     "text": [
      "/glade/scratch/vcooper/ERA5/native/months=07_years=2018to2018_minlat=60_grid=0.25x0.25maximum_individual_wave_height.nc\n"
     ]
    },
    {
     "name": "stderr",
     "output_type": "stream",
     "text": [
      "2020-08-31 13:24:51,805 INFO Welcome to the CDS\n",
      "2020-08-31 13:24:51,806 INFO Sending request to https://cds.climate.copernicus.eu/api/v2/resources/reanalysis-era5-single-levels\n",
      "2020-08-31 13:24:52,542 INFO Request is queued\n",
      "2020-08-31 13:25:25,580 INFO Request is running\n",
      "2020-08-31 13:25:42,802 INFO Request is completed\n",
      "2020-08-31 13:25:42,803 INFO Downloading http://136.156.133.39/cache-compute-0012/cache/data6/adaptor.mars.internal-1598901897.5576332-27819-14-c1192843-884c-4089-a6b3-8fb2cfceb3ec.nc to /glade/scratch/vcooper/ERA5/native/months=07_years=2018to2018_minlat=60_grid=0.25x0.25maximum_individual_wave_height.nc (41.2M)\n",
      "2020-08-31 13:25:46,217 INFO Download rate 12.1M/s  \n"
     ]
    },
    {
     "name": "stdout",
     "output_type": "stream",
     "text": [
      "/glade/scratch/vcooper/ERA5/native/months=08_years=2018to2018_minlat=60_grid=0.25x0.25maximum_individual_wave_height.nc\n"
     ]
    },
    {
     "name": "stderr",
     "output_type": "stream",
     "text": [
      "2020-08-31 13:25:46,908 INFO Welcome to the CDS\n",
      "2020-08-31 13:25:46,908 INFO Sending request to https://cds.climate.copernicus.eu/api/v2/resources/reanalysis-era5-single-levels\n",
      "2020-08-31 13:25:47,451 INFO Request is queued\n",
      "2020-08-31 13:26:01,247 INFO Request is running\n",
      "2020-08-31 13:26:20,491 INFO Request is completed\n",
      "2020-08-31 13:26:20,491 INFO Downloading http://136.156.133.41/cache-compute-0013/cache/data8/adaptor.mars.internal-1598901938.1752975-21927-3-8fc0c2a8-bf1c-460d-9e05-737bca433aee.nc to /glade/scratch/vcooper/ERA5/native/months=08_years=2018to2018_minlat=60_grid=0.25x0.25maximum_individual_wave_height.nc (41.2M)\n",
      "2020-08-31 13:26:33,069 INFO Download rate 3.3M/s   \n"
     ]
    },
    {
     "name": "stdout",
     "output_type": "stream",
     "text": [
      "/glade/scratch/vcooper/ERA5/native/months=07_years=2018to2018_minlat=60_grid=0.25x0.25peak_wave_period.nc\n"
     ]
    },
    {
     "name": "stderr",
     "output_type": "stream",
     "text": [
      "2020-08-31 13:26:33,848 INFO Welcome to the CDS\n",
      "2020-08-31 13:26:33,849 INFO Sending request to https://cds.climate.copernicus.eu/api/v2/resources/reanalysis-era5-single-levels\n",
      "2020-08-31 13:26:34,419 INFO Request is queued\n",
      "2020-08-31 13:26:37,161 INFO Request is running\n",
      "2020-08-31 13:27:07,463 INFO Request is completed\n",
      "2020-08-31 13:27:07,464 INFO Downloading http://136.156.133.39/cache-compute-0012/cache/data3/adaptor.mars.internal-1598901976.9539387-27123-24-53888bc1-502e-4554-8a36-f18709c6ac36.nc to /glade/scratch/vcooper/ERA5/native/months=07_years=2018to2018_minlat=60_grid=0.25x0.25peak_wave_period.nc (41.2M)\n",
      "2020-08-31 13:27:14,305 INFO Download rate 6M/s     \n"
     ]
    },
    {
     "name": "stdout",
     "output_type": "stream",
     "text": [
      "/glade/scratch/vcooper/ERA5/native/months=08_years=2018to2018_minlat=60_grid=0.25x0.25peak_wave_period.nc\n"
     ]
    },
    {
     "name": "stderr",
     "output_type": "stream",
     "text": [
      "2020-08-31 13:27:14,958 INFO Welcome to the CDS\n",
      "2020-08-31 13:27:14,959 INFO Sending request to https://cds.climate.copernicus.eu/api/v2/resources/reanalysis-era5-single-levels\n",
      "2020-08-31 13:27:15,757 INFO Request is queued\n",
      "2020-08-31 13:27:16,878 INFO Request is running\n",
      "2020-08-31 13:27:49,017 INFO Request is completed\n",
      "2020-08-31 13:27:49,018 INFO Downloading http://136.156.132.235/cache-compute-0006/cache/data1/adaptor.mars.internal-1598902017.3480084-3124-12-e90b40c8-e8a0-407e-a45f-f25b6585fbcf.nc to /glade/scratch/vcooper/ERA5/native/months=08_years=2018to2018_minlat=60_grid=0.25x0.25peak_wave_period.nc (41.2M)\n",
      "2020-08-31 13:27:51,869 INFO Download rate 14.5M/s  \n"
     ]
    },
    {
     "name": "stdout",
     "output_type": "stream",
     "text": [
      "/glade/scratch/vcooper/ERA5/native/months=07_years=2018to2018_minlat=60_grid=0.25x0.25mean_period_of_wind_waves.nc\n"
     ]
    },
    {
     "name": "stderr",
     "output_type": "stream",
     "text": [
      "2020-08-31 13:27:52,786 INFO Welcome to the CDS\n",
      "2020-08-31 13:27:52,787 INFO Sending request to https://cds.climate.copernicus.eu/api/v2/resources/reanalysis-era5-single-levels\n",
      "2020-08-31 13:27:53,538 INFO Request is queued\n",
      "2020-08-31 13:28:15,053 INFO Request is running\n",
      "2020-08-31 13:28:43,802 INFO Request is completed\n",
      "2020-08-31 13:28:43,802 INFO Downloading http://136.156.132.105/cache-compute-0000/cache/data8/adaptor.mars.internal-1598902075.5289133-27179-32-b2a48716-12ea-443e-92b0-3151f8cc9d98.nc to /glade/scratch/vcooper/ERA5/native/months=07_years=2018to2018_minlat=60_grid=0.25x0.25mean_period_of_wind_waves.nc (41.2M)\n",
      "2020-08-31 13:28:50,987 INFO Download rate 5.7M/s   \n"
     ]
    },
    {
     "name": "stdout",
     "output_type": "stream",
     "text": [
      "/glade/scratch/vcooper/ERA5/native/months=08_years=2018to2018_minlat=60_grid=0.25x0.25mean_period_of_wind_waves.nc\n"
     ]
    },
    {
     "name": "stderr",
     "output_type": "stream",
     "text": [
      "2020-08-31 13:28:51,757 INFO Welcome to the CDS\n",
      "2020-08-31 13:28:51,758 INFO Sending request to https://cds.climate.copernicus.eu/api/v2/resources/reanalysis-era5-single-levels\n",
      "2020-08-31 13:28:52,755 INFO Request is queued\n",
      "2020-08-31 13:28:53,877 INFO Request is running\n",
      "2020-08-31 13:29:14,282 INFO Request is completed\n",
      "2020-08-31 13:29:14,282 INFO Downloading http://136.156.132.236/cache-compute-0007/cache/data4/adaptor.mars.internal-1598902114.1140027-22775-27-8c2ca12e-18a0-49ce-86dc-fbe3c55d7f31.nc to /glade/scratch/vcooper/ERA5/native/months=08_years=2018to2018_minlat=60_grid=0.25x0.25mean_period_of_wind_waves.nc (41.2M)\n",
      "2020-08-31 13:29:17,804 INFO Download rate 11.7M/s  \n"
     ]
    },
    {
     "name": "stdout",
     "output_type": "stream",
     "text": [
      "/glade/scratch/vcooper/ERA5/native/months=07_years=2018to2018_minlat=60_grid=0.25x0.25mean_wave_direction.nc\n"
     ]
    },
    {
     "name": "stderr",
     "output_type": "stream",
     "text": [
      "2020-08-31 13:29:18,692 INFO Welcome to the CDS\n",
      "2020-08-31 13:29:18,693 INFO Sending request to https://cds.climate.copernicus.eu/api/v2/resources/reanalysis-era5-single-levels\n",
      "2020-08-31 13:29:19,396 INFO Request is queued\n",
      "2020-08-31 13:29:20,517 INFO Request is running\n",
      "2020-08-31 13:29:40,920 INFO Request is completed\n",
      "2020-08-31 13:29:40,921 INFO Downloading http://136.156.133.41/cache-compute-0013/cache/data3/adaptor.mars.internal-1598902141.7026837-23982-5-c882d5f7-8bdf-4d50-b98a-0a8b88298ea6.nc to /glade/scratch/vcooper/ERA5/native/months=07_years=2018to2018_minlat=60_grid=0.25x0.25mean_wave_direction.nc (41.2M)\n",
      "2020-08-31 13:29:58,542 INFO Download rate 2.3M/s   \n"
     ]
    },
    {
     "name": "stdout",
     "output_type": "stream",
     "text": [
      "/glade/scratch/vcooper/ERA5/native/months=08_years=2018to2018_minlat=60_grid=0.25x0.25mean_wave_direction.nc\n"
     ]
    },
    {
     "name": "stderr",
     "output_type": "stream",
     "text": [
      "2020-08-31 13:29:59,275 INFO Welcome to the CDS\n",
      "2020-08-31 13:29:59,276 INFO Sending request to https://cds.climate.copernicus.eu/api/v2/resources/reanalysis-era5-single-levels\n",
      "2020-08-31 13:30:00,173 INFO Request is queued\n",
      "2020-08-31 13:30:02,916 INFO Request is running\n",
      "2020-08-31 13:30:33,214 INFO Request is completed\n",
      "2020-08-31 13:30:33,215 INFO Downloading http://136.156.133.25/cache-compute-0008/cache/data0/adaptor.mars.internal-1598902184.1324234-30227-38-1efff5a9-9952-4e9a-898b-d97c3637e4eb.nc to /glade/scratch/vcooper/ERA5/native/months=08_years=2018to2018_minlat=60_grid=0.25x0.25mean_wave_direction.nc (41.2M)\n",
      "2020-08-31 13:30:36,735 INFO Download rate 11.7M/s  \n"
     ]
    },
    {
     "name": "stdout",
     "output_type": "stream",
     "text": [
      "/glade/scratch/vcooper/ERA5/native/months=07_years=2018to2018_minlat=60_grid=0.25x0.25ocean_surface_stress_equivalent_10m_neutral_wind_speed.nc\n"
     ]
    },
    {
     "name": "stderr",
     "output_type": "stream",
     "text": [
      "2020-08-31 13:30:37,873 INFO Welcome to the CDS\n",
      "2020-08-31 13:30:37,873 INFO Sending request to https://cds.climate.copernicus.eu/api/v2/resources/reanalysis-era5-single-levels\n",
      "2020-08-31 13:30:38,638 INFO Request is queued\n",
      "2020-08-31 13:30:39,760 INFO Request is running\n",
      "2020-08-31 13:31:00,161 INFO Request is completed\n",
      "2020-08-31 13:31:00,162 INFO Downloading http://136.156.133.46/cache-compute-0015/cache/data8/adaptor.mars.internal-1598902220.535215-5052-7-a4d95b4f-46f7-4ccc-b173-8d28d643bff8.nc to /glade/scratch/vcooper/ERA5/native/months=07_years=2018to2018_minlat=60_grid=0.25x0.25ocean_surface_stress_equivalent_10m_neutral_wind_speed.nc (41.2M)\n",
      "2020-08-31 13:31:10,718 INFO Download rate 3.9M/s   \n"
     ]
    },
    {
     "name": "stdout",
     "output_type": "stream",
     "text": [
      "/glade/scratch/vcooper/ERA5/native/months=08_years=2018to2018_minlat=60_grid=0.25x0.25ocean_surface_stress_equivalent_10m_neutral_wind_speed.nc\n"
     ]
    },
    {
     "name": "stderr",
     "output_type": "stream",
     "text": [
      "2020-08-31 13:31:11,929 INFO Welcome to the CDS\n",
      "2020-08-31 13:31:11,930 INFO Sending request to https://cds.climate.copernicus.eu/api/v2/resources/reanalysis-era5-single-levels\n",
      "2020-08-31 13:31:12,538 INFO Request is queued\n",
      "2020-08-31 13:31:13,658 INFO Request is running\n",
      "2020-08-31 13:31:45,567 INFO Request is completed\n",
      "2020-08-31 13:31:45,568 INFO Downloading http://136.156.132.198/cache-compute-0003/cache/data9/adaptor.mars.internal-1598902254.495113-24365-9-946827d9-8c43-45c4-9eda-f6bca0739ca2.nc to /glade/scratch/vcooper/ERA5/native/months=08_years=2018to2018_minlat=60_grid=0.25x0.25ocean_surface_stress_equivalent_10m_neutral_wind_speed.nc (41.2M)\n",
      "2020-08-31 13:31:54,436 INFO Download rate 4.6M/s   \n"
     ]
    },
    {
     "name": "stdout",
     "output_type": "stream",
     "text": [
      "/glade/scratch/vcooper/ERA5/native/months=07_years=2018to2018_minlat=60_grid=0.25x0.25ocean_surface_stress_equivalent_10m_neutral_wind_direction.nc\n"
     ]
    },
    {
     "name": "stderr",
     "output_type": "stream",
     "text": [
      "2020-08-31 13:31:55,364 INFO Welcome to the CDS\n",
      "2020-08-31 13:31:55,365 INFO Sending request to https://cds.climate.copernicus.eu/api/v2/resources/reanalysis-era5-single-levels\n",
      "2020-08-31 13:31:56,499 INFO Request is queued\n",
      "2020-08-31 13:31:57,620 INFO Request is running\n",
      "2020-08-31 13:32:18,018 INFO Request is completed\n",
      "2020-08-31 13:32:18,019 INFO Downloading http://136.156.133.25/cache-compute-0008/cache/data7/adaptor.mars.internal-1598902297.9443924-2136-1-9acd33fd-14b9-4468-bffa-c271b189b5ff.nc to /glade/scratch/vcooper/ERA5/native/months=07_years=2018to2018_minlat=60_grid=0.25x0.25ocean_surface_stress_equivalent_10m_neutral_wind_direction.nc (41.2M)\n",
      "2020-08-31 13:32:24,104 INFO Download rate 6.8M/s   \n"
     ]
    },
    {
     "name": "stdout",
     "output_type": "stream",
     "text": [
      "/glade/scratch/vcooper/ERA5/native/months=08_years=2018to2018_minlat=60_grid=0.25x0.25ocean_surface_stress_equivalent_10m_neutral_wind_direction.nc\n"
     ]
    },
    {
     "name": "stderr",
     "output_type": "stream",
     "text": [
      "2020-08-31 13:32:24,875 INFO Welcome to the CDS\n",
      "2020-08-31 13:32:24,876 INFO Sending request to https://cds.climate.copernicus.eu/api/v2/resources/reanalysis-era5-single-levels\n",
      "2020-08-31 13:32:25,755 INFO Request is queued\n",
      "2020-08-31 13:32:26,875 INFO Request is running\n",
      "2020-08-31 13:32:47,275 INFO Request is completed\n",
      "2020-08-31 13:32:47,276 INFO Downloading http://136.156.133.37/cache-compute-0011/cache/data9/adaptor.mars.internal-1598902327.1880836-31697-35-a35463c4-c67e-4e0e-8cc6-8af8a93f9cdc.nc to /glade/scratch/vcooper/ERA5/native/months=08_years=2018to2018_minlat=60_grid=0.25x0.25ocean_surface_stress_equivalent_10m_neutral_wind_direction.nc (41.2M)\n",
      "2020-08-31 13:32:51,004 INFO Download rate 11.1M/s  \n"
     ]
    }
   ],
   "source": [
    "# Download data for each variable for each month\n",
    "for variable_name in variable_names:\n",
    "    cdict['variable'] = variable_name\n",
    "    for month in month_list:\n",
    "        cdict['month'] = month\n",
    "        \n",
    "        # Set file name\n",
    "        mstr = 'months=' + month\n",
    "        ystr = '_years=' + str(start_year) + 'to' + str(end_year)\n",
    "        astr = '_minlat=' + str(area_list[2])\n",
    "        gstr = '_grid=' + str(grid_list[0]) + 'x' + str(grid_list[1])\n",
    "\n",
    "        if product_source == 'reanalysis-era5-single-levels':\n",
    "            f_name = mstr  + ystr + astr + gstr + variable_name + '.nc'\n",
    "        elif product_source == 'reanalysis-era5-pressure-levels':\n",
    "            if len(pressure_list) == 1:\n",
    "                pstr = '_plevel=' + pressure_list[0] + 'hPa'\n",
    "            else:\n",
    "                pstr = '_plevel=many'\n",
    "            f_name = mstr  + ystr + astr + pstr + gstr + variable_name + '.nc'\n",
    "\n",
    "        if product_type == 'reanalysis':\n",
    "            target = os.path.join('/glade', 'scratch', username, 'ERA5', 'native', f_name)\n",
    "        elif product_type == 'ensemble_spread':\n",
    "            target = os.path.join('/home', 'disk', 'sipn', username, 'ERA5', 'native', 'e_spread', f_name)\n",
    "        print(target)\n",
    "        c = cdsapi.Client()\n",
    "        c.retrieve(product_source, cdict, target)"
   ]
  },
  {
   "cell_type": "code",
   "execution_count": 20,
   "metadata": {},
   "outputs": [
    {
     "name": "stdout",
     "output_type": "stream",
     "text": [
      "Done\n"
     ]
    }
   ],
   "source": [
    "#Print done?\n",
    "print('Done')"
   ]
  },
  {
   "cell_type": "code",
   "execution_count": null,
   "metadata": {},
   "outputs": [],
   "source": []
  },
  {
   "cell_type": "code",
   "execution_count": null,
   "metadata": {},
   "outputs": [],
   "source": []
  }
 ],
 "metadata": {
  "kernelspec": {
   "display_name": "Python 3",
   "language": "python",
   "name": "python3"
  },
  "language_info": {
   "codemirror_mode": {
    "name": "ipython",
    "version": 3
   },
   "file_extension": ".py",
   "mimetype": "text/x-python",
   "name": "python",
   "nbconvert_exporter": "python",
   "pygments_lexer": "ipython3",
   "version": "3.7.3"
  }
 },
 "nbformat": 4,
 "nbformat_minor": 2
}
