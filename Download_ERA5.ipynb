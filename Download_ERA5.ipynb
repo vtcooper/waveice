{
 "cells": [
  {
   "cell_type": "code",
   "execution_count": 1,
   "metadata": {},
   "outputs": [],
   "source": [
    "\"\"\"\n",
    "Code to download ERA5 reanalysis data at 6hr intervals as netcdfs using the cds api.\n",
    "\n",
    "Select variables then provide inputs before running.\n",
    "Make sure target directory exists before downloading.\n",
    "\n",
    "***  Make sure username is changed otherwise you'll overwrite my files I've downloaded :) ***\n",
    "\n",
    "For more info see:\n",
    "https://cds.climate.copernicus.eu/cdsapp#!/dataset/reanalysis-era5-single-levels?tab=overview\n",
    "https://cds.climate.copernicus.eu/cdsapp#!/dataset/reanalysis-era5-pressure-levels?tab=overview\n",
    "\n",
    "or https://confluence.ecmwf.int/display/CKB/How+to+download+ERA5\n",
    "\n",
    "Look here for active requests:\n",
    "https://cds.climate.copernicus.eu/cdsapp#!/yourrequests?tab=form\n",
    "\"\"\"\n",
    "\n",
    "import cdsapi\n",
    "import os"
   ]
  },
  {
   "cell_type": "code",
   "execution_count": 19,
   "metadata": {},
   "outputs": [],
   "source": [
    "# SELECT VARIABLES (Only select ones on same model level together)\n",
    "\n",
    "# SINGLE LEVEL\n",
    "variable_names = []\n",
    "#variable_names.append('mean_sea_level_pressure')\n",
    "variable_names.append('10m_u_component_of_wind')\n",
    "variable_names.append('10m_v_component_of_wind')\n",
    "variable_names.append('sea_ice_cover')\n",
    "# variable_names.append('total_cloud_cover')\n",
    "#variable_names.append('surface_latent_heat_flux')\n",
    "#variable_names.append('surface_net_solar_radiation')\n",
    "#variable_names.append('surface_net_thermal_radiation')\n",
    "#variable_names.append('surface_sensible_heat_flux')\n",
    "#variable_names.append('surface_solar_radiation_downwards')\n",
    "#variable_names.append('surface_thermal_radiation_downwards')\n",
    "#variable_names.append('low_cloud_cover')\n",
    "#variable_names.append('high_cloud_cover')\n",
    "#variable_names.append('medium_cloud_cover')\n",
    "\n",
    "# variable_names.append('2m_temperature')\n",
    "variable_names.append('significant_height_of_combined_wind_waves_and_swell')\n",
    "variable_names.append('significant_height_of_wind_waves')\n",
    "variable_names.append('significant_height_of_total_swell')\n",
    "# variable_names.append('maximum_individual_wave_height')\n",
    "variable_names.append('peak_wave_period')\n",
    "variable_names.append('mean_period_of_wind_waves')\n",
    "variable_names.append('mean_wave_direction')\n",
    "# variable_names.append('ocean_surface_stress_equivalent_10m_neutral_wind_speed')\n",
    "# variable_names.append('ocean_surface_stress_equivalent_10m_neutral_wind_direction')\n",
    "product_source = 'reanalysis-era5-single-levels'\n",
    "\n",
    "# PRESSURE LEVELS (Mostly on different levels so download one variable at a time)\n",
    "#variable_names = ['geopotential']\n",
    "#variable_names = ['vertical_velocity']\n",
    "# variable_names = ['temperature']\n",
    "# pressure_list = ['500'] #pressures in mb of levels to be downloaded\n",
    "# product_source = 'reanalysis-era5-pressure-levels'\n",
    "\n",
    "# POTENTIAL VORTICITY LEVEL\n",
    "#have to go through different method. Use mars request\n",
    "#https://confluence.ecmwf.int/display/CKB/How+to+download+ERA5"
   ]
  },
  {
   "cell_type": "code",
   "execution_count": 28,
   "metadata": {},
   "outputs": [],
   "source": [
    "# PROVIDE INPUTS\n",
    "product_type = 'reanalysis' #'reanalysis' or 'ensemble_spread'\n",
    "start_year = 2017\n",
    "end_year = 2019 # end_year is included in download\n",
    "month_list = ['01', '02', '03', '04', '05', '06', '07', '08', '09', '10', '11', '12'] # note formate of leading zero for single digit months.\n",
    "# month_list = ['07', '08']\n",
    "time_list = ['00:00', '06:00', '12:00', '18:00']\n",
    "# Area: North, West (-ve), South (-ve), East. Default: global\n",
    "area_list  = [90, -180, 60, 180] \n",
    "# Latitude/longitude grid: east-west (longitude) and north-south resolution (latitude).\n",
    "# Default: 0.25 x 0.25 for reanalysis, 0.5 for ocean waves. Might be coarser for ensemble members/spread\n",
    "## see https://confluence.ecmwf.int/display/CKB/How+to+download+ERA5\n",
    "# can also use 1.0, 1.0\n",
    "grid_list =  [0.5, 0.5]\n",
    "username = 'vcooper' #change to your own"
   ]
  },
  {
   "cell_type": "code",
   "execution_count": 29,
   "metadata": {},
   "outputs": [],
   "source": [
    "# Get year list\n",
    "year_list = []\n",
    "for i in range(start_year, end_year+1):\n",
    "    year_list.append(str(i))"
   ]
  },
  {
   "cell_type": "code",
   "execution_count": 30,
   "metadata": {},
   "outputs": [],
   "source": [
    "# Get day list\n",
    "day_list = []\n",
    "for i in range(1, 31+1):\n",
    "    day_list.append(str(i).zfill(2))"
   ]
  },
  {
   "cell_type": "code",
   "execution_count": 31,
   "metadata": {},
   "outputs": [],
   "source": [
    "# Put inputs into dictionary\n",
    "cdict = {\n",
    "        'product_type' : product_type,\n",
    "        'year': year_list,\n",
    "        'day': day_list,\n",
    "        'area' : area_list,\n",
    "        'grid' : grid_list,\n",
    "        'time' : time_list,\n",
    "        'format' : 'netcdf',\n",
    "        }\n",
    "\n",
    "if product_source == 'reanalysis-era5-pressure-levels':\n",
    "    cdict['pressure_level'] = pressure_list"
   ]
  },
  {
   "cell_type": "code",
   "execution_count": 32,
   "metadata": {},
   "outputs": [
    {
     "name": "stdout",
     "output_type": "stream",
     "text": [
      "10m_u_component_of_wind\n",
      "10m_v_component_of_wind\n",
      "sea_ice_cover\n",
      "significant_height_of_combined_wind_waves_and_swell\n",
      "significant_height_of_wind_waves\n",
      "significant_height_of_total_swell\n",
      "peak_wave_period\n",
      "mean_period_of_wind_waves\n",
      "mean_wave_direction\n"
     ]
    }
   ],
   "source": [
    "for variable_name in variable_names:\n",
    "    print(variable_name)"
   ]
  },
  {
   "cell_type": "code",
   "execution_count": 26,
   "metadata": {},
   "outputs": [
    {
     "name": "stdout",
     "output_type": "stream",
     "text": [
      "/glade/campaign/univ/uwas0070/vcooper/waveice/era5/native/months=01_years=2014to2016_minlat=60_grid=0.5x0.510m_u_component_of_wind.nc\n"
     ]
    },
    {
     "name": "stderr",
     "output_type": "stream",
     "text": [
      "2021-04-06 15:23:37,740 INFO Welcome to the CDS\n",
      "2021-04-06 15:23:37,741 INFO Sending request to https://cds.climate.copernicus.eu/api/v2/resources/reanalysis-era5-single-levels\n",
      "2021-04-06 15:23:38,264 INFO Request is completed\n",
      "2021-04-06 15:23:38,265 INFO Downloading https://download-0008.copernicus-climate.eu/cache-compute-0008/cache/data7/adaptor.mars.internal-1617744006.0166593-31521-3-8ea98fbe-095b-4ea8-960b-40508e94525e.nc to /glade/campaign/univ/uwas0070/vcooper/waveice/era5/native/months=01_years=2014to2016_minlat=60_grid=0.5x0.510m_u_component_of_wind.nc (31.2M)\n",
      "2021-04-06 15:23:41,318 INFO Download rate 10.2M/s  \n"
     ]
    },
    {
     "name": "stdout",
     "output_type": "stream",
     "text": [
      "/glade/campaign/univ/uwas0070/vcooper/waveice/era5/native/months=02_years=2014to2016_minlat=60_grid=0.5x0.510m_u_component_of_wind.nc\n"
     ]
    },
    {
     "name": "stderr",
     "output_type": "stream",
     "text": [
      "2021-04-06 15:23:41,923 INFO Welcome to the CDS\n",
      "2021-04-06 15:23:41,924 INFO Sending request to https://cds.climate.copernicus.eu/api/v2/resources/reanalysis-era5-single-levels\n",
      "2021-04-06 15:23:42,452 INFO Request is queued\n",
      "2021-04-06 15:23:43,573 INFO Request is running\n",
      "2021-04-06 15:24:15,493 INFO Request is completed\n",
      "2021-04-06 15:24:15,494 INFO Downloading https://download-0001.copernicus-climate.eu/cache-compute-0001/cache/data5/adaptor.mars.internal-1617744223.3313093-9843-1-a7f67ee2-448e-46d2-868c-6579223bd8a3.nc to /glade/campaign/univ/uwas0070/vcooper/waveice/era5/native/months=02_years=2014to2016_minlat=60_grid=0.5x0.510m_u_component_of_wind.nc (28.5M)\n",
      "2021-04-06 15:24:18,770 INFO Download rate 8.7M/s   \n"
     ]
    },
    {
     "name": "stdout",
     "output_type": "stream",
     "text": [
      "/glade/campaign/univ/uwas0070/vcooper/waveice/era5/native/months=03_years=2014to2016_minlat=60_grid=0.5x0.510m_u_component_of_wind.nc\n"
     ]
    },
    {
     "name": "stderr",
     "output_type": "stream",
     "text": [
      "2021-04-06 15:24:19,382 INFO Welcome to the CDS\n",
      "2021-04-06 15:24:19,383 INFO Sending request to https://cds.climate.copernicus.eu/api/v2/resources/reanalysis-era5-single-levels\n",
      "2021-04-06 15:24:19,937 INFO Request is queued\n",
      "2021-04-06 15:24:21,061 INFO Request is running\n",
      "2021-04-06 15:24:52,979 INFO Request is completed\n",
      "2021-04-06 15:24:52,980 INFO Downloading https://download-0006.copernicus-climate.eu/cache-compute-0006/cache/data0/adaptor.mars.internal-1617744260.3454547-13997-14-b1065043-4bbb-463c-b9a3-91ef2f7d3b95.nc to /glade/campaign/univ/uwas0070/vcooper/waveice/era5/native/months=03_years=2014to2016_minlat=60_grid=0.5x0.510m_u_component_of_wind.nc (31.2M)\n",
      "2021-04-06 15:24:56,223 INFO Download rate 9.6M/s   \n"
     ]
    },
    {
     "name": "stdout",
     "output_type": "stream",
     "text": [
      "/glade/campaign/univ/uwas0070/vcooper/waveice/era5/native/months=04_years=2014to2016_minlat=60_grid=0.5x0.510m_u_component_of_wind.nc\n"
     ]
    },
    {
     "name": "stderr",
     "output_type": "stream",
     "text": [
      "2021-04-06 15:24:56,825 INFO Welcome to the CDS\n",
      "2021-04-06 15:24:56,825 INFO Sending request to https://cds.climate.copernicus.eu/api/v2/resources/reanalysis-era5-single-levels\n",
      "2021-04-06 15:24:57,358 INFO Request is queued\n",
      "2021-04-06 15:24:58,479 INFO Request is running\n",
      "2021-04-06 15:25:30,397 INFO Request is completed\n",
      "2021-04-06 15:25:30,397 INFO Downloading https://download-0005.copernicus-climate.eu/cache-compute-0005/cache/data4/adaptor.mars.internal-1617744298.1696367-24377-25-396cb892-cdbe-473f-9afb-b6396cf747d5.nc to /glade/campaign/univ/uwas0070/vcooper/waveice/era5/native/months=04_years=2014to2016_minlat=60_grid=0.5x0.510m_u_component_of_wind.nc (30.2M)\n",
      "2021-04-06 15:25:33,178 INFO Download rate 10.8M/s  \n"
     ]
    },
    {
     "name": "stdout",
     "output_type": "stream",
     "text": [
      "/glade/campaign/univ/uwas0070/vcooper/waveice/era5/native/months=05_years=2014to2016_minlat=60_grid=0.5x0.510m_u_component_of_wind.nc\n"
     ]
    },
    {
     "name": "stderr",
     "output_type": "stream",
     "text": [
      "2021-04-06 15:25:33,782 INFO Welcome to the CDS\n",
      "2021-04-06 15:25:33,783 INFO Sending request to https://cds.climate.copernicus.eu/api/v2/resources/reanalysis-era5-single-levels\n",
      "2021-04-06 15:25:34,355 INFO Request is queued\n",
      "2021-04-06 15:25:35,474 INFO Request is running\n",
      "2021-04-06 15:26:07,392 INFO Request is completed\n",
      "2021-04-06 15:26:07,392 INFO Downloading https://download-0011.copernicus-climate.eu/cache-compute-0011/cache/data9/adaptor.mars.internal-1617744334.6185894-12247-18-80688a6b-29df-4b63-b6d7-3dc35c341f6d.nc to /glade/campaign/univ/uwas0070/vcooper/waveice/era5/native/months=05_years=2014to2016_minlat=60_grid=0.5x0.510m_u_component_of_wind.nc (31.2M)\n",
      "2021-04-06 15:26:12,699 INFO Download rate 5.9M/s   \n"
     ]
    },
    {
     "name": "stdout",
     "output_type": "stream",
     "text": [
      "/glade/campaign/univ/uwas0070/vcooper/waveice/era5/native/months=06_years=2014to2016_minlat=60_grid=0.5x0.510m_u_component_of_wind.nc\n"
     ]
    },
    {
     "name": "stderr",
     "output_type": "stream",
     "text": [
      "2021-04-06 15:26:13,308 INFO Welcome to the CDS\n",
      "2021-04-06 15:26:13,308 INFO Sending request to https://cds.climate.copernicus.eu/api/v2/resources/reanalysis-era5-single-levels\n",
      "2021-04-06 15:26:13,849 INFO Request is queued\n",
      "2021-04-06 15:26:14,971 INFO Request is running\n",
      "2021-04-06 15:26:46,895 INFO Request is completed\n",
      "2021-04-06 15:26:46,896 INFO Downloading https://download-0007.copernicus-climate.eu/cache-compute-0007/cache/data3/adaptor.mars.internal-1617744374.8694243-15352-7-ce0d498e-8d58-4a0c-9e9a-94ea25c53c4a.nc to /glade/campaign/univ/uwas0070/vcooper/waveice/era5/native/months=06_years=2014to2016_minlat=60_grid=0.5x0.510m_u_component_of_wind.nc (30.2M)\n",
      "2021-04-06 15:26:51,911 INFO Download rate 6M/s     \n"
     ]
    },
    {
     "name": "stdout",
     "output_type": "stream",
     "text": [
      "/glade/campaign/univ/uwas0070/vcooper/waveice/era5/native/months=07_years=2014to2016_minlat=60_grid=0.5x0.510m_u_component_of_wind.nc\n"
     ]
    },
    {
     "name": "stderr",
     "output_type": "stream",
     "text": [
      "2021-04-06 15:26:52,625 INFO Welcome to the CDS\n",
      "2021-04-06 15:26:52,626 INFO Sending request to https://cds.climate.copernicus.eu/api/v2/resources/reanalysis-era5-single-levels\n",
      "2021-04-06 15:26:53,169 INFO Request is queued\n",
      "2021-04-06 15:27:14,712 INFO Request is running\n",
      "2021-04-06 15:27:43,458 INFO Request is completed\n",
      "2021-04-06 15:27:43,459 INFO Downloading https://download-0007.copernicus-climate.eu/cache-compute-0007/cache/data8/adaptor.mars.internal-1617744430.9024806-14484-24-d8d79a19-b580-4f2e-9518-2f6e47db5a4d.nc to /glade/campaign/univ/uwas0070/vcooper/waveice/era5/native/months=07_years=2014to2016_minlat=60_grid=0.5x0.510m_u_component_of_wind.nc (31.2M)\n",
      "2021-04-06 15:27:49,390 INFO Download rate 5.3M/s   \n"
     ]
    },
    {
     "name": "stdout",
     "output_type": "stream",
     "text": [
      "/glade/campaign/univ/uwas0070/vcooper/waveice/era5/native/months=08_years=2014to2016_minlat=60_grid=0.5x0.510m_u_component_of_wind.nc\n"
     ]
    },
    {
     "name": "stderr",
     "output_type": "stream",
     "text": [
      "2021-04-06 15:27:50,012 INFO Welcome to the CDS\n",
      "2021-04-06 15:27:50,013 INFO Sending request to https://cds.climate.copernicus.eu/api/v2/resources/reanalysis-era5-single-levels\n",
      "2021-04-06 15:27:50,539 INFO Request is queued\n",
      "2021-04-06 15:27:53,281 INFO Request is running\n",
      "2021-04-06 15:28:23,584 INFO Request is completed\n",
      "2021-04-06 15:28:23,585 INFO Downloading https://download-0006.copernicus-climate.eu/cache-compute-0006/cache/data6/adaptor.mars.internal-1617744472.794015-15335-9-133c4b75-d645-42ad-b12b-b80ae85b361b.nc to /glade/campaign/univ/uwas0070/vcooper/waveice/era5/native/months=08_years=2014to2016_minlat=60_grid=0.5x0.510m_u_component_of_wind.nc (31.2M)\n",
      "2021-04-06 15:28:26,455 INFO Download rate 10.9M/s  \n"
     ]
    },
    {
     "name": "stdout",
     "output_type": "stream",
     "text": [
      "/glade/campaign/univ/uwas0070/vcooper/waveice/era5/native/months=09_years=2014to2016_minlat=60_grid=0.5x0.510m_u_component_of_wind.nc\n"
     ]
    },
    {
     "name": "stderr",
     "output_type": "stream",
     "text": [
      "2021-04-06 15:28:27,103 INFO Welcome to the CDS\n",
      "2021-04-06 15:28:27,104 INFO Sending request to https://cds.climate.copernicus.eu/api/v2/resources/reanalysis-era5-single-levels\n",
      "2021-04-06 15:28:27,613 INFO Request is queued\n",
      "2021-04-06 15:28:30,355 INFO Request is running\n",
      "2021-04-06 15:29:00,654 INFO Request is completed\n",
      "2021-04-06 15:29:00,654 INFO Downloading https://download-0009.copernicus-climate.eu/cache-compute-0009/cache/data2/adaptor.mars.internal-1617744509.4399633-14210-34-1adebce9-061a-42d4-b032-cde711bdecbf.nc to /glade/campaign/univ/uwas0070/vcooper/waveice/era5/native/months=09_years=2014to2016_minlat=60_grid=0.5x0.510m_u_component_of_wind.nc (30.2M)\n",
      "2021-04-06 15:29:03,176 INFO Download rate 12M/s    \n"
     ]
    },
    {
     "name": "stdout",
     "output_type": "stream",
     "text": [
      "/glade/campaign/univ/uwas0070/vcooper/waveice/era5/native/months=10_years=2014to2016_minlat=60_grid=0.5x0.510m_u_component_of_wind.nc\n"
     ]
    },
    {
     "name": "stderr",
     "output_type": "stream",
     "text": [
      "2021-04-06 15:29:03,781 INFO Welcome to the CDS\n",
      "2021-04-06 15:29:03,782 INFO Sending request to https://cds.climate.copernicus.eu/api/v2/resources/reanalysis-era5-single-levels\n",
      "2021-04-06 15:29:04,292 INFO Request is queued\n",
      "2021-04-06 15:29:05,413 INFO Request is running\n",
      "2021-04-06 15:29:37,332 INFO Request is completed\n",
      "2021-04-06 15:29:37,332 INFO Downloading https://download-0013.copernicus-climate.eu/cache-compute-0013/cache/data1/adaptor.mars.internal-1617744545.1314073-28140-3-4f36fc64-3ecf-4099-8ac6-4cdfddbf99b4.nc to /glade/campaign/univ/uwas0070/vcooper/waveice/era5/native/months=10_years=2014to2016_minlat=60_grid=0.5x0.510m_u_component_of_wind.nc (31.2M)\n",
      "2021-04-06 15:29:40,789 INFO Download rate 9M/s     \n"
     ]
    },
    {
     "name": "stdout",
     "output_type": "stream",
     "text": [
      "/glade/campaign/univ/uwas0070/vcooper/waveice/era5/native/months=11_years=2014to2016_minlat=60_grid=0.5x0.510m_u_component_of_wind.nc\n"
     ]
    },
    {
     "name": "stderr",
     "output_type": "stream",
     "text": [
      "2021-04-06 15:29:41,425 INFO Welcome to the CDS\n",
      "2021-04-06 15:29:41,426 INFO Sending request to https://cds.climate.copernicus.eu/api/v2/resources/reanalysis-era5-single-levels\n",
      "2021-04-06 15:29:41,953 INFO Request is queued\n",
      "2021-04-06 15:29:43,075 INFO Request is running\n",
      "2021-04-06 15:30:14,991 INFO Request is completed\n",
      "2021-04-06 15:30:14,992 INFO Downloading https://download-0008.copernicus-climate.eu/cache-compute-0008/cache/data9/adaptor.mars.internal-1617744582.9446635-3123-14-f82794cb-82aa-4d30-9fae-b3fb02ac5bdb.nc to /glade/campaign/univ/uwas0070/vcooper/waveice/era5/native/months=11_years=2014to2016_minlat=60_grid=0.5x0.510m_u_component_of_wind.nc (30.2M)\n",
      "2021-04-06 15:30:18,455 INFO Download rate 8.7M/s   \n"
     ]
    },
    {
     "name": "stdout",
     "output_type": "stream",
     "text": [
      "/glade/campaign/univ/uwas0070/vcooper/waveice/era5/native/months=12_years=2014to2016_minlat=60_grid=0.5x0.510m_u_component_of_wind.nc\n"
     ]
    },
    {
     "name": "stderr",
     "output_type": "stream",
     "text": [
      "2021-04-06 15:30:19,059 INFO Welcome to the CDS\n",
      "2021-04-06 15:30:19,060 INFO Sending request to https://cds.climate.copernicus.eu/api/v2/resources/reanalysis-era5-single-levels\n",
      "2021-04-06 15:30:19,608 INFO Request is queued\n",
      "2021-04-06 15:30:20,728 INFO Request is running\n",
      "2021-04-06 15:31:09,876 INFO Request is completed\n",
      "2021-04-06 15:31:09,877 INFO Downloading https://download-0008.copernicus-climate.eu/cache-compute-0008/cache/data9/adaptor.mars.internal-1617744619.8263023-2294-24-00198ebf-f285-444f-90da-2ce34bf4ff3f.nc to /glade/campaign/univ/uwas0070/vcooper/waveice/era5/native/months=12_years=2014to2016_minlat=60_grid=0.5x0.510m_u_component_of_wind.nc (31.2M)\n",
      "2021-04-06 15:31:13,760 INFO Download rate 8M/s     \n"
     ]
    },
    {
     "name": "stdout",
     "output_type": "stream",
     "text": [
      "/glade/campaign/univ/uwas0070/vcooper/waveice/era5/native/months=01_years=2014to2016_minlat=60_grid=0.5x0.510m_v_component_of_wind.nc\n"
     ]
    },
    {
     "name": "stderr",
     "output_type": "stream",
     "text": [
      "2021-04-06 15:31:14,367 INFO Welcome to the CDS\n",
      "2021-04-06 15:31:14,368 INFO Sending request to https://cds.climate.copernicus.eu/api/v2/resources/reanalysis-era5-single-levels\n",
      "2021-04-06 15:31:14,894 INFO Request is queued\n",
      "2021-04-06 15:31:16,015 INFO Request is running\n",
      "2021-04-06 15:31:47,936 INFO Request is completed\n",
      "2021-04-06 15:31:47,937 INFO Downloading https://download-0006.copernicus-climate.eu/cache-compute-0006/cache/data7/adaptor.mars.internal-1617744675.7331696-16687-14-01889d65-e996-4e06-a996-2884773f4cb1.nc to /glade/campaign/univ/uwas0070/vcooper/waveice/era5/native/months=01_years=2014to2016_minlat=60_grid=0.5x0.510m_v_component_of_wind.nc (31.2M)\n",
      "2021-04-06 15:31:53,239 INFO Download rate 5.9M/s   \n"
     ]
    },
    {
     "name": "stdout",
     "output_type": "stream",
     "text": [
      "/glade/campaign/univ/uwas0070/vcooper/waveice/era5/native/months=02_years=2014to2016_minlat=60_grid=0.5x0.510m_v_component_of_wind.nc\n"
     ]
    },
    {
     "name": "stderr",
     "output_type": "stream",
     "text": [
      "2021-04-06 15:31:53,886 INFO Welcome to the CDS\n",
      "2021-04-06 15:31:53,887 INFO Sending request to https://cds.climate.copernicus.eu/api/v2/resources/reanalysis-era5-single-levels\n",
      "2021-04-06 15:31:54,404 INFO Request is queued\n",
      "2021-04-06 15:32:08,214 INFO Request is running\n",
      "2021-04-06 15:32:44,680 INFO Request is completed\n",
      "2021-04-06 15:32:44,681 INFO Downloading https://download-0013.copernicus-climate.eu/cache-compute-0013/cache/data3/adaptor.mars.internal-1617744724.8829882-27200-32-e03073ec-fbd6-451d-be8e-6e5d42685192.nc to /glade/campaign/univ/uwas0070/vcooper/waveice/era5/native/months=02_years=2014to2016_minlat=60_grid=0.5x0.510m_v_component_of_wind.nc (28.5M)\n",
      "2021-04-06 15:32:50,077 INFO Download rate 5.3M/s   \n"
     ]
    },
    {
     "name": "stdout",
     "output_type": "stream",
     "text": [
      "/glade/campaign/univ/uwas0070/vcooper/waveice/era5/native/months=03_years=2014to2016_minlat=60_grid=0.5x0.510m_v_component_of_wind.nc\n"
     ]
    },
    {
     "name": "stderr",
     "output_type": "stream",
     "text": [
      "2021-04-06 15:32:50,678 INFO Welcome to the CDS\n",
      "2021-04-06 15:32:50,679 INFO Sending request to https://cds.climate.copernicus.eu/api/v2/resources/reanalysis-era5-single-levels\n",
      "2021-04-06 15:32:51,208 INFO Request is queued\n",
      "2021-04-06 15:32:52,329 INFO Request is running\n",
      "2021-04-06 15:33:24,248 INFO Request is completed\n",
      "2021-04-06 15:33:24,249 INFO Downloading https://download-0008.copernicus-climate.eu/cache-compute-0008/cache/data3/adaptor.mars.internal-1617744771.8144581-28315-26-141d1f60-1239-4c6d-aa20-5c3803d4469e.nc to /glade/campaign/univ/uwas0070/vcooper/waveice/era5/native/months=03_years=2014to2016_minlat=60_grid=0.5x0.510m_v_component_of_wind.nc (31.2M)\n",
      "2021-04-06 15:33:29,031 INFO Download rate 6.5M/s   \n"
     ]
    },
    {
     "name": "stdout",
     "output_type": "stream",
     "text": [
      "/glade/campaign/univ/uwas0070/vcooper/waveice/era5/native/months=04_years=2014to2016_minlat=60_grid=0.5x0.510m_v_component_of_wind.nc\n"
     ]
    },
    {
     "name": "stderr",
     "output_type": "stream",
     "text": [
      "2021-04-06 15:33:29,636 INFO Welcome to the CDS\n",
      "2021-04-06 15:33:29,636 INFO Sending request to https://cds.climate.copernicus.eu/api/v2/resources/reanalysis-era5-single-levels\n",
      "2021-04-06 15:33:30,199 INFO Request is queued\n",
      "2021-04-06 15:33:32,941 INFO Request is running\n",
      "2021-04-06 15:34:03,245 INFO Request is completed\n",
      "2021-04-06 15:34:03,246 INFO Downloading https://download-0011.copernicus-climate.eu/cache-compute-0011/cache/data3/adaptor.mars.internal-1617744811.7748306-17741-19-c20036fb-793d-4785-a7cc-47a6232343ed.nc to /glade/campaign/univ/uwas0070/vcooper/waveice/era5/native/months=04_years=2014to2016_minlat=60_grid=0.5x0.510m_v_component_of_wind.nc (30.2M)\n",
      "2021-04-06 15:34:11,367 INFO Download rate 3.7M/s   \n"
     ]
    },
    {
     "name": "stdout",
     "output_type": "stream",
     "text": [
      "/glade/campaign/univ/uwas0070/vcooper/waveice/era5/native/months=05_years=2014to2016_minlat=60_grid=0.5x0.510m_v_component_of_wind.nc\n"
     ]
    },
    {
     "name": "stderr",
     "output_type": "stream",
     "text": [
      "2021-04-06 15:34:11,984 INFO Welcome to the CDS\n",
      "2021-04-06 15:34:11,985 INFO Sending request to https://cds.climate.copernicus.eu/api/v2/resources/reanalysis-era5-single-levels\n",
      "2021-04-06 15:34:12,498 INFO Request is queued\n",
      "2021-04-06 15:34:13,619 INFO Request is running\n",
      "2021-04-06 15:34:45,542 INFO Request is completed\n",
      "2021-04-06 15:34:45,543 INFO Downloading https://download-0013.copernicus-climate.eu/cache-compute-0013/cache/data1/adaptor.mars.internal-1617744853.1900384-31107-22-07554711-cd30-44f3-aeac-348d780eb102.nc to /glade/campaign/univ/uwas0070/vcooper/waveice/era5/native/months=05_years=2014to2016_minlat=60_grid=0.5x0.510m_v_component_of_wind.nc (31.2M)\n",
      "2021-04-06 15:34:51,855 INFO Download rate 4.9M/s   \n"
     ]
    },
    {
     "name": "stdout",
     "output_type": "stream",
     "text": [
      "/glade/campaign/univ/uwas0070/vcooper/waveice/era5/native/months=06_years=2014to2016_minlat=60_grid=0.5x0.510m_v_component_of_wind.nc\n"
     ]
    },
    {
     "name": "stderr",
     "output_type": "stream",
     "text": [
      "2021-04-06 15:34:52,462 INFO Welcome to the CDS\n",
      "2021-04-06 15:34:52,463 INFO Sending request to https://cds.climate.copernicus.eu/api/v2/resources/reanalysis-era5-single-levels\n",
      "2021-04-06 15:34:53,053 INFO Request is queued\n",
      "2021-04-06 15:35:01,671 INFO Request is running\n",
      "2021-04-06 15:35:14,577 INFO Request is completed\n",
      "2021-04-06 15:35:14,578 INFO Downloading https://download-0003.copernicus-climate.eu/cache-compute-0003/cache/data0/adaptor.mars.internal-1617744898.409306-22286-19-4f38fc54-9cb6-484c-9abe-0fc526e08d96.nc to /glade/campaign/univ/uwas0070/vcooper/waveice/era5/native/months=06_years=2014to2016_minlat=60_grid=0.5x0.510m_v_component_of_wind.nc (30.2M)\n",
      "2021-04-06 15:35:17,970 INFO Download rate 8.9M/s   \n"
     ]
    },
    {
     "name": "stdout",
     "output_type": "stream",
     "text": [
      "/glade/campaign/univ/uwas0070/vcooper/waveice/era5/native/months=07_years=2014to2016_minlat=60_grid=0.5x0.510m_v_component_of_wind.nc\n"
     ]
    },
    {
     "name": "stderr",
     "output_type": "stream",
     "text": [
      "2021-04-06 15:35:18,589 INFO Welcome to the CDS\n",
      "2021-04-06 15:35:18,589 INFO Sending request to https://cds.climate.copernicus.eu/api/v2/resources/reanalysis-era5-single-levels\n",
      "2021-04-06 15:35:19,114 INFO Request is queued\n",
      "2021-04-06 15:35:20,236 INFO Request is running\n",
      "2021-04-06 15:35:52,158 INFO Request is completed\n",
      "2021-04-06 15:35:52,159 INFO Downloading https://download-0011.copernicus-climate.eu/cache-compute-0011/cache/data6/adaptor.mars.internal-1617744919.3037443-22268-10-cb39aac5-3952-4e72-b85b-37d021591b69.nc to /glade/campaign/univ/uwas0070/vcooper/waveice/era5/native/months=07_years=2014to2016_minlat=60_grid=0.5x0.510m_v_component_of_wind.nc (31.2M)\n",
      "2021-04-06 15:36:01,174 INFO Download rate 3.5M/s   \n"
     ]
    },
    {
     "name": "stdout",
     "output_type": "stream",
     "text": [
      "/glade/campaign/univ/uwas0070/vcooper/waveice/era5/native/months=08_years=2014to2016_minlat=60_grid=0.5x0.510m_v_component_of_wind.nc\n"
     ]
    },
    {
     "name": "stderr",
     "output_type": "stream",
     "text": [
      "2021-04-06 15:36:01,776 INFO Welcome to the CDS\n",
      "2021-04-06 15:36:01,777 INFO Sending request to https://cds.climate.copernicus.eu/api/v2/resources/reanalysis-era5-single-levels\n",
      "2021-04-06 15:36:02,270 INFO Request is queued\n",
      "2021-04-06 15:36:03,391 INFO Request is running\n",
      "2021-04-06 15:36:35,311 INFO Request is completed\n",
      "2021-04-06 15:36:35,312 INFO Downloading https://download-0005.copernicus-climate.eu/cache-compute-0005/cache/data7/adaptor.mars.internal-1617744963.15942-28957-27-beab6752-a5f9-4bf1-8771-c72430cddb2e.nc to /glade/campaign/univ/uwas0070/vcooper/waveice/era5/native/months=08_years=2014to2016_minlat=60_grid=0.5x0.510m_v_component_of_wind.nc (31.2M)\n",
      "2021-04-06 15:36:38,511 INFO Download rate 9.7M/s   \n"
     ]
    },
    {
     "name": "stdout",
     "output_type": "stream",
     "text": [
      "/glade/campaign/univ/uwas0070/vcooper/waveice/era5/native/months=09_years=2014to2016_minlat=60_grid=0.5x0.510m_v_component_of_wind.nc\n"
     ]
    },
    {
     "name": "stderr",
     "output_type": "stream",
     "text": [
      "2021-04-06 15:36:39,113 INFO Welcome to the CDS\n",
      "2021-04-06 15:36:39,113 INFO Sending request to https://cds.climate.copernicus.eu/api/v2/resources/reanalysis-era5-single-levels\n",
      "2021-04-06 15:36:39,626 INFO Request is queued\n",
      "2021-04-06 15:36:40,747 INFO Request is running\n",
      "2021-04-06 15:37:12,671 INFO Request is completed\n",
      "2021-04-06 15:37:12,672 INFO Downloading https://download-0013.copernicus-climate.eu/cache-compute-0013/cache/data3/adaptor.mars.internal-1617744999.8295488-3884-7-ea32f338-98fc-4f3e-9df5-33ca0c0fcbb1.nc to /glade/campaign/univ/uwas0070/vcooper/waveice/era5/native/months=09_years=2014to2016_minlat=60_grid=0.5x0.510m_v_component_of_wind.nc (30.2M)\n",
      "2021-04-06 15:37:18,734 INFO Download rate 5M/s     \n"
     ]
    },
    {
     "name": "stdout",
     "output_type": "stream",
     "text": [
      "/glade/campaign/univ/uwas0070/vcooper/waveice/era5/native/months=10_years=2014to2016_minlat=60_grid=0.5x0.510m_v_component_of_wind.nc\n"
     ]
    },
    {
     "name": "stderr",
     "output_type": "stream",
     "text": [
      "2021-04-06 15:37:19,396 INFO Welcome to the CDS\n",
      "2021-04-06 15:37:19,397 INFO Sending request to https://cds.climate.copernicus.eu/api/v2/resources/reanalysis-era5-single-levels\n",
      "2021-04-06 15:37:19,909 INFO Request is queued\n",
      "2021-04-06 15:37:22,650 INFO Request is running\n",
      "2021-04-06 15:37:52,949 INFO Request is completed\n",
      "2021-04-06 15:37:52,949 INFO Downloading https://download-0001.copernicus-climate.eu/cache-compute-0001/cache/data0/adaptor.mars.internal-1617745042.5311143-19922-23-bf3d40e7-3d5c-4cb8-aead-0575be1858e9.nc to /glade/campaign/univ/uwas0070/vcooper/waveice/era5/native/months=10_years=2014to2016_minlat=60_grid=0.5x0.510m_v_component_of_wind.nc (31.2M)\n",
      "2021-04-06 15:37:56,504 INFO Download rate 8.8M/s   \n"
     ]
    },
    {
     "name": "stdout",
     "output_type": "stream",
     "text": [
      "/glade/campaign/univ/uwas0070/vcooper/waveice/era5/native/months=11_years=2014to2016_minlat=60_grid=0.5x0.510m_v_component_of_wind.nc\n"
     ]
    },
    {
     "name": "stderr",
     "output_type": "stream",
     "text": [
      "2021-04-06 15:37:57,116 INFO Welcome to the CDS\n",
      "2021-04-06 15:37:57,116 INFO Sending request to https://cds.climate.copernicus.eu/api/v2/resources/reanalysis-era5-single-levels\n",
      "2021-04-06 15:37:57,637 INFO Request is queued\n",
      "2021-04-06 15:38:02,756 INFO Request is running\n",
      "2021-04-06 15:38:30,686 INFO Request is completed\n",
      "2021-04-06 15:38:30,686 INFO Downloading https://download-0007.copernicus-climate.eu/cache-compute-0007/cache/data9/adaptor.mars.internal-1617745082.527197-23931-14-760f31d7-cdf1-4370-b396-a075fe7aaf6c.nc to /glade/campaign/univ/uwas0070/vcooper/waveice/era5/native/months=11_years=2014to2016_minlat=60_grid=0.5x0.510m_v_component_of_wind.nc (30.2M)\n",
      "2021-04-06 15:38:37,298 INFO Download rate 4.6M/s   \n"
     ]
    },
    {
     "name": "stdout",
     "output_type": "stream",
     "text": [
      "/glade/campaign/univ/uwas0070/vcooper/waveice/era5/native/months=12_years=2014to2016_minlat=60_grid=0.5x0.510m_v_component_of_wind.nc\n"
     ]
    },
    {
     "name": "stderr",
     "output_type": "stream",
     "text": [
      "2021-04-06 15:38:37,965 INFO Welcome to the CDS\n",
      "2021-04-06 15:38:37,966 INFO Sending request to https://cds.climate.copernicus.eu/api/v2/resources/reanalysis-era5-single-levels\n",
      "2021-04-06 15:38:38,531 INFO Request is queued\n",
      "2021-04-06 15:38:39,658 INFO Request is running\n",
      "2021-04-06 15:39:11,586 INFO Request is completed\n",
      "2021-04-06 15:39:11,587 INFO Downloading https://download-0000.copernicus-climate.eu/cache-compute-0000/cache/data5/adaptor.mars.internal-1617745119.3012762-5222-31-f49585a9-4299-49c7-aee1-fed34a4c6ccb.nc to /glade/campaign/univ/uwas0070/vcooper/waveice/era5/native/months=12_years=2014to2016_minlat=60_grid=0.5x0.510m_v_component_of_wind.nc (31.2M)\n",
      "2021-04-06 15:39:15,277 INFO Download rate 8.4M/s   \n"
     ]
    },
    {
     "name": "stdout",
     "output_type": "stream",
     "text": [
      "/glade/campaign/univ/uwas0070/vcooper/waveice/era5/native/months=01_years=2014to2016_minlat=60_grid=0.5x0.5sea_ice_cover.nc\n"
     ]
    },
    {
     "name": "stderr",
     "output_type": "stream",
     "text": [
      "2021-04-06 15:39:15,891 INFO Welcome to the CDS\n",
      "2021-04-06 15:39:15,892 INFO Sending request to https://cds.climate.copernicus.eu/api/v2/resources/reanalysis-era5-single-levels\n",
      "2021-04-06 15:39:16,471 INFO Request is queued\n",
      "2021-04-06 15:39:17,594 INFO Request is running\n",
      "2021-04-06 15:40:06,743 INFO Request is completed\n",
      "2021-04-06 15:40:06,744 INFO Downloading https://download-0007.copernicus-climate.eu/cache-compute-0007/cache/data1/adaptor.mars.internal-1617745156.6229842-24911-19-ba621294-3b93-4652-8068-28ceaddf15b8.nc to /glade/campaign/univ/uwas0070/vcooper/waveice/era5/native/months=01_years=2014to2016_minlat=60_grid=0.5x0.5sea_ice_cover.nc (31.2M)\n",
      "2021-04-06 15:40:13,714 INFO Download rate 4.5M/s   \n"
     ]
    },
    {
     "name": "stdout",
     "output_type": "stream",
     "text": [
      "/glade/campaign/univ/uwas0070/vcooper/waveice/era5/native/months=02_years=2014to2016_minlat=60_grid=0.5x0.5sea_ice_cover.nc\n"
     ]
    },
    {
     "name": "stderr",
     "output_type": "stream",
     "text": [
      "2021-04-06 15:40:14,340 INFO Welcome to the CDS\n",
      "2021-04-06 15:40:14,341 INFO Sending request to https://cds.climate.copernicus.eu/api/v2/resources/reanalysis-era5-single-levels\n",
      "2021-04-06 15:40:14,891 INFO Request is queued\n",
      "2021-04-06 15:40:16,013 INFO Request is running\n",
      "2021-04-06 15:41:05,160 INFO Request is completed\n",
      "2021-04-06 15:41:05,161 INFO Downloading https://download-0008.copernicus-climate.eu/cache-compute-0008/cache/data0/adaptor.mars.internal-1617745215.095701-14558-11-41f74ca2-d00e-4761-9849-8b87ca9a9afb.nc to /glade/campaign/univ/uwas0070/vcooper/waveice/era5/native/months=02_years=2014to2016_minlat=60_grid=0.5x0.5sea_ice_cover.nc (28.5M)\n",
      "2021-04-06 15:41:09,190 INFO Download rate 7.1M/s   \n"
     ]
    },
    {
     "name": "stdout",
     "output_type": "stream",
     "text": [
      "/glade/campaign/univ/uwas0070/vcooper/waveice/era5/native/months=03_years=2014to2016_minlat=60_grid=0.5x0.5sea_ice_cover.nc\n"
     ]
    },
    {
     "name": "stderr",
     "output_type": "stream",
     "text": [
      "2021-04-06 15:41:09,863 INFO Welcome to the CDS\n",
      "2021-04-06 15:41:09,864 INFO Sending request to https://cds.climate.copernicus.eu/api/v2/resources/reanalysis-era5-single-levels\n",
      "2021-04-06 15:41:10,368 INFO Request is queued\n",
      "2021-04-06 15:41:11,488 INFO Request is running\n",
      "2021-04-06 15:42:00,638 INFO Request is completed\n",
      "2021-04-06 15:42:00,639 INFO Downloading https://download-0010.copernicus-climate.eu/cache-compute-0010/cache/data0/adaptor.mars.internal-1617745270.4518728-21599-17-283032f7-2286-45dd-bcb3-9c1bc9372b38.nc to /glade/campaign/univ/uwas0070/vcooper/waveice/era5/native/months=03_years=2014to2016_minlat=60_grid=0.5x0.5sea_ice_cover.nc (31.2M)\n",
      "2021-04-06 15:42:04,059 INFO Download rate 9.1M/s   \n"
     ]
    },
    {
     "name": "stdout",
     "output_type": "stream",
     "text": [
      "/glade/campaign/univ/uwas0070/vcooper/waveice/era5/native/months=04_years=2014to2016_minlat=60_grid=0.5x0.5sea_ice_cover.nc\n"
     ]
    },
    {
     "name": "stderr",
     "output_type": "stream",
     "text": [
      "2021-04-06 15:42:04,681 INFO Welcome to the CDS\n",
      "2021-04-06 15:42:04,681 INFO Sending request to https://cds.climate.copernicus.eu/api/v2/resources/reanalysis-era5-single-levels\n",
      "2021-04-06 15:42:05,211 INFO Request is queued\n",
      "2021-04-06 15:42:07,953 INFO Request is running\n",
      "2021-04-06 15:42:55,488 INFO Request is completed\n",
      "2021-04-06 15:42:55,489 INFO Downloading https://download-0000.copernicus-climate.eu/cache-compute-0000/cache/data7/adaptor.mars.internal-1617745326.4422286-8635-7-bb840908-feee-4235-a4ff-cc198d915c6c.nc to /glade/campaign/univ/uwas0070/vcooper/waveice/era5/native/months=04_years=2014to2016_minlat=60_grid=0.5x0.5sea_ice_cover.nc (30.2M)\n",
      "2021-04-06 15:42:59,980 INFO Download rate 6.7M/s   \n"
     ]
    },
    {
     "name": "stdout",
     "output_type": "stream",
     "text": [
      "/glade/campaign/univ/uwas0070/vcooper/waveice/era5/native/months=05_years=2014to2016_minlat=60_grid=0.5x0.5sea_ice_cover.nc\n"
     ]
    },
    {
     "name": "stderr",
     "output_type": "stream",
     "text": [
      "2021-04-06 15:43:00,589 INFO Welcome to the CDS\n",
      "2021-04-06 15:43:00,590 INFO Sending request to https://cds.climate.copernicus.eu/api/v2/resources/reanalysis-era5-single-levels\n",
      "2021-04-06 15:43:01,115 INFO Request is queued\n",
      "2021-04-06 15:43:06,237 INFO Request is running\n",
      "2021-04-06 15:43:51,387 INFO Request is completed\n",
      "2021-04-06 15:43:51,388 INFO Downloading https://download-0007.copernicus-climate.eu/cache-compute-0007/cache/data6/adaptor.mars.internal-1617745384.8681347-27173-14-51c52ab0-fae2-41a4-8ed9-1604f91cbf45.nc to /glade/campaign/univ/uwas0070/vcooper/waveice/era5/native/months=05_years=2014to2016_minlat=60_grid=0.5x0.5sea_ice_cover.nc (31.2M)\n",
      "2021-04-06 15:43:59,277 INFO Download rate 4M/s     \n"
     ]
    },
    {
     "name": "stdout",
     "output_type": "stream",
     "text": [
      "/glade/campaign/univ/uwas0070/vcooper/waveice/era5/native/months=06_years=2014to2016_minlat=60_grid=0.5x0.5sea_ice_cover.nc\n"
     ]
    },
    {
     "name": "stderr",
     "output_type": "stream",
     "text": [
      "2021-04-06 15:43:59,902 INFO Welcome to the CDS\n",
      "2021-04-06 15:43:59,903 INFO Sending request to https://cds.climate.copernicus.eu/api/v2/resources/reanalysis-era5-single-levels\n",
      "2021-04-06 15:44:00,424 INFO Request is queued\n",
      "2021-04-06 15:45:16,463 INFO Request is running\n",
      "2021-04-06 15:45:55,042 INFO Request is completed\n",
      "2021-04-06 15:45:55,043 INFO Downloading https://download-0013.copernicus-climate.eu/cache-compute-0013/cache/data1/adaptor.mars.internal-1617745514.9011838-5663-15-3639d09f-8bf3-4673-bc07-7755d48c42f3.nc to /glade/campaign/univ/uwas0070/vcooper/waveice/era5/native/months=06_years=2014to2016_minlat=60_grid=0.5x0.5sea_ice_cover.nc (30.2M)\n",
      "2021-04-06 15:46:01,931 INFO Download rate 4.4M/s   \n"
     ]
    },
    {
     "name": "stdout",
     "output_type": "stream",
     "text": [
      "/glade/campaign/univ/uwas0070/vcooper/waveice/era5/native/months=07_years=2014to2016_minlat=60_grid=0.5x0.5sea_ice_cover.nc\n"
     ]
    },
    {
     "name": "stderr",
     "output_type": "stream",
     "text": [
      "2021-04-06 15:46:02,554 INFO Welcome to the CDS\n",
      "2021-04-06 15:46:02,554 INFO Sending request to https://cds.climate.copernicus.eu/api/v2/resources/reanalysis-era5-single-levels\n",
      "2021-04-06 15:46:03,093 INFO Request is queued\n",
      "2021-04-06 15:47:57,694 INFO Request is running\n",
      "2021-04-06 15:48:55,537 INFO Request is completed\n",
      "2021-04-06 15:48:55,538 INFO Downloading https://download-0010.copernicus-climate.eu/cache-compute-0010/cache/data0/adaptor.mars.internal-1617745667.7752717-25138-2-4d49296e-f65e-4b75-b5af-840d4eb99cda.nc to /glade/campaign/univ/uwas0070/vcooper/waveice/era5/native/months=07_years=2014to2016_minlat=60_grid=0.5x0.5sea_ice_cover.nc (31.2M)\n",
      "2021-04-06 15:48:58,146 INFO Download rate 12M/s    \n"
     ]
    },
    {
     "name": "stdout",
     "output_type": "stream",
     "text": [
      "/glade/campaign/univ/uwas0070/vcooper/waveice/era5/native/months=08_years=2014to2016_minlat=60_grid=0.5x0.5sea_ice_cover.nc\n"
     ]
    },
    {
     "name": "stderr",
     "output_type": "stream",
     "text": [
      "2021-04-06 15:48:58,758 INFO Welcome to the CDS\n",
      "2021-04-06 15:48:58,759 INFO Sending request to https://cds.climate.copernicus.eu/api/v2/resources/reanalysis-era5-single-levels\n",
      "2021-04-06 15:48:59,296 INFO Request is queued\n",
      "2021-04-06 15:49:00,418 INFO Request is running\n",
      "2021-04-06 15:49:49,564 INFO Request is completed\n",
      "2021-04-06 15:49:49,565 INFO Downloading https://download-0005.copernicus-climate.eu/cache-compute-0005/cache/data1/adaptor.mars.internal-1617745739.7218661-12868-10-477be3bc-c6c6-4f7a-ae49-10502f1793db.nc to /glade/campaign/univ/uwas0070/vcooper/waveice/era5/native/months=08_years=2014to2016_minlat=60_grid=0.5x0.5sea_ice_cover.nc (31.2M)\n",
      "2021-04-06 15:49:53,389 INFO Download rate 8.2M/s   \n"
     ]
    },
    {
     "name": "stdout",
     "output_type": "stream",
     "text": [
      "/glade/campaign/univ/uwas0070/vcooper/waveice/era5/native/months=09_years=2014to2016_minlat=60_grid=0.5x0.5sea_ice_cover.nc\n"
     ]
    },
    {
     "name": "stderr",
     "output_type": "stream",
     "text": [
      "2021-04-06 15:49:53,999 INFO Welcome to the CDS\n",
      "2021-04-06 15:49:54,000 INFO Sending request to https://cds.climate.copernicus.eu/api/v2/resources/reanalysis-era5-single-levels\n",
      "2021-04-06 15:49:54,520 INFO Request is queued\n",
      "2021-04-06 15:51:10,542 INFO Request is running\n",
      "2021-04-06 15:51:49,145 INFO Request is completed\n",
      "2021-04-06 15:51:49,146 INFO Downloading https://download-0002.copernicus-climate.eu/cache-compute-0002/cache/data6/adaptor.mars.internal-1617745845.247598-18600-33-4b051b74-c43f-4046-94a9-36f031bd9b07.nc to /glade/campaign/univ/uwas0070/vcooper/waveice/era5/native/months=09_years=2014to2016_minlat=60_grid=0.5x0.5sea_ice_cover.nc (30.2M)\n",
      "2021-04-06 15:51:51,615 INFO Download rate 12.2M/s  \n"
     ]
    },
    {
     "name": "stdout",
     "output_type": "stream",
     "text": [
      "/glade/campaign/univ/uwas0070/vcooper/waveice/era5/native/months=10_years=2014to2016_minlat=60_grid=0.5x0.5sea_ice_cover.nc\n"
     ]
    },
    {
     "name": "stderr",
     "output_type": "stream",
     "text": [
      "2021-04-06 15:51:52,218 INFO Welcome to the CDS\n",
      "2021-04-06 15:51:52,218 INFO Sending request to https://cds.climate.copernicus.eu/api/v2/resources/reanalysis-era5-single-levels\n",
      "2021-04-06 15:51:52,812 INFO Request is queued\n",
      "2021-04-06 15:52:43,080 INFO Request is running\n",
      "2021-04-06 15:53:47,449 INFO Request is completed\n",
      "2021-04-06 15:53:47,450 INFO Downloading https://download-0014.copernicus-climate.eu/cache-compute-0014/cache/data3/adaptor.mars.internal-1617745957.0026062-13946-6-14c1b29b-4ef8-41a6-8b0c-51c3fcda133a.nc to /glade/campaign/univ/uwas0070/vcooper/waveice/era5/native/months=10_years=2014to2016_minlat=60_grid=0.5x0.5sea_ice_cover.nc (31.2M)\n",
      "2021-04-06 15:53:49,947 INFO Download rate 12.5M/s  \n"
     ]
    },
    {
     "name": "stdout",
     "output_type": "stream",
     "text": [
      "/glade/campaign/univ/uwas0070/vcooper/waveice/era5/native/months=11_years=2014to2016_minlat=60_grid=0.5x0.5sea_ice_cover.nc\n"
     ]
    },
    {
     "name": "stderr",
     "output_type": "stream",
     "text": [
      "2021-04-06 15:53:50,633 INFO Welcome to the CDS\n",
      "2021-04-06 15:53:50,634 INFO Sending request to https://cds.climate.copernicus.eu/api/v2/resources/reanalysis-era5-single-levels\n",
      "2021-04-06 15:53:51,180 INFO Request is queued\n",
      "2021-04-06 15:53:52,301 INFO Request is running\n",
      "2021-04-06 15:54:41,450 INFO Request is completed\n",
      "2021-04-06 15:54:41,451 INFO Downloading https://download-0006.copernicus-climate.eu/cache-compute-0006/cache/data8/adaptor.mars.internal-1617746031.914474-19862-13-ac318ece-40df-42a3-a136-2c3be627a5f6.nc to /glade/campaign/univ/uwas0070/vcooper/waveice/era5/native/months=11_years=2014to2016_minlat=60_grid=0.5x0.5sea_ice_cover.nc (30.2M)\n",
      "2021-04-06 15:54:47,359 INFO Download rate 5.1M/s   \n"
     ]
    },
    {
     "name": "stdout",
     "output_type": "stream",
     "text": [
      "/glade/campaign/univ/uwas0070/vcooper/waveice/era5/native/months=12_years=2014to2016_minlat=60_grid=0.5x0.5sea_ice_cover.nc\n"
     ]
    },
    {
     "name": "stderr",
     "output_type": "stream",
     "text": [
      "2021-04-06 15:54:47,980 INFO Welcome to the CDS\n",
      "2021-04-06 15:54:47,981 INFO Sending request to https://cds.climate.copernicus.eu/api/v2/resources/reanalysis-era5-single-levels\n",
      "2021-04-06 15:54:48,563 INFO Request is queued\n",
      "2021-04-06 15:54:49,684 INFO Request is running\n",
      "2021-04-06 15:55:38,827 INFO Request is completed\n",
      "2021-04-06 15:55:38,828 INFO Downloading https://download-0012.copernicus-climate.eu/cache-compute-0012/cache/data2/adaptor.mars.internal-1617746088.8171794-30441-18-831c81c9-aa59-4b83-bd3d-7d91a52dfd67.nc to /glade/campaign/univ/uwas0070/vcooper/waveice/era5/native/months=12_years=2014to2016_minlat=60_grid=0.5x0.5sea_ice_cover.nc (31.2M)\n",
      "2021-04-06 15:55:41,858 INFO Download rate 10.3M/s  \n"
     ]
    },
    {
     "name": "stdout",
     "output_type": "stream",
     "text": [
      "/glade/campaign/univ/uwas0070/vcooper/waveice/era5/native/months=01_years=2014to2016_minlat=60_grid=0.5x0.5significant_height_of_combined_wind_waves_and_swell.nc\n"
     ]
    },
    {
     "name": "stderr",
     "output_type": "stream",
     "text": [
      "2021-04-06 15:55:42,462 INFO Welcome to the CDS\n",
      "2021-04-06 15:55:42,463 INFO Sending request to https://cds.climate.copernicus.eu/api/v2/resources/reanalysis-era5-single-levels\n",
      "2021-04-06 15:55:42,984 INFO Request is queued\n",
      "2021-04-06 15:56:16,025 INFO Request is running\n",
      "2021-04-06 15:56:59,022 INFO Request is completed\n",
      "2021-04-06 15:56:59,023 INFO Downloading https://download-0012.copernicus-climate.eu/cache-compute-0012/cache/data0/adaptor.mars.internal-1617746169.510745-32256-7-156b00a9-672e-403d-8399-33d8e2119db9.nc to /glade/campaign/univ/uwas0070/vcooper/waveice/era5/native/months=01_years=2014to2016_minlat=60_grid=0.5x0.5significant_height_of_combined_wind_waves_and_swell.nc (31.2M)\n",
      "2021-04-06 15:57:01,805 INFO Download rate 11.2M/s  \n"
     ]
    },
    {
     "name": "stdout",
     "output_type": "stream",
     "text": [
      "/glade/campaign/univ/uwas0070/vcooper/waveice/era5/native/months=02_years=2014to2016_minlat=60_grid=0.5x0.5significant_height_of_combined_wind_waves_and_swell.nc\n"
     ]
    },
    {
     "name": "stderr",
     "output_type": "stream",
     "text": [
      "2021-04-06 15:57:02,436 INFO Welcome to the CDS\n",
      "2021-04-06 15:57:02,436 INFO Sending request to https://cds.climate.copernicus.eu/api/v2/resources/reanalysis-era5-single-levels\n",
      "2021-04-06 15:57:02,948 INFO Request is queued\n",
      "2021-04-06 15:57:24,471 INFO Request is running\n",
      "2021-04-06 15:57:53,209 INFO Request is completed\n",
      "2021-04-06 15:57:53,210 INFO Downloading https://download-0009.copernicus-climate.eu/cache-compute-0009/cache/data9/adaptor.mars.internal-1617746240.6084213-541-3-09076a57-eaa8-4e43-9e95-654a75499616.nc to /glade/campaign/univ/uwas0070/vcooper/waveice/era5/native/months=02_years=2014to2016_minlat=60_grid=0.5x0.5significant_height_of_combined_wind_waves_and_swell.nc (28.5M)\n",
      "2021-04-06 15:57:55,539 INFO Download rate 12.2M/s  \n"
     ]
    },
    {
     "name": "stdout",
     "output_type": "stream",
     "text": [
      "/glade/campaign/univ/uwas0070/vcooper/waveice/era5/native/months=03_years=2014to2016_minlat=60_grid=0.5x0.5significant_height_of_combined_wind_waves_and_swell.nc\n"
     ]
    },
    {
     "name": "stderr",
     "output_type": "stream",
     "text": [
      "2021-04-06 15:57:56,162 INFO Welcome to the CDS\n",
      "2021-04-06 15:57:56,163 INFO Sending request to https://cds.climate.copernicus.eu/api/v2/resources/reanalysis-era5-single-levels\n",
      "2021-04-06 15:57:56,697 INFO Request is queued\n",
      "2021-04-06 15:57:59,439 INFO Request is running\n",
      "2021-04-06 15:58:29,741 INFO Request is completed\n",
      "2021-04-06 15:58:29,742 INFO Downloading https://download-0015.copernicus-climate.eu/cache-compute-0015/cache/data7/adaptor.mars.internal-1617746278.1024966-28132-10-2fefb4b8-da0e-4a2a-a453-46293825b0a2.nc to /glade/campaign/univ/uwas0070/vcooper/waveice/era5/native/months=03_years=2014to2016_minlat=60_grid=0.5x0.5significant_height_of_combined_wind_waves_and_swell.nc (31.2M)\n",
      "2021-04-06 15:58:32,134 INFO Download rate 13M/s    \n"
     ]
    },
    {
     "name": "stdout",
     "output_type": "stream",
     "text": [
      "/glade/campaign/univ/uwas0070/vcooper/waveice/era5/native/months=04_years=2014to2016_minlat=60_grid=0.5x0.5significant_height_of_combined_wind_waves_and_swell.nc\n"
     ]
    },
    {
     "name": "stderr",
     "output_type": "stream",
     "text": [
      "2021-04-06 15:58:32,747 INFO Welcome to the CDS\n",
      "2021-04-06 15:58:32,747 INFO Sending request to https://cds.climate.copernicus.eu/api/v2/resources/reanalysis-era5-single-levels\n",
      "2021-04-06 15:58:33,266 INFO Request is queued\n",
      "2021-04-06 15:59:23,743 INFO Request is running\n",
      "2021-04-06 15:59:49,517 INFO Request is completed\n",
      "2021-04-06 15:59:49,518 INFO Downloading https://download-0002.copernicus-climate.eu/cache-compute-0002/cache/data2/adaptor.mars.internal-1617746359.7622607-27448-14-89a2c9a0-411f-4959-bc3c-d2782d764265.nc to /glade/campaign/univ/uwas0070/vcooper/waveice/era5/native/months=04_years=2014to2016_minlat=60_grid=0.5x0.5significant_height_of_combined_wind_waves_and_swell.nc (30.2M)\n",
      "2021-04-06 15:59:51,976 INFO Download rate 12.3M/s  \n"
     ]
    },
    {
     "name": "stdout",
     "output_type": "stream",
     "text": [
      "/glade/campaign/univ/uwas0070/vcooper/waveice/era5/native/months=05_years=2014to2016_minlat=60_grid=0.5x0.5significant_height_of_combined_wind_waves_and_swell.nc\n"
     ]
    },
    {
     "name": "stderr",
     "output_type": "stream",
     "text": [
      "2021-04-06 15:59:52,682 INFO Welcome to the CDS\n",
      "2021-04-06 15:59:52,683 INFO Sending request to https://cds.climate.copernicus.eu/api/v2/resources/reanalysis-era5-single-levels\n",
      "2021-04-06 15:59:53,239 INFO Request is queued\n",
      "2021-04-06 16:02:45,728 INFO Request is completed\n",
      "2021-04-06 16:02:45,728 INFO Downloading https://download-0010.copernicus-climate.eu/cache-compute-0010/cache/data3/adaptor.mars.internal-1617746521.239508-2959-4-f5f28e24-977d-4577-b353-15f7ae2cb2b8.nc to /glade/campaign/univ/uwas0070/vcooper/waveice/era5/native/months=05_years=2014to2016_minlat=60_grid=0.5x0.5significant_height_of_combined_wind_waves_and_swell.nc (31.2M)\n",
      "2021-04-06 16:02:48,459 INFO Download rate 11.4M/s  \n"
     ]
    },
    {
     "name": "stdout",
     "output_type": "stream",
     "text": [
      "/glade/campaign/univ/uwas0070/vcooper/waveice/era5/native/months=06_years=2014to2016_minlat=60_grid=0.5x0.5significant_height_of_combined_wind_waves_and_swell.nc\n"
     ]
    },
    {
     "name": "stderr",
     "output_type": "stream",
     "text": [
      "2021-04-06 16:02:49,072 INFO Welcome to the CDS\n",
      "2021-04-06 16:02:49,073 INFO Sending request to https://cds.climate.copernicus.eu/api/v2/resources/reanalysis-era5-single-levels\n",
      "2021-04-06 16:02:49,648 INFO Request is queued\n",
      "2021-04-06 16:07:09,252 INFO Request is completed\n",
      "2021-04-06 16:07:09,253 INFO Downloading https://download-0008.copernicus-climate.eu/cache-compute-0008/cache/data9/adaptor.mars.internal-1617746742.8506012-3292-23-88a634ab-981d-48f6-81a3-605bdccf89b5.nc to /glade/campaign/univ/uwas0070/vcooper/waveice/era5/native/months=06_years=2014to2016_minlat=60_grid=0.5x0.5significant_height_of_combined_wind_waves_and_swell.nc (30.2M)\n",
      "2021-04-06 16:07:14,507 INFO Download rate 5.7M/s   \n"
     ]
    },
    {
     "name": "stdout",
     "output_type": "stream",
     "text": [
      "/glade/campaign/univ/uwas0070/vcooper/waveice/era5/native/months=07_years=2014to2016_minlat=60_grid=0.5x0.5significant_height_of_combined_wind_waves_and_swell.nc\n"
     ]
    },
    {
     "name": "stderr",
     "output_type": "stream",
     "text": [
      "2021-04-06 16:07:15,123 INFO Welcome to the CDS\n",
      "2021-04-06 16:07:15,124 INFO Sending request to https://cds.climate.copernicus.eu/api/v2/resources/reanalysis-era5-single-levels\n",
      "2021-04-06 16:07:15,647 INFO Request is queued\n",
      "2021-04-06 16:07:18,391 INFO Request is running\n",
      "2021-04-06 16:07:48,690 INFO Request is completed\n",
      "2021-04-06 16:07:48,691 INFO Downloading https://download-0002.copernicus-climate.eu/cache-compute-0002/cache/data2/adaptor.mars.internal-1617746836.901769-7242-22-c7db1aa1-e0e3-4699-b9ee-1b3dc665253d.nc to /glade/campaign/univ/uwas0070/vcooper/waveice/era5/native/months=07_years=2014to2016_minlat=60_grid=0.5x0.5significant_height_of_combined_wind_waves_and_swell.nc (31.2M)\n",
      "2021-04-06 16:07:55,523 INFO Download rate 4.6M/s   \n"
     ]
    },
    {
     "name": "stdout",
     "output_type": "stream",
     "text": [
      "/glade/campaign/univ/uwas0070/vcooper/waveice/era5/native/months=08_years=2014to2016_minlat=60_grid=0.5x0.5significant_height_of_combined_wind_waves_and_swell.nc\n"
     ]
    },
    {
     "name": "stderr",
     "output_type": "stream",
     "text": [
      "2021-04-06 16:07:56,153 INFO Welcome to the CDS\n",
      "2021-04-06 16:07:56,154 INFO Sending request to https://cds.climate.copernicus.eu/api/v2/resources/reanalysis-era5-single-levels\n",
      "2021-04-06 16:07:56,693 INFO Request is queued\n",
      "2021-04-06 16:08:46,957 INFO Request is running\n",
      "2021-04-06 16:09:12,732 INFO Request is completed\n",
      "2021-04-06 16:09:12,732 INFO Downloading https://download-0000.copernicus-climate.eu/cache-compute-0000/cache/data4/adaptor.mars.internal-1617746910.6853554-29396-25-76a868ef-69f6-42a6-b495-30fbd6b2da9f.nc to /glade/campaign/univ/uwas0070/vcooper/waveice/era5/native/months=08_years=2014to2016_minlat=60_grid=0.5x0.5significant_height_of_combined_wind_waves_and_swell.nc (31.2M)\n",
      "2021-04-06 16:09:17,455 INFO Download rate 6.6M/s   \n"
     ]
    },
    {
     "name": "stdout",
     "output_type": "stream",
     "text": [
      "/glade/campaign/univ/uwas0070/vcooper/waveice/era5/native/months=09_years=2014to2016_minlat=60_grid=0.5x0.5significant_height_of_combined_wind_waves_and_swell.nc\n"
     ]
    },
    {
     "name": "stderr",
     "output_type": "stream",
     "text": [
      "2021-04-06 16:09:18,132 INFO Welcome to the CDS\n",
      "2021-04-06 16:09:18,133 INFO Sending request to https://cds.climate.copernicus.eu/api/v2/resources/reanalysis-era5-single-levels\n",
      "2021-04-06 16:09:18,634 INFO Request is queued\n",
      "2021-04-06 16:10:34,675 INFO Request is running\n",
      "2021-04-06 16:11:13,239 INFO Request is completed\n",
      "2021-04-06 16:11:13,240 INFO Downloading https://download-0003.copernicus-climate.eu/cache-compute-0003/cache/data9/adaptor.mars.internal-1617747015.2058687-7043-18-76b96988-4455-445c-863b-60a8f5a439f6.nc to /glade/campaign/univ/uwas0070/vcooper/waveice/era5/native/months=09_years=2014to2016_minlat=60_grid=0.5x0.5significant_height_of_combined_wind_waves_and_swell.nc (30.2M)\n",
      "2021-04-06 16:11:18,718 INFO Download rate 5.5M/s   \n"
     ]
    },
    {
     "name": "stdout",
     "output_type": "stream",
     "text": [
      "/glade/campaign/univ/uwas0070/vcooper/waveice/era5/native/months=10_years=2014to2016_minlat=60_grid=0.5x0.5significant_height_of_combined_wind_waves_and_swell.nc\n"
     ]
    },
    {
     "name": "stderr",
     "output_type": "stream",
     "text": [
      "2021-04-06 16:11:19,347 INFO Welcome to the CDS\n",
      "2021-04-06 16:11:19,347 INFO Sending request to https://cds.climate.copernicus.eu/api/v2/resources/reanalysis-era5-single-levels\n",
      "2021-04-06 16:11:19,882 INFO Request is queued\n",
      "2021-04-06 16:11:28,498 INFO Request is running\n",
      "2021-04-06 16:11:52,928 INFO Request is completed\n",
      "2021-04-06 16:11:52,929 INFO Downloading https://download-0003.copernicus-climate.eu/cache-compute-0003/cache/data1/adaptor.mars.internal-1617747086.9653752-7541-6-abe9a35f-9dd2-4dbf-a63d-9595b4d30d1a.nc to /glade/campaign/univ/uwas0070/vcooper/waveice/era5/native/months=10_years=2014to2016_minlat=60_grid=0.5x0.5significant_height_of_combined_wind_waves_and_swell.nc (31.2M)\n",
      "2021-04-06 16:11:59,097 INFO Download rate 5.1M/s   \n"
     ]
    },
    {
     "name": "stdout",
     "output_type": "stream",
     "text": [
      "/glade/campaign/univ/uwas0070/vcooper/waveice/era5/native/months=11_years=2014to2016_minlat=60_grid=0.5x0.5significant_height_of_combined_wind_waves_and_swell.nc\n"
     ]
    },
    {
     "name": "stderr",
     "output_type": "stream",
     "text": [
      "2021-04-06 16:11:59,717 INFO Welcome to the CDS\n",
      "2021-04-06 16:11:59,717 INFO Sending request to https://cds.climate.copernicus.eu/api/v2/resources/reanalysis-era5-single-levels\n",
      "2021-04-06 16:12:00,249 INFO Request is queued\n",
      "2021-04-06 16:12:14,050 INFO Request is running\n",
      "2021-04-06 16:12:50,516 INFO Request is completed\n",
      "2021-04-06 16:12:50,516 INFO Downloading https://download-0012.copernicus-climate.eu/cache-compute-0012/cache/data3/adaptor.mars.internal-1617747130.129949-9378-21-bde5c0dd-81fe-4e98-a1f1-123522d5b225.nc to /glade/campaign/univ/uwas0070/vcooper/waveice/era5/native/months=11_years=2014to2016_minlat=60_grid=0.5x0.5significant_height_of_combined_wind_waves_and_swell.nc (30.2M)\n",
      "2021-04-06 16:12:53,737 INFO Download rate 9.4M/s   \n"
     ]
    },
    {
     "name": "stdout",
     "output_type": "stream",
     "text": [
      "/glade/campaign/univ/uwas0070/vcooper/waveice/era5/native/months=12_years=2014to2016_minlat=60_grid=0.5x0.5significant_height_of_combined_wind_waves_and_swell.nc\n"
     ]
    },
    {
     "name": "stderr",
     "output_type": "stream",
     "text": [
      "2021-04-06 16:12:54,352 INFO Welcome to the CDS\n",
      "2021-04-06 16:12:54,353 INFO Sending request to https://cds.climate.copernicus.eu/api/v2/resources/reanalysis-era5-single-levels\n",
      "2021-04-06 16:12:54,906 INFO Request is queued\n",
      "2021-04-06 16:13:08,711 INFO Request is running\n",
      "2021-04-06 16:13:45,176 INFO Request is completed\n",
      "2021-04-06 16:13:45,177 INFO Downloading https://download-0008.copernicus-climate.eu/cache-compute-0008/cache/data3/adaptor.mars.internal-1617747187.169747-31755-11-82fc1d54-db6b-4c54-9860-578845a9f78d.nc to /glade/campaign/univ/uwas0070/vcooper/waveice/era5/native/months=12_years=2014to2016_minlat=60_grid=0.5x0.5significant_height_of_combined_wind_waves_and_swell.nc (31.2M)\n",
      "2021-04-06 16:13:50,678 INFO Download rate 5.7M/s   \n"
     ]
    },
    {
     "name": "stdout",
     "output_type": "stream",
     "text": [
      "/glade/campaign/univ/uwas0070/vcooper/waveice/era5/native/months=01_years=2014to2016_minlat=60_grid=0.5x0.5significant_height_of_wind_waves.nc\n"
     ]
    },
    {
     "name": "stderr",
     "output_type": "stream",
     "text": [
      "2021-04-06 16:13:51,338 INFO Welcome to the CDS\n",
      "2021-04-06 16:13:51,339 INFO Sending request to https://cds.climate.copernicus.eu/api/v2/resources/reanalysis-era5-single-levels\n",
      "2021-04-06 16:13:51,866 INFO Request is queued\n",
      "2021-04-06 16:14:24,913 INFO Request is running\n",
      "2021-04-06 16:14:42,136 INFO Request is completed\n",
      "2021-04-06 16:14:42,137 INFO Downloading https://download-0010.copernicus-climate.eu/cache-compute-0010/cache/data9/adaptor.mars.internal-1617747253.6422515-6876-19-940cc1a9-a8bb-4572-9c0d-3a86d00c7447.nc to /glade/campaign/univ/uwas0070/vcooper/waveice/era5/native/months=01_years=2014to2016_minlat=60_grid=0.5x0.5significant_height_of_wind_waves.nc (31.2M)\n",
      "2021-04-06 16:14:44,663 INFO Download rate 12.3M/s  \n"
     ]
    },
    {
     "name": "stdout",
     "output_type": "stream",
     "text": [
      "/glade/campaign/univ/uwas0070/vcooper/waveice/era5/native/months=02_years=2014to2016_minlat=60_grid=0.5x0.5significant_height_of_wind_waves.nc\n"
     ]
    },
    {
     "name": "stderr",
     "output_type": "stream",
     "text": [
      "2021-04-06 16:14:45,331 INFO Welcome to the CDS\n",
      "2021-04-06 16:14:45,332 INFO Sending request to https://cds.climate.copernicus.eu/api/v2/resources/reanalysis-era5-single-levels\n",
      "2021-04-06 16:14:45,818 INFO Request is queued\n",
      "2021-04-06 16:14:50,932 INFO Request is running\n",
      "2021-04-06 16:15:18,860 INFO Request is completed\n",
      "2021-04-06 16:15:18,860 INFO Downloading https://download-0010.copernicus-climate.eu/cache-compute-0010/cache/data0/adaptor.mars.internal-1617747290.6736732-6919-18-4bb46e9d-5c26-47cd-949e-ae1eda762518.nc to /glade/campaign/univ/uwas0070/vcooper/waveice/era5/native/months=02_years=2014to2016_minlat=60_grid=0.5x0.5significant_height_of_wind_waves.nc (28.5M)\n",
      "2021-04-06 16:15:21,235 INFO Download rate 12M/s    \n"
     ]
    },
    {
     "name": "stdout",
     "output_type": "stream",
     "text": [
      "/glade/campaign/univ/uwas0070/vcooper/waveice/era5/native/months=03_years=2014to2016_minlat=60_grid=0.5x0.5significant_height_of_wind_waves.nc\n"
     ]
    },
    {
     "name": "stderr",
     "output_type": "stream",
     "text": [
      "2021-04-06 16:15:21,891 INFO Welcome to the CDS\n",
      "2021-04-06 16:15:21,892 INFO Sending request to https://cds.climate.copernicus.eu/api/v2/resources/reanalysis-era5-single-levels\n",
      "2021-04-06 16:15:22,527 INFO Request is queued\n",
      "2021-04-06 16:15:23,649 INFO Request is running\n",
      "2021-04-06 16:15:55,566 INFO Request is completed\n",
      "2021-04-06 16:15:55,567 INFO Downloading https://download-0012.copernicus-climate.eu/cache-compute-0012/cache/data4/adaptor.mars.internal-1617747322.9537017-13088-5-d23c438e-1fc9-468b-bb4f-c55acd17ce30.nc to /glade/campaign/univ/uwas0070/vcooper/waveice/era5/native/months=03_years=2014to2016_minlat=60_grid=0.5x0.5significant_height_of_wind_waves.nc (31.2M)\n",
      "2021-04-06 16:16:01,176 INFO Download rate 5.6M/s   \n"
     ]
    },
    {
     "name": "stdout",
     "output_type": "stream",
     "text": [
      "/glade/campaign/univ/uwas0070/vcooper/waveice/era5/native/months=04_years=2014to2016_minlat=60_grid=0.5x0.5significant_height_of_wind_waves.nc\n"
     ]
    },
    {
     "name": "stderr",
     "output_type": "stream",
     "text": [
      "2021-04-06 16:16:01,815 INFO Welcome to the CDS\n",
      "2021-04-06 16:16:01,816 INFO Sending request to https://cds.climate.copernicus.eu/api/v2/resources/reanalysis-era5-single-levels\n",
      "2021-04-06 16:16:02,409 INFO Request is queued\n",
      "2021-04-06 16:16:11,023 INFO Request is running\n",
      "2021-04-06 16:16:35,452 INFO Request is completed\n",
      "2021-04-06 16:16:35,453 INFO Downloading https://download-0008.copernicus-climate.eu/cache-compute-0008/cache/data4/adaptor.mars.internal-1617747368.8745654-2748-10-78a44442-4c0f-4a82-99d0-14e6b9397c40.nc to /glade/campaign/univ/uwas0070/vcooper/waveice/era5/native/months=04_years=2014to2016_minlat=60_grid=0.5x0.5significant_height_of_wind_waves.nc (30.2M)\n",
      "2021-04-06 16:16:41,355 INFO Download rate 5.1M/s   \n"
     ]
    },
    {
     "name": "stdout",
     "output_type": "stream",
     "text": [
      "/glade/campaign/univ/uwas0070/vcooper/waveice/era5/native/months=05_years=2014to2016_minlat=60_grid=0.5x0.5significant_height_of_wind_waves.nc\n"
     ]
    },
    {
     "name": "stderr",
     "output_type": "stream",
     "text": [
      "2021-04-06 16:16:41,971 INFO Welcome to the CDS\n",
      "2021-04-06 16:16:41,972 INFO Sending request to https://cds.climate.copernicus.eu/api/v2/resources/reanalysis-era5-single-levels\n",
      "2021-04-06 16:16:42,491 INFO Request is queued\n",
      "2021-04-06 16:16:43,611 INFO Request is running\n",
      "2021-04-06 16:17:15,533 INFO Request is completed\n",
      "2021-04-06 16:17:15,534 INFO Downloading https://download-0007.copernicus-climate.eu/cache-compute-0007/cache/data2/adaptor.mars.internal-1617747402.9498494-13958-9-3f24ce47-8be4-4aa9-bad4-7aceff5dda5e.nc to /glade/campaign/univ/uwas0070/vcooper/waveice/era5/native/months=05_years=2014to2016_minlat=60_grid=0.5x0.5significant_height_of_wind_waves.nc (31.2M)\n",
      "2021-04-06 16:17:22,425 INFO Download rate 4.5M/s   \n"
     ]
    },
    {
     "name": "stdout",
     "output_type": "stream",
     "text": [
      "/glade/campaign/univ/uwas0070/vcooper/waveice/era5/native/months=06_years=2014to2016_minlat=60_grid=0.5x0.5significant_height_of_wind_waves.nc\n"
     ]
    },
    {
     "name": "stderr",
     "output_type": "stream",
     "text": [
      "2021-04-06 16:17:23,089 INFO Welcome to the CDS\n",
      "2021-04-06 16:17:23,090 INFO Sending request to https://cds.climate.copernicus.eu/api/v2/resources/reanalysis-era5-single-levels\n",
      "2021-04-06 16:17:23,638 INFO Request is queued\n",
      "2021-04-06 16:17:37,433 INFO Request is running\n",
      "2021-04-06 16:17:56,676 INFO Request is completed\n",
      "2021-04-06 16:17:56,677 INFO Downloading https://download-0001.copernicus-climate.eu/cache-compute-0001/cache/data9/adaptor.mars.internal-1617747454.6844049-9164-16-f9819495-b13b-4377-9347-845ce3dc068e.nc to /glade/campaign/univ/uwas0070/vcooper/waveice/era5/native/months=06_years=2014to2016_minlat=60_grid=0.5x0.5significant_height_of_wind_waves.nc (30.2M)\n",
      "2021-04-06 16:18:00,616 INFO Download rate 7.7M/s   \n"
     ]
    },
    {
     "name": "stdout",
     "output_type": "stream",
     "text": [
      "/glade/campaign/univ/uwas0070/vcooper/waveice/era5/native/months=07_years=2014to2016_minlat=60_grid=0.5x0.5significant_height_of_wind_waves.nc\n"
     ]
    },
    {
     "name": "stderr",
     "output_type": "stream",
     "text": [
      "2021-04-06 16:18:01,219 INFO Welcome to the CDS\n",
      "2021-04-06 16:18:01,219 INFO Sending request to https://cds.climate.copernicus.eu/api/v2/resources/reanalysis-era5-single-levels\n",
      "2021-04-06 16:18:01,768 INFO Request is queued\n",
      "2021-04-06 16:18:04,511 INFO Request is running\n",
      "2021-04-06 16:18:34,813 INFO Request is completed\n",
      "2021-04-06 16:18:34,814 INFO Downloading https://download-0007.copernicus-climate.eu/cache-compute-0007/cache/data2/adaptor.mars.internal-1617747482.9965165-13958-12-8d73078e-9fad-4b1d-a7a5-8e5e3a613a53.nc to /glade/campaign/univ/uwas0070/vcooper/waveice/era5/native/months=07_years=2014to2016_minlat=60_grid=0.5x0.5significant_height_of_wind_waves.nc (31.2M)\n",
      "2021-04-06 16:18:42,221 INFO Download rate 4.2M/s   \n"
     ]
    },
    {
     "name": "stdout",
     "output_type": "stream",
     "text": [
      "/glade/campaign/univ/uwas0070/vcooper/waveice/era5/native/months=08_years=2014to2016_minlat=60_grid=0.5x0.5significant_height_of_wind_waves.nc\n"
     ]
    },
    {
     "name": "stderr",
     "output_type": "stream",
     "text": [
      "2021-04-06 16:18:42,835 INFO Welcome to the CDS\n",
      "2021-04-06 16:18:42,835 INFO Sending request to https://cds.climate.copernicus.eu/api/v2/resources/reanalysis-era5-single-levels\n",
      "2021-04-06 16:18:43,346 INFO Request is queued\n",
      "2021-04-06 16:19:16,383 INFO Request is running\n",
      "2021-04-06 16:19:59,373 INFO Request is completed\n",
      "2021-04-06 16:19:59,373 INFO Downloading https://download-0014.copernicus-climate.eu/cache-compute-0014/cache/data8/adaptor.mars.internal-1617747553.9491837-15149-29-ae657509-46b5-419a-a190-50af6f41e20b.nc to /glade/campaign/univ/uwas0070/vcooper/waveice/era5/native/months=08_years=2014to2016_minlat=60_grid=0.5x0.5significant_height_of_wind_waves.nc (31.2M)\n",
      "2021-04-06 16:20:02,567 INFO Download rate 9.8M/s   \n"
     ]
    },
    {
     "name": "stdout",
     "output_type": "stream",
     "text": [
      "/glade/campaign/univ/uwas0070/vcooper/waveice/era5/native/months=09_years=2014to2016_minlat=60_grid=0.5x0.5significant_height_of_wind_waves.nc\n"
     ]
    },
    {
     "name": "stderr",
     "output_type": "stream",
     "text": [
      "2021-04-06 16:20:03,176 INFO Welcome to the CDS\n",
      "2021-04-06 16:20:03,177 INFO Sending request to https://cds.climate.copernicus.eu/api/v2/resources/reanalysis-era5-single-levels\n",
      "2021-04-06 16:20:03,722 INFO Request is queued\n",
      "2021-04-06 16:20:06,465 INFO Request is running\n",
      "2021-04-06 16:20:36,771 INFO Request is completed\n",
      "2021-04-06 16:20:36,772 INFO Downloading https://download-0001.copernicus-climate.eu/cache-compute-0001/cache/data0/adaptor.mars.internal-1617747605.3141727-20699-35-b7775dd8-25f6-484b-99eb-8529fa56ea81.nc to /glade/campaign/univ/uwas0070/vcooper/waveice/era5/native/months=09_years=2014to2016_minlat=60_grid=0.5x0.5significant_height_of_wind_waves.nc (30.2M)\n",
      "2021-04-06 16:20:42,701 INFO Download rate 5.1M/s   \n"
     ]
    },
    {
     "name": "stdout",
     "output_type": "stream",
     "text": [
      "/glade/campaign/univ/uwas0070/vcooper/waveice/era5/native/months=10_years=2014to2016_minlat=60_grid=0.5x0.5significant_height_of_wind_waves.nc\n"
     ]
    },
    {
     "name": "stderr",
     "output_type": "stream",
     "text": [
      "2021-04-06 16:20:43,359 INFO Welcome to the CDS\n",
      "2021-04-06 16:20:43,360 INFO Sending request to https://cds.climate.copernicus.eu/api/v2/resources/reanalysis-era5-single-levels\n",
      "2021-04-06 16:20:43,902 INFO Request is queued\n",
      "2021-04-06 16:20:49,016 INFO Request is running\n",
      "2021-04-06 16:21:16,941 INFO Request is completed\n",
      "2021-04-06 16:21:16,941 INFO Downloading https://download-0012.copernicus-climate.eu/cache-compute-0012/cache/data0/adaptor.mars.internal-1617747647.651194-17976-19-9b750d64-4d9f-4314-aff8-702aaff34a76.nc to /glade/campaign/univ/uwas0070/vcooper/waveice/era5/native/months=10_years=2014to2016_minlat=60_grid=0.5x0.5significant_height_of_wind_waves.nc (31.2M)\n",
      "2021-04-06 16:21:21,451 INFO Download rate 6.9M/s   \n"
     ]
    },
    {
     "name": "stdout",
     "output_type": "stream",
     "text": [
      "/glade/campaign/univ/uwas0070/vcooper/waveice/era5/native/months=11_years=2014to2016_minlat=60_grid=0.5x0.5significant_height_of_wind_waves.nc\n"
     ]
    },
    {
     "name": "stderr",
     "output_type": "stream",
     "text": [
      "2021-04-06 16:21:22,079 INFO Welcome to the CDS\n",
      "2021-04-06 16:21:22,080 INFO Sending request to https://cds.climate.copernicus.eu/api/v2/resources/reanalysis-era5-single-levels\n",
      "2021-04-06 16:21:22,608 INFO Request is queued\n",
      "2021-04-06 16:21:23,729 INFO Request is running\n",
      "2021-04-06 16:21:55,655 INFO Request is completed\n",
      "2021-04-06 16:21:55,656 INFO Downloading https://download-0002.copernicus-climate.eu/cache-compute-0002/cache/data2/adaptor.mars.internal-1617747683.1512856-9122-8-7c9cc0dd-743a-4afd-90fb-405380bb8722.nc to /glade/campaign/univ/uwas0070/vcooper/waveice/era5/native/months=11_years=2014to2016_minlat=60_grid=0.5x0.5significant_height_of_wind_waves.nc (30.2M)\n",
      "2021-04-06 16:22:02,294 INFO Download rate 4.5M/s   \n"
     ]
    },
    {
     "name": "stdout",
     "output_type": "stream",
     "text": [
      "/glade/campaign/univ/uwas0070/vcooper/waveice/era5/native/months=12_years=2014to2016_minlat=60_grid=0.5x0.5significant_height_of_wind_waves.nc\n"
     ]
    },
    {
     "name": "stderr",
     "output_type": "stream",
     "text": [
      "2021-04-06 16:22:02,927 INFO Welcome to the CDS\n",
      "2021-04-06 16:22:02,928 INFO Sending request to https://cds.climate.copernicus.eu/api/v2/resources/reanalysis-era5-single-levels\n",
      "2021-04-06 16:22:03,499 INFO Request is queued\n",
      "2021-04-06 16:22:04,621 INFO Request is running\n",
      "2021-04-06 16:22:36,541 INFO Request is completed\n",
      "2021-04-06 16:22:36,542 INFO Downloading https://download-0005.copernicus-climate.eu/cache-compute-0005/cache/data2/adaptor.mars.internal-1617747724.5695243-29399-16-da280996-962d-418d-9d41-fc504846e60e.nc to /glade/campaign/univ/uwas0070/vcooper/waveice/era5/native/months=12_years=2014to2016_minlat=60_grid=0.5x0.5significant_height_of_wind_waves.nc (31.2M)\n",
      "2021-04-06 16:22:40,465 INFO Download rate 7.9M/s   \n"
     ]
    },
    {
     "name": "stdout",
     "output_type": "stream",
     "text": [
      "/glade/campaign/univ/uwas0070/vcooper/waveice/era5/native/months=01_years=2014to2016_minlat=60_grid=0.5x0.5significant_height_of_total_swell.nc\n"
     ]
    },
    {
     "name": "stderr",
     "output_type": "stream",
     "text": [
      "2021-04-06 16:22:41,097 INFO Welcome to the CDS\n",
      "2021-04-06 16:22:41,098 INFO Sending request to https://cds.climate.copernicus.eu/api/v2/resources/reanalysis-era5-single-levels\n",
      "2021-04-06 16:22:41,621 INFO Request is queued\n",
      "2021-04-06 16:22:42,743 INFO Request is running\n",
      "2021-04-06 16:23:14,666 INFO Request is completed\n",
      "2021-04-06 16:23:14,666 INFO Downloading https://download-0009.copernicus-climate.eu/cache-compute-0009/cache/data4/adaptor.mars.internal-1617747761.9238374-11978-22-f1057d06-ba6d-46cc-9791-142be75a0ac8.nc to /glade/campaign/univ/uwas0070/vcooper/waveice/era5/native/months=01_years=2014to2016_minlat=60_grid=0.5x0.5significant_height_of_total_swell.nc (31.2M)\n",
      "2021-04-06 16:23:17,347 INFO Download rate 11.6M/s  \n"
     ]
    },
    {
     "name": "stdout",
     "output_type": "stream",
     "text": [
      "/glade/campaign/univ/uwas0070/vcooper/waveice/era5/native/months=02_years=2014to2016_minlat=60_grid=0.5x0.5significant_height_of_total_swell.nc\n"
     ]
    },
    {
     "name": "stderr",
     "output_type": "stream",
     "text": [
      "2021-04-06 16:23:17,998 INFO Welcome to the CDS\n",
      "2021-04-06 16:23:17,999 INFO Sending request to https://cds.climate.copernicus.eu/api/v2/resources/reanalysis-era5-single-levels\n",
      "2021-04-06 16:23:18,536 INFO Request is queued\n",
      "2021-04-06 16:23:23,651 INFO Request is running\n",
      "2021-04-06 16:23:51,576 INFO Request is completed\n",
      "2021-04-06 16:23:51,577 INFO Downloading https://download-0014.copernicus-climate.eu/cache-compute-0014/cache/data9/adaptor.mars.internal-1617747802.5427432-28469-27-fbe21d24-7c25-4fd5-b7bf-b6001a5c27f4.nc to /glade/campaign/univ/uwas0070/vcooper/waveice/era5/native/months=02_years=2014to2016_minlat=60_grid=0.5x0.5significant_height_of_total_swell.nc (28.5M)\n",
      "2021-04-06 16:23:53,787 INFO Download rate 12.9M/s  \n"
     ]
    },
    {
     "name": "stdout",
     "output_type": "stream",
     "text": [
      "/glade/campaign/univ/uwas0070/vcooper/waveice/era5/native/months=03_years=2014to2016_minlat=60_grid=0.5x0.5significant_height_of_total_swell.nc\n"
     ]
    },
    {
     "name": "stderr",
     "output_type": "stream",
     "text": [
      "2021-04-06 16:23:54,392 INFO Welcome to the CDS\n",
      "2021-04-06 16:23:54,393 INFO Sending request to https://cds.climate.copernicus.eu/api/v2/resources/reanalysis-era5-single-levels\n",
      "2021-04-06 16:23:54,960 INFO Request is queued\n",
      "2021-04-06 16:24:16,480 INFO Request is running\n",
      "2021-04-06 16:24:45,224 INFO Request is completed\n",
      "2021-04-06 16:24:45,225 INFO Downloading https://download-0007.copernicus-climate.eu/cache-compute-0007/cache/data6/adaptor.mars.internal-1617747848.947716-17228-14-1eff9831-477d-42a3-b21d-9aec21ba7f71.nc to /glade/campaign/univ/uwas0070/vcooper/waveice/era5/native/months=03_years=2014to2016_minlat=60_grid=0.5x0.5significant_height_of_total_swell.nc (31.2M)\n",
      "2021-04-06 16:24:52,887 INFO Download rate 4.1M/s   \n"
     ]
    },
    {
     "name": "stdout",
     "output_type": "stream",
     "text": [
      "/glade/campaign/univ/uwas0070/vcooper/waveice/era5/native/months=04_years=2014to2016_minlat=60_grid=0.5x0.5significant_height_of_total_swell.nc\n"
     ]
    },
    {
     "name": "stderr",
     "output_type": "stream",
     "text": [
      "2021-04-06 16:24:53,524 INFO Welcome to the CDS\n",
      "2021-04-06 16:24:53,525 INFO Sending request to https://cds.climate.copernicus.eu/api/v2/resources/reanalysis-era5-single-levels\n",
      "2021-04-06 16:24:54,053 INFO Request is queued\n",
      "2021-04-06 16:24:59,169 INFO Request is running\n",
      "2021-04-06 16:25:27,100 INFO Request is completed\n",
      "2021-04-06 16:25:27,101 INFO Downloading https://download-0001.copernicus-climate.eu/cache-compute-0001/cache/data4/adaptor.mars.internal-1617747899.0651312-13507-8-ca5af319-c5e8-40bb-b085-1e78ac925062.nc to /glade/campaign/univ/uwas0070/vcooper/waveice/era5/native/months=04_years=2014to2016_minlat=60_grid=0.5x0.5significant_height_of_total_swell.nc (30.2M)\n",
      "2021-04-06 16:25:34,762 INFO Download rate 3.9M/s   \n"
     ]
    },
    {
     "name": "stdout",
     "output_type": "stream",
     "text": [
      "/glade/campaign/univ/uwas0070/vcooper/waveice/era5/native/months=05_years=2014to2016_minlat=60_grid=0.5x0.5significant_height_of_total_swell.nc\n"
     ]
    },
    {
     "name": "stderr",
     "output_type": "stream",
     "text": [
      "2021-04-06 16:25:35,363 INFO Welcome to the CDS\n",
      "2021-04-06 16:25:35,364 INFO Sending request to https://cds.climate.copernicus.eu/api/v2/resources/reanalysis-era5-single-levels\n",
      "2021-04-06 16:25:35,866 INFO Request is queued\n",
      "2021-04-06 16:25:38,607 INFO Request is running\n",
      "2021-04-06 16:26:08,908 INFO Request is completed\n",
      "2021-04-06 16:26:08,909 INFO Downloading https://download-0001.copernicus-climate.eu/cache-compute-0001/cache/data4/adaptor.mars.internal-1617747937.385053-13530-8-9217d66f-627e-466c-b6da-3468aedf13e5.nc to /glade/campaign/univ/uwas0070/vcooper/waveice/era5/native/months=05_years=2014to2016_minlat=60_grid=0.5x0.5significant_height_of_total_swell.nc (31.2M)\n",
      "2021-04-06 16:26:16,569 INFO Download rate 4.1M/s   \n"
     ]
    },
    {
     "name": "stdout",
     "output_type": "stream",
     "text": [
      "/glade/campaign/univ/uwas0070/vcooper/waveice/era5/native/months=06_years=2014to2016_minlat=60_grid=0.5x0.5significant_height_of_total_swell.nc\n"
     ]
    },
    {
     "name": "stderr",
     "output_type": "stream",
     "text": [
      "2021-04-06 16:26:17,201 INFO Welcome to the CDS\n",
      "2021-04-06 16:26:17,201 INFO Sending request to https://cds.climate.copernicus.eu/api/v2/resources/reanalysis-era5-single-levels\n",
      "2021-04-06 16:26:17,737 INFO Request is queued\n",
      "2021-04-06 16:26:50,782 INFO Request is running\n",
      "2021-04-06 16:27:08,006 INFO Request is completed\n",
      "2021-04-06 16:27:08,006 INFO Downloading https://download-0008.copernicus-climate.eu/cache-compute-0008/cache/data5/adaptor.mars.internal-1617748004.82205-7689-8-e078aa15-842c-4ff7-81b3-6d7622eb8449.nc to /glade/campaign/univ/uwas0070/vcooper/waveice/era5/native/months=06_years=2014to2016_minlat=60_grid=0.5x0.5significant_height_of_total_swell.nc (30.2M)\n",
      "2021-04-06 16:27:14,527 INFO Download rate 4.6M/s   \n"
     ]
    },
    {
     "name": "stdout",
     "output_type": "stream",
     "text": [
      "/glade/campaign/univ/uwas0070/vcooper/waveice/era5/native/months=07_years=2014to2016_minlat=60_grid=0.5x0.5significant_height_of_total_swell.nc\n"
     ]
    },
    {
     "name": "stderr",
     "output_type": "stream",
     "text": [
      "2021-04-06 16:27:15,137 INFO Welcome to the CDS\n",
      "2021-04-06 16:27:15,137 INFO Sending request to https://cds.climate.copernicus.eu/api/v2/resources/reanalysis-era5-single-levels\n",
      "2021-04-06 16:27:15,680 INFO Request is queued\n",
      "2021-04-06 16:27:24,290 INFO Request is running\n",
      "2021-04-06 16:27:48,719 INFO Request is completed\n",
      "2021-04-06 16:27:48,720 INFO Downloading https://download-0005.copernicus-climate.eu/cache-compute-0005/cache/data4/adaptor.mars.internal-1617748041.5428448-31140-26-5dc927ae-b702-4010-88d5-bb80ab3a2063.nc to /glade/campaign/univ/uwas0070/vcooper/waveice/era5/native/months=07_years=2014to2016_minlat=60_grid=0.5x0.5significant_height_of_total_swell.nc (31.2M)\n",
      "2021-04-06 16:27:52,559 INFO Download rate 8.1M/s   \n"
     ]
    },
    {
     "name": "stdout",
     "output_type": "stream",
     "text": [
      "/glade/campaign/univ/uwas0070/vcooper/waveice/era5/native/months=08_years=2014to2016_minlat=60_grid=0.5x0.5significant_height_of_total_swell.nc\n"
     ]
    },
    {
     "name": "stderr",
     "output_type": "stream",
     "text": [
      "2021-04-06 16:27:53,161 INFO Welcome to the CDS\n",
      "2021-04-06 16:27:53,161 INFO Sending request to https://cds.climate.copernicus.eu/api/v2/resources/reanalysis-era5-single-levels\n",
      "2021-04-06 16:27:53,677 INFO Request is queued\n",
      "2021-04-06 16:27:54,798 INFO Request is running\n",
      "2021-04-06 16:28:26,715 INFO Request is completed\n",
      "2021-04-06 16:28:26,715 INFO Downloading https://download-0005.copernicus-climate.eu/cache-compute-0005/cache/data2/adaptor.mars.internal-1617748074.2277596-32488-17-90196208-0963-45f1-9c99-7a09d39f8f04.nc to /glade/campaign/univ/uwas0070/vcooper/waveice/era5/native/months=08_years=2014to2016_minlat=60_grid=0.5x0.5significant_height_of_total_swell.nc (31.2M)\n",
      "2021-04-06 16:28:30,849 INFO Download rate 7.5M/s   \n"
     ]
    },
    {
     "name": "stdout",
     "output_type": "stream",
     "text": [
      "/glade/campaign/univ/uwas0070/vcooper/waveice/era5/native/months=09_years=2014to2016_minlat=60_grid=0.5x0.5significant_height_of_total_swell.nc\n"
     ]
    },
    {
     "name": "stderr",
     "output_type": "stream",
     "text": [
      "2021-04-06 16:28:31,471 INFO Welcome to the CDS\n",
      "2021-04-06 16:28:31,472 INFO Sending request to https://cds.climate.copernicus.eu/api/v2/resources/reanalysis-era5-single-levels\n",
      "2021-04-06 16:28:32,029 INFO Request is queued\n",
      "2021-04-06 16:28:33,151 INFO Request is running\n",
      "2021-04-06 16:28:53,554 INFO Request is completed\n",
      "2021-04-06 16:28:53,554 INFO Downloading https://download-0014.copernicus-climate.eu/cache-compute-0014/cache/data7/adaptor.mars.internal-1617748112.109298-16444-16-1bab007d-feca-4143-b93d-955e50b5accf.nc to /glade/campaign/univ/uwas0070/vcooper/waveice/era5/native/months=09_years=2014to2016_minlat=60_grid=0.5x0.5significant_height_of_total_swell.nc (30.2M)\n",
      "2021-04-06 16:28:56,466 INFO Download rate 10.4M/s  \n"
     ]
    },
    {
     "name": "stdout",
     "output_type": "stream",
     "text": [
      "/glade/campaign/univ/uwas0070/vcooper/waveice/era5/native/months=10_years=2014to2016_minlat=60_grid=0.5x0.5significant_height_of_total_swell.nc\n"
     ]
    },
    {
     "name": "stderr",
     "output_type": "stream",
     "text": [
      "2021-04-06 16:28:57,069 INFO Welcome to the CDS\n",
      "2021-04-06 16:28:57,070 INFO Sending request to https://cds.climate.copernicus.eu/api/v2/resources/reanalysis-era5-single-levels\n",
      "2021-04-06 16:28:57,614 INFO Request is queued\n",
      "2021-04-06 16:28:58,736 INFO Request is running\n",
      "2021-04-06 16:29:30,657 INFO Request is completed\n",
      "2021-04-06 16:29:30,658 INFO Downloading https://download-0013.copernicus-climate.eu/cache-compute-0013/cache/data2/adaptor.mars.internal-1617748137.9847007-29018-7-ebfb7b38-f989-4392-90f4-fd83eb0aee62.nc to /glade/campaign/univ/uwas0070/vcooper/waveice/era5/native/months=10_years=2014to2016_minlat=60_grid=0.5x0.5significant_height_of_total_swell.nc (31.2M)\n",
      "2021-04-06 16:29:38,829 INFO Download rate 3.8M/s   \n"
     ]
    },
    {
     "name": "stdout",
     "output_type": "stream",
     "text": [
      "/glade/campaign/univ/uwas0070/vcooper/waveice/era5/native/months=11_years=2014to2016_minlat=60_grid=0.5x0.5significant_height_of_total_swell.nc\n"
     ]
    },
    {
     "name": "stderr",
     "output_type": "stream",
     "text": [
      "2021-04-06 16:29:39,466 INFO Welcome to the CDS\n",
      "2021-04-06 16:29:39,467 INFO Sending request to https://cds.climate.copernicus.eu/api/v2/resources/reanalysis-era5-single-levels\n",
      "2021-04-06 16:29:39,979 INFO Request is queued\n",
      "2021-04-06 16:29:42,722 INFO Request is running\n",
      "2021-04-06 16:30:13,028 INFO Request is completed\n",
      "2021-04-06 16:30:13,029 INFO Downloading https://download-0014.copernicus-climate.eu/cache-compute-0014/cache/data9/adaptor.mars.internal-1617748181.5117767-31189-24-921c80f8-df51-4cc4-be84-e7a7e01d483e.nc to /glade/campaign/univ/uwas0070/vcooper/waveice/era5/native/months=11_years=2014to2016_minlat=60_grid=0.5x0.5significant_height_of_total_swell.nc (30.2M)\n",
      "2021-04-06 16:30:16,677 INFO Download rate 8.3M/s   \n"
     ]
    },
    {
     "name": "stdout",
     "output_type": "stream",
     "text": [
      "/glade/campaign/univ/uwas0070/vcooper/waveice/era5/native/months=12_years=2014to2016_minlat=60_grid=0.5x0.5significant_height_of_total_swell.nc\n"
     ]
    },
    {
     "name": "stderr",
     "output_type": "stream",
     "text": [
      "2021-04-06 16:30:17,360 INFO Welcome to the CDS\n",
      "2021-04-06 16:30:17,360 INFO Sending request to https://cds.climate.copernicus.eu/api/v2/resources/reanalysis-era5-single-levels\n",
      "2021-04-06 16:30:17,870 INFO Request is queued\n",
      "2021-04-06 16:30:18,991 INFO Request is running\n",
      "2021-04-06 16:30:50,911 INFO Request is completed\n",
      "2021-04-06 16:30:50,912 INFO Downloading https://download-0013.copernicus-climate.eu/cache-compute-0013/cache/data6/adaptor.mars.internal-1617748217.9777465-28263-15-7d3d87eb-93de-48bb-86fe-a9dc1247efe7.nc to /glade/campaign/univ/uwas0070/vcooper/waveice/era5/native/months=12_years=2014to2016_minlat=60_grid=0.5x0.5significant_height_of_total_swell.nc (31.2M)\n",
      "2021-04-06 16:30:57,315 INFO Download rate 4.9M/s   \n"
     ]
    },
    {
     "name": "stdout",
     "output_type": "stream",
     "text": [
      "/glade/campaign/univ/uwas0070/vcooper/waveice/era5/native/months=01_years=2014to2016_minlat=60_grid=0.5x0.5peak_wave_period.nc\n"
     ]
    },
    {
     "name": "stderr",
     "output_type": "stream",
     "text": [
      "2021-04-06 16:30:57,976 INFO Welcome to the CDS\n",
      "2021-04-06 16:30:57,977 INFO Sending request to https://cds.climate.copernicus.eu/api/v2/resources/reanalysis-era5-single-levels\n",
      "2021-04-06 16:30:58,507 INFO Request is queued\n",
      "2021-04-06 16:31:01,248 INFO Request is running\n",
      "2021-04-06 16:31:31,549 INFO Request is completed\n",
      "2021-04-06 16:31:31,549 INFO Downloading https://download-0001.copernicus-climate.eu/cache-compute-0001/cache/data7/adaptor.mars.internal-1617748261.0678487-15326-14-da88e5d3-e395-48ef-bbea-86a1f4806c3b.nc to /glade/campaign/univ/uwas0070/vcooper/waveice/era5/native/months=01_years=2014to2016_minlat=60_grid=0.5x0.5peak_wave_period.nc (31.2M)\n",
      "2021-04-06 16:31:39,055 INFO Download rate 4.2M/s   \n"
     ]
    },
    {
     "name": "stdout",
     "output_type": "stream",
     "text": [
      "/glade/campaign/univ/uwas0070/vcooper/waveice/era5/native/months=02_years=2014to2016_minlat=60_grid=0.5x0.5peak_wave_period.nc\n"
     ]
    },
    {
     "name": "stderr",
     "output_type": "stream",
     "text": [
      "2021-04-06 16:31:39,676 INFO Welcome to the CDS\n",
      "2021-04-06 16:31:39,676 INFO Sending request to https://cds.climate.copernicus.eu/api/v2/resources/reanalysis-era5-single-levels\n",
      "2021-04-06 16:31:40,226 INFO Request is queued\n",
      "2021-04-06 16:31:41,347 INFO Request is running\n",
      "2021-04-06 16:32:13,278 INFO Request is completed\n",
      "2021-04-06 16:32:13,279 INFO Downloading https://download-0013.copernicus-climate.eu/cache-compute-0013/cache/data2/adaptor.mars.internal-1617748300.806602-30435-7-601949d8-3cfa-470b-986b-9db23b0d3942.nc to /glade/campaign/univ/uwas0070/vcooper/waveice/era5/native/months=02_years=2014to2016_minlat=60_grid=0.5x0.5peak_wave_period.nc (28.5M)\n",
      "2021-04-06 16:32:21,046 INFO Download rate 3.7M/s   \n"
     ]
    },
    {
     "name": "stdout",
     "output_type": "stream",
     "text": [
      "/glade/campaign/univ/uwas0070/vcooper/waveice/era5/native/months=03_years=2014to2016_minlat=60_grid=0.5x0.5peak_wave_period.nc\n"
     ]
    },
    {
     "name": "stderr",
     "output_type": "stream",
     "text": [
      "2021-04-06 16:32:21,653 INFO Welcome to the CDS\n",
      "2021-04-06 16:32:21,653 INFO Sending request to https://cds.climate.copernicus.eu/api/v2/resources/reanalysis-era5-single-levels\n",
      "2021-04-06 16:32:22,178 INFO Request is queued\n",
      "2021-04-06 16:32:23,299 INFO Request is running\n",
      "2021-04-06 16:32:55,221 INFO Request is completed\n",
      "2021-04-06 16:32:55,221 INFO Downloading https://download-0012.copernicus-climate.eu/cache-compute-0012/cache/data0/adaptor.mars.internal-1617748342.8750086-9520-29-8a4aaeed-7e81-4f98-ad63-114447e5b5bd.nc to /glade/campaign/univ/uwas0070/vcooper/waveice/era5/native/months=03_years=2014to2016_minlat=60_grid=0.5x0.5peak_wave_period.nc (31.2M)\n",
      "2021-04-06 16:33:00,619 INFO Download rate 5.8M/s   \n"
     ]
    },
    {
     "name": "stdout",
     "output_type": "stream",
     "text": [
      "/glade/campaign/univ/uwas0070/vcooper/waveice/era5/native/months=04_years=2014to2016_minlat=60_grid=0.5x0.5peak_wave_period.nc\n"
     ]
    },
    {
     "name": "stderr",
     "output_type": "stream",
     "text": [
      "2021-04-06 16:33:01,249 INFO Welcome to the CDS\n",
      "2021-04-06 16:33:01,250 INFO Sending request to https://cds.climate.copernicus.eu/api/v2/resources/reanalysis-era5-single-levels\n",
      "2021-04-06 16:33:01,782 INFO Request is queued\n",
      "2021-04-06 16:33:10,395 INFO Request is running\n",
      "2021-04-06 16:33:34,825 INFO Request is completed\n",
      "2021-04-06 16:33:34,825 INFO Downloading https://download-0006.copernicus-climate.eu/cache-compute-0006/cache/data9/adaptor.mars.internal-1617748388.9152594-18744-21-5d9f2dbf-77b6-4cbb-8466-e0c4ecb1c964.nc to /glade/campaign/univ/uwas0070/vcooper/waveice/era5/native/months=04_years=2014to2016_minlat=60_grid=0.5x0.5peak_wave_period.nc (30.2M)\n",
      "2021-04-06 16:33:39,738 INFO Download rate 6.1M/s   \n"
     ]
    },
    {
     "name": "stdout",
     "output_type": "stream",
     "text": [
      "/glade/campaign/univ/uwas0070/vcooper/waveice/era5/native/months=05_years=2014to2016_minlat=60_grid=0.5x0.5peak_wave_period.nc\n"
     ]
    },
    {
     "name": "stderr",
     "output_type": "stream",
     "text": [
      "2021-04-06 16:33:40,363 INFO Welcome to the CDS\n",
      "2021-04-06 16:33:40,364 INFO Sending request to https://cds.climate.copernicus.eu/api/v2/resources/reanalysis-era5-single-levels\n",
      "2021-04-06 16:33:40,906 INFO Request is queued\n",
      "2021-04-06 16:33:46,022 INFO Request is running\n",
      "2021-04-06 16:34:13,954 INFO Request is completed\n",
      "2021-04-06 16:34:13,955 INFO Downloading https://download-0003.copernicus-climate.eu/cache-compute-0003/cache/data6/adaptor.mars.internal-1617748424.532586-22336-6-b39274a6-49ca-43e1-8e42-bda975bb793a.nc to /glade/campaign/univ/uwas0070/vcooper/waveice/era5/native/months=05_years=2014to2016_minlat=60_grid=0.5x0.5peak_wave_period.nc (31.2M)\n",
      "2021-04-06 16:34:20,163 INFO Download rate 5M/s     \n"
     ]
    },
    {
     "name": "stdout",
     "output_type": "stream",
     "text": [
      "/glade/campaign/univ/uwas0070/vcooper/waveice/era5/native/months=06_years=2014to2016_minlat=60_grid=0.5x0.5peak_wave_period.nc\n"
     ]
    },
    {
     "name": "stderr",
     "output_type": "stream",
     "text": [
      "2021-04-06 16:34:20,777 INFO Welcome to the CDS\n",
      "2021-04-06 16:34:20,778 INFO Sending request to https://cds.climate.copernicus.eu/api/v2/resources/reanalysis-era5-single-levels\n",
      "2021-04-06 16:34:21,291 INFO Request is queued\n",
      "2021-04-06 16:34:22,412 INFO Request is running\n",
      "2021-04-06 16:34:42,812 INFO Request is completed\n",
      "2021-04-06 16:34:42,812 INFO Downloading https://download-0012.copernicus-climate.eu/cache-compute-0012/cache/data0/adaptor.mars.internal-1617748461.7572193-26796-3-a4f35f1f-f8fc-49b1-9cf8-3e69cc173e70.nc to /glade/campaign/univ/uwas0070/vcooper/waveice/era5/native/months=06_years=2014to2016_minlat=60_grid=0.5x0.5peak_wave_period.nc (30.2M)\n",
      "2021-04-06 16:34:47,284 INFO Download rate 6.7M/s   \n"
     ]
    },
    {
     "name": "stdout",
     "output_type": "stream",
     "text": [
      "/glade/campaign/univ/uwas0070/vcooper/waveice/era5/native/months=07_years=2014to2016_minlat=60_grid=0.5x0.5peak_wave_period.nc\n"
     ]
    },
    {
     "name": "stderr",
     "output_type": "stream",
     "text": [
      "2021-04-06 16:34:47,886 INFO Welcome to the CDS\n",
      "2021-04-06 16:34:47,886 INFO Sending request to https://cds.climate.copernicus.eu/api/v2/resources/reanalysis-era5-single-levels\n",
      "2021-04-06 16:34:48,435 INFO Request is queued\n",
      "2021-04-06 16:34:49,556 INFO Request is running\n",
      "2021-04-06 16:35:21,476 INFO Request is completed\n",
      "2021-04-06 16:35:21,476 INFO Downloading https://download-0000.copernicus-climate.eu/cache-compute-0000/cache/data8/adaptor.mars.internal-1617748488.5294352-5712-9-5b634505-f065-44dd-9cc3-7300d15f9546.nc to /glade/campaign/univ/uwas0070/vcooper/waveice/era5/native/months=07_years=2014to2016_minlat=60_grid=0.5x0.5peak_wave_period.nc (31.2M)\n",
      "2021-04-06 16:35:25,507 INFO Download rate 7.7M/s   \n"
     ]
    },
    {
     "name": "stdout",
     "output_type": "stream",
     "text": [
      "/glade/campaign/univ/uwas0070/vcooper/waveice/era5/native/months=08_years=2014to2016_minlat=60_grid=0.5x0.5peak_wave_period.nc\n"
     ]
    },
    {
     "name": "stderr",
     "output_type": "stream",
     "text": [
      "2021-04-06 16:35:26,200 INFO Welcome to the CDS\n",
      "2021-04-06 16:35:26,200 INFO Sending request to https://cds.climate.copernicus.eu/api/v2/resources/reanalysis-era5-single-levels\n",
      "2021-04-06 16:35:26,741 INFO Request is queued\n",
      "2021-04-06 16:35:27,863 INFO Request is running\n",
      "2021-04-06 16:35:59,784 INFO Request is completed\n",
      "2021-04-06 16:35:59,785 INFO Downloading https://download-0010.copernicus-climate.eu/cache-compute-0010/cache/data3/adaptor.mars.internal-1617748526.945989-23915-10-9d0caa89-47cd-42e2-aee7-cc14ea665446.nc to /glade/campaign/univ/uwas0070/vcooper/waveice/era5/native/months=08_years=2014to2016_minlat=60_grid=0.5x0.5peak_wave_period.nc (31.2M)\n",
      "2021-04-06 16:36:05,815 INFO Download rate 5.2M/s   \n"
     ]
    },
    {
     "name": "stdout",
     "output_type": "stream",
     "text": [
      "/glade/campaign/univ/uwas0070/vcooper/waveice/era5/native/months=09_years=2014to2016_minlat=60_grid=0.5x0.5peak_wave_period.nc\n"
     ]
    },
    {
     "name": "stderr",
     "output_type": "stream",
     "text": [
      "2021-04-06 16:36:06,427 INFO Welcome to the CDS\n",
      "2021-04-06 16:36:06,428 INFO Sending request to https://cds.climate.copernicus.eu/api/v2/resources/reanalysis-era5-single-levels\n",
      "2021-04-06 16:36:06,948 INFO Request is queued\n",
      "2021-04-06 16:36:08,071 INFO Request is running\n",
      "2021-04-06 16:36:39,994 INFO Request is completed\n",
      "2021-04-06 16:36:39,994 INFO Downloading https://download-0002.copernicus-climate.eu/cache-compute-0002/cache/data1/adaptor.mars.internal-1617748567.0353956-18455-25-84740f8b-7187-4b1a-8d3d-385485f767bf.nc to /glade/campaign/univ/uwas0070/vcooper/waveice/era5/native/months=09_years=2014to2016_minlat=60_grid=0.5x0.5peak_wave_period.nc (30.2M)\n",
      "2021-04-06 16:36:46,658 INFO Download rate 4.5M/s   \n"
     ]
    },
    {
     "name": "stdout",
     "output_type": "stream",
     "text": [
      "/glade/campaign/univ/uwas0070/vcooper/waveice/era5/native/months=10_years=2014to2016_minlat=60_grid=0.5x0.5peak_wave_period.nc\n"
     ]
    },
    {
     "name": "stderr",
     "output_type": "stream",
     "text": [
      "2021-04-06 16:36:47,263 INFO Welcome to the CDS\n",
      "2021-04-06 16:36:47,264 INFO Sending request to https://cds.climate.copernicus.eu/api/v2/resources/reanalysis-era5-single-levels\n",
      "2021-04-06 16:36:47,939 INFO Request is queued\n",
      "2021-04-06 16:36:49,061 INFO Request is running\n",
      "2021-04-06 16:37:09,466 INFO Request is completed\n",
      "2021-04-06 16:37:09,467 INFO Downloading https://download-0001.copernicus-climate.eu/cache-compute-0001/cache/data5/adaptor.mars.internal-1617748608.2758448-21003-16-8ae6c707-e8c9-453d-949d-28844bbde871.nc to /glade/campaign/univ/uwas0070/vcooper/waveice/era5/native/months=10_years=2014to2016_minlat=60_grid=0.5x0.5peak_wave_period.nc (31.2M)\n",
      "2021-04-06 16:37:17,110 INFO Download rate 4.1M/s   \n"
     ]
    },
    {
     "name": "stdout",
     "output_type": "stream",
     "text": [
      "/glade/campaign/univ/uwas0070/vcooper/waveice/era5/native/months=11_years=2014to2016_minlat=60_grid=0.5x0.5peak_wave_period.nc\n"
     ]
    },
    {
     "name": "stderr",
     "output_type": "stream",
     "text": [
      "2021-04-06 16:37:17,840 INFO Welcome to the CDS\n",
      "2021-04-06 16:37:17,841 INFO Sending request to https://cds.climate.copernicus.eu/api/v2/resources/reanalysis-era5-single-levels\n",
      "2021-04-06 16:37:18,372 INFO Request is queued\n",
      "2021-04-06 16:37:21,117 INFO Request is running\n",
      "2021-04-06 16:37:51,422 INFO Request is completed\n",
      "2021-04-06 16:37:51,423 INFO Downloading https://download-0008.copernicus-climate.eu/cache-compute-0008/cache/data0/adaptor.mars.internal-1617748640.7532506-15498-26-111d9c51-2660-4d42-b898-6c6aa6f159b0.nc to /glade/campaign/univ/uwas0070/vcooper/waveice/era5/native/months=11_years=2014to2016_minlat=60_grid=0.5x0.5peak_wave_period.nc (30.2M)\n",
      "2021-04-06 16:38:00,675 INFO Download rate 3.3M/s   \n"
     ]
    },
    {
     "name": "stdout",
     "output_type": "stream",
     "text": [
      "/glade/campaign/univ/uwas0070/vcooper/waveice/era5/native/months=12_years=2014to2016_minlat=60_grid=0.5x0.5peak_wave_period.nc\n"
     ]
    },
    {
     "name": "stderr",
     "output_type": "stream",
     "text": [
      "2021-04-06 16:38:01,308 INFO Welcome to the CDS\n",
      "2021-04-06 16:38:01,309 INFO Sending request to https://cds.climate.copernicus.eu/api/v2/resources/reanalysis-era5-single-levels\n",
      "2021-04-06 16:38:01,846 INFO Request is queued\n",
      "2021-04-06 16:38:06,960 INFO Request is running\n",
      "2021-04-06 16:38:34,886 INFO Request is completed\n",
      "2021-04-06 16:38:34,887 INFO Downloading https://download-0005.copernicus-climate.eu/cache-compute-0005/cache/data0/adaptor.mars.internal-1617748686.3306825-10819-3-7d7f4803-f38f-428d-8945-b7a0cb6712eb.nc to /glade/campaign/univ/uwas0070/vcooper/waveice/era5/native/months=12_years=2014to2016_minlat=60_grid=0.5x0.5peak_wave_period.nc (31.2M)\n",
      "2021-04-06 16:38:39,337 INFO Download rate 7M/s     \n"
     ]
    },
    {
     "name": "stdout",
     "output_type": "stream",
     "text": [
      "/glade/campaign/univ/uwas0070/vcooper/waveice/era5/native/months=01_years=2014to2016_minlat=60_grid=0.5x0.5mean_period_of_wind_waves.nc\n"
     ]
    },
    {
     "name": "stderr",
     "output_type": "stream",
     "text": [
      "2021-04-06 16:38:39,944 INFO Welcome to the CDS\n",
      "2021-04-06 16:38:39,945 INFO Sending request to https://cds.climate.copernicus.eu/api/v2/resources/reanalysis-era5-single-levels\n",
      "2021-04-06 16:38:40,507 INFO Request is queued\n",
      "2021-04-06 16:38:46,630 INFO Request is running\n",
      "2021-04-06 16:39:14,557 INFO Request is completed\n",
      "2021-04-06 16:39:14,558 INFO Downloading https://download-0006.copernicus-climate.eu/cache-compute-0006/cache/data5/adaptor.mars.internal-1617748724.2909544-26208-22-0f510d6e-a512-4bbe-bfc1-4dbc8eacc7e0.nc to /glade/campaign/univ/uwas0070/vcooper/waveice/era5/native/months=01_years=2014to2016_minlat=60_grid=0.5x0.5mean_period_of_wind_waves.nc (31.2M)\n",
      "2021-04-06 16:39:19,485 INFO Download rate 6.3M/s   \n"
     ]
    },
    {
     "name": "stdout",
     "output_type": "stream",
     "text": [
      "/glade/campaign/univ/uwas0070/vcooper/waveice/era5/native/months=02_years=2014to2016_minlat=60_grid=0.5x0.5mean_period_of_wind_waves.nc\n"
     ]
    },
    {
     "name": "stderr",
     "output_type": "stream",
     "text": [
      "2021-04-06 16:39:20,089 INFO Welcome to the CDS\n",
      "2021-04-06 16:39:20,089 INFO Sending request to https://cds.climate.copernicus.eu/api/v2/resources/reanalysis-era5-single-levels\n",
      "2021-04-06 16:39:20,651 INFO Request is queued\n",
      "2021-04-06 16:39:29,264 INFO Request is running\n",
      "2021-04-06 16:39:53,692 INFO Request is completed\n",
      "2021-04-06 16:39:53,692 INFO Downloading https://download-0015.copernicus-climate.eu/cache-compute-0015/cache/data9/adaptor.mars.internal-1617748766.679915-22668-27-4e1620a3-6cfc-4a94-b31b-02933ca14aec.nc to /glade/campaign/univ/uwas0070/vcooper/waveice/era5/native/months=02_years=2014to2016_minlat=60_grid=0.5x0.5mean_period_of_wind_waves.nc (28.5M)\n",
      "2021-04-06 16:39:56,257 INFO Download rate 11.1M/s  \n"
     ]
    },
    {
     "name": "stdout",
     "output_type": "stream",
     "text": [
      "/glade/campaign/univ/uwas0070/vcooper/waveice/era5/native/months=03_years=2014to2016_minlat=60_grid=0.5x0.5mean_period_of_wind_waves.nc\n"
     ]
    },
    {
     "name": "stderr",
     "output_type": "stream",
     "text": [
      "2021-04-06 16:39:56,883 INFO Welcome to the CDS\n",
      "2021-04-06 16:39:56,884 INFO Sending request to https://cds.climate.copernicus.eu/api/v2/resources/reanalysis-era5-single-levels\n",
      "2021-04-06 16:39:57,381 INFO Request is queued\n",
      "2021-04-06 16:39:58,502 INFO Request is running\n",
      "2021-04-06 16:40:30,423 INFO Request is completed\n",
      "2021-04-06 16:40:30,423 INFO Downloading https://download-0015.copernicus-climate.eu/cache-compute-0015/cache/data0/adaptor.mars.internal-1617748797.8322573-22646-31-d0e9eae5-f7aa-4b46-a70d-4b4925a30cb8.nc to /glade/campaign/univ/uwas0070/vcooper/waveice/era5/native/months=03_years=2014to2016_minlat=60_grid=0.5x0.5mean_period_of_wind_waves.nc (31.2M)\n",
      "2021-04-06 16:40:32,754 INFO Download rate 13.4M/s  \n"
     ]
    },
    {
     "name": "stdout",
     "output_type": "stream",
     "text": [
      "/glade/campaign/univ/uwas0070/vcooper/waveice/era5/native/months=04_years=2014to2016_minlat=60_grid=0.5x0.5mean_period_of_wind_waves.nc\n"
     ]
    },
    {
     "name": "stderr",
     "output_type": "stream",
     "text": [
      "2021-04-06 16:40:33,431 INFO Welcome to the CDS\n",
      "2021-04-06 16:40:33,431 INFO Sending request to https://cds.climate.copernicus.eu/api/v2/resources/reanalysis-era5-single-levels\n",
      "2021-04-06 16:40:33,926 INFO Request is queued\n",
      "2021-04-06 16:40:35,049 INFO Request is running\n",
      "2021-04-06 16:40:55,458 INFO Request is completed\n",
      "2021-04-06 16:40:55,458 INFO Downloading https://download-0001.copernicus-climate.eu/cache-compute-0001/cache/data7/adaptor.mars.internal-1617748834.125777-24028-22-970a7875-bddb-47ad-ae25-2a9a914564df.nc to /glade/campaign/univ/uwas0070/vcooper/waveice/era5/native/months=04_years=2014to2016_minlat=60_grid=0.5x0.5mean_period_of_wind_waves.nc (30.2M)\n",
      "2021-04-06 16:41:02,979 INFO Download rate 4M/s     \n"
     ]
    },
    {
     "name": "stdout",
     "output_type": "stream",
     "text": [
      "/glade/campaign/univ/uwas0070/vcooper/waveice/era5/native/months=05_years=2014to2016_minlat=60_grid=0.5x0.5mean_period_of_wind_waves.nc\n"
     ]
    },
    {
     "name": "stderr",
     "output_type": "stream",
     "text": [
      "2021-04-06 16:41:03,639 INFO Welcome to the CDS\n",
      "2021-04-06 16:41:03,640 INFO Sending request to https://cds.climate.copernicus.eu/api/v2/resources/reanalysis-era5-single-levels\n",
      "2021-04-06 16:41:04,154 INFO Request is queued\n",
      "2021-04-06 16:41:05,277 INFO Request is running\n",
      "2021-04-06 16:41:37,202 INFO Request is completed\n",
      "2021-04-06 16:41:37,202 INFO Downloading https://download-0005.copernicus-climate.eu/cache-compute-0005/cache/data8/adaptor.mars.internal-1617748864.4742346-10819-24-715c5f7a-294a-4c03-9e30-3223a3fee3ed.nc to /glade/campaign/univ/uwas0070/vcooper/waveice/era5/native/months=05_years=2014to2016_minlat=60_grid=0.5x0.5mean_period_of_wind_waves.nc (31.2M)\n",
      "2021-04-06 16:41:41,024 INFO Download rate 8.2M/s   \n"
     ]
    },
    {
     "name": "stdout",
     "output_type": "stream",
     "text": [
      "/glade/campaign/univ/uwas0070/vcooper/waveice/era5/native/months=06_years=2014to2016_minlat=60_grid=0.5x0.5mean_period_of_wind_waves.nc\n"
     ]
    },
    {
     "name": "stderr",
     "output_type": "stream",
     "text": [
      "2021-04-06 16:41:41,628 INFO Welcome to the CDS\n",
      "2021-04-06 16:41:41,628 INFO Sending request to https://cds.climate.copernicus.eu/api/v2/resources/reanalysis-era5-single-levels\n",
      "2021-04-06 16:41:42,151 INFO Request is queued\n",
      "2021-04-06 16:41:43,272 INFO Request is running\n",
      "2021-04-06 16:42:03,667 INFO Request is completed\n",
      "2021-04-06 16:42:03,668 INFO Downloading https://download-0003.copernicus-climate.eu/cache-compute-0003/cache/data9/adaptor.mars.internal-1617748902.4553463-24878-18-7f3cb44e-8f6b-4972-8a70-cc4dd5d2a623.nc to /glade/campaign/univ/uwas0070/vcooper/waveice/era5/native/months=06_years=2014to2016_minlat=60_grid=0.5x0.5mean_period_of_wind_waves.nc (30.2M)\n",
      "2021-04-06 16:42:09,816 INFO Download rate 4.9M/s   \n"
     ]
    },
    {
     "name": "stdout",
     "output_type": "stream",
     "text": [
      "/glade/campaign/univ/uwas0070/vcooper/waveice/era5/native/months=07_years=2014to2016_minlat=60_grid=0.5x0.5mean_period_of_wind_waves.nc\n"
     ]
    },
    {
     "name": "stderr",
     "output_type": "stream",
     "text": [
      "2021-04-06 16:42:10,420 INFO Welcome to the CDS\n",
      "2021-04-06 16:42:10,421 INFO Sending request to https://cds.climate.copernicus.eu/api/v2/resources/reanalysis-era5-single-levels\n",
      "2021-04-06 16:42:11,134 INFO Request is queued\n",
      "2021-04-06 16:42:16,248 INFO Request is running\n",
      "2021-04-06 16:42:44,176 INFO Request is completed\n",
      "2021-04-06 16:42:44,176 INFO Downloading https://download-0010.copernicus-climate.eu/cache-compute-0010/cache/data7/adaptor.mars.internal-1617748934.7721598-24639-31-ba84f122-a2dd-4634-88d6-694e1f3383e7.nc to /glade/campaign/univ/uwas0070/vcooper/waveice/era5/native/months=07_years=2014to2016_minlat=60_grid=0.5x0.5mean_period_of_wind_waves.nc (31.2M)\n",
      "2021-04-06 16:42:49,539 INFO Download rate 5.8M/s   \n"
     ]
    },
    {
     "name": "stdout",
     "output_type": "stream",
     "text": [
      "/glade/campaign/univ/uwas0070/vcooper/waveice/era5/native/months=08_years=2014to2016_minlat=60_grid=0.5x0.5mean_period_of_wind_waves.nc\n"
     ]
    },
    {
     "name": "stderr",
     "output_type": "stream",
     "text": [
      "2021-04-06 16:42:50,161 INFO Welcome to the CDS\n",
      "2021-04-06 16:42:50,162 INFO Sending request to https://cds.climate.copernicus.eu/api/v2/resources/reanalysis-era5-single-levels\n",
      "2021-04-06 16:42:50,691 INFO Request is queued\n",
      "2021-04-06 16:42:53,433 INFO Request is running\n",
      "2021-04-06 16:43:23,735 INFO Request is completed\n",
      "2021-04-06 16:43:23,736 INFO Downloading https://download-0001.copernicus-climate.eu/cache-compute-0001/cache/data1/adaptor.mars.internal-1617748972.6723092-26215-10-91d8ce6e-9fb3-4450-9bbe-e2e3932c8e1e.nc to /glade/campaign/univ/uwas0070/vcooper/waveice/era5/native/months=08_years=2014to2016_minlat=60_grid=0.5x0.5mean_period_of_wind_waves.nc (31.2M)\n",
      "2021-04-06 16:43:31,993 INFO Download rate 3.8M/s   \n"
     ]
    },
    {
     "name": "stdout",
     "output_type": "stream",
     "text": [
      "/glade/campaign/univ/uwas0070/vcooper/waveice/era5/native/months=09_years=2014to2016_minlat=60_grid=0.5x0.5mean_period_of_wind_waves.nc\n"
     ]
    },
    {
     "name": "stderr",
     "output_type": "stream",
     "text": [
      "2021-04-06 16:43:32,597 INFO Welcome to the CDS\n",
      "2021-04-06 16:43:32,598 INFO Sending request to https://cds.climate.copernicus.eu/api/v2/resources/reanalysis-era5-single-levels\n",
      "2021-04-06 16:43:33,131 INFO Request is queued\n",
      "2021-04-06 16:43:34,254 INFO Request is running\n",
      "2021-04-06 16:44:06,176 INFO Request is completed\n",
      "2021-04-06 16:44:06,176 INFO Downloading https://download-0014.copernicus-climate.eu/cache-compute-0014/cache/data8/adaptor.mars.internal-1617749013.9301162-12203-5-62afe03a-9362-452a-91f6-e5ea24237300.nc to /glade/campaign/univ/uwas0070/vcooper/waveice/era5/native/months=09_years=2014to2016_minlat=60_grid=0.5x0.5mean_period_of_wind_waves.nc (30.2M)\n",
      "2021-04-06 16:44:10,092 INFO Download rate 7.7M/s   \n"
     ]
    },
    {
     "name": "stdout",
     "output_type": "stream",
     "text": [
      "/glade/campaign/univ/uwas0070/vcooper/waveice/era5/native/months=10_years=2014to2016_minlat=60_grid=0.5x0.5mean_period_of_wind_waves.nc\n"
     ]
    },
    {
     "name": "stderr",
     "output_type": "stream",
     "text": [
      "2021-04-06 16:44:10,695 INFO Welcome to the CDS\n",
      "2021-04-06 16:44:10,695 INFO Sending request to https://cds.climate.copernicus.eu/api/v2/resources/reanalysis-era5-single-levels\n",
      "2021-04-06 16:44:11,196 INFO Request is queued\n",
      "2021-04-06 16:44:12,317 INFO Request is running\n",
      "2021-04-06 16:44:32,715 INFO Request is completed\n",
      "2021-04-06 16:44:32,716 INFO Downloading https://download-0000.copernicus-climate.eu/cache-compute-0000/cache/data5/adaptor.mars.internal-1617749051.7538784-17333-18-cec4e830-4c3c-44ce-8b08-31ba897b7887.nc to /glade/campaign/univ/uwas0070/vcooper/waveice/era5/native/months=10_years=2014to2016_minlat=60_grid=0.5x0.5mean_period_of_wind_waves.nc (31.2M)\n",
      "2021-04-06 16:44:36,936 INFO Download rate 7.4M/s   \n"
     ]
    },
    {
     "name": "stdout",
     "output_type": "stream",
     "text": [
      "/glade/campaign/univ/uwas0070/vcooper/waveice/era5/native/months=11_years=2014to2016_minlat=60_grid=0.5x0.5mean_period_of_wind_waves.nc\n"
     ]
    },
    {
     "name": "stderr",
     "output_type": "stream",
     "text": [
      "2021-04-06 16:44:37,545 INFO Welcome to the CDS\n",
      "2021-04-06 16:44:37,546 INFO Sending request to https://cds.climate.copernicus.eu/api/v2/resources/reanalysis-era5-single-levels\n",
      "2021-04-06 16:44:38,740 INFO Request is queued\n",
      "2021-04-06 16:44:39,865 INFO Request is running\n",
      "2021-04-06 16:45:00,268 INFO Request is completed\n",
      "2021-04-06 16:45:00,269 INFO Downloading https://download-0007.copernicus-climate.eu/cache-compute-0007/cache/data9/adaptor.mars.internal-1617749078.7946863-27122-28-f77cb884-9385-4099-ba25-ae7f92c75494.nc to /glade/campaign/univ/uwas0070/vcooper/waveice/era5/native/months=11_years=2014to2016_minlat=60_grid=0.5x0.5mean_period_of_wind_waves.nc (30.2M)\n",
      "2021-04-06 16:45:07,962 INFO Download rate 3.9M/s   \n"
     ]
    },
    {
     "name": "stdout",
     "output_type": "stream",
     "text": [
      "/glade/campaign/univ/uwas0070/vcooper/waveice/era5/native/months=12_years=2014to2016_minlat=60_grid=0.5x0.5mean_period_of_wind_waves.nc\n"
     ]
    },
    {
     "name": "stderr",
     "output_type": "stream",
     "text": [
      "2021-04-06 16:45:08,581 INFO Welcome to the CDS\n",
      "2021-04-06 16:45:08,582 INFO Sending request to https://cds.climate.copernicus.eu/api/v2/resources/reanalysis-era5-single-levels\n",
      "2021-04-06 16:45:09,089 INFO Request is queued\n",
      "2021-04-06 16:45:11,831 INFO Request is running\n",
      "2021-04-06 16:45:42,131 INFO Request is completed\n",
      "2021-04-06 16:45:42,132 INFO Downloading https://download-0008.copernicus-climate.eu/cache-compute-0008/cache/data3/adaptor.mars.internal-1617749110.7753549-18890-25-ede94871-b734-403b-8e39-ff18110a88ec.nc to /glade/campaign/univ/uwas0070/vcooper/waveice/era5/native/months=12_years=2014to2016_minlat=60_grid=0.5x0.5mean_period_of_wind_waves.nc (31.2M)\n",
      "2021-04-06 16:45:49,348 INFO Download rate 4.3M/s   \n"
     ]
    },
    {
     "name": "stdout",
     "output_type": "stream",
     "text": [
      "/glade/campaign/univ/uwas0070/vcooper/waveice/era5/native/months=01_years=2014to2016_minlat=60_grid=0.5x0.5mean_wave_direction.nc\n"
     ]
    },
    {
     "name": "stderr",
     "output_type": "stream",
     "text": [
      "2021-04-06 16:45:49,964 INFO Welcome to the CDS\n",
      "2021-04-06 16:45:49,965 INFO Sending request to https://cds.climate.copernicus.eu/api/v2/resources/reanalysis-era5-single-levels\n",
      "2021-04-06 16:45:50,481 INFO Request is queued\n",
      "2021-04-06 16:45:59,097 INFO Request is running\n",
      "2021-04-06 16:46:23,529 INFO Request is completed\n",
      "2021-04-06 16:46:23,529 INFO Downloading https://download-0010.copernicus-climate.eu/cache-compute-0010/cache/data7/adaptor.mars.internal-1617749158.0989108-23185-23-cb1c0167-c2dd-4b2c-9785-d83fb750ef6f.nc to /glade/campaign/univ/uwas0070/vcooper/waveice/era5/native/months=01_years=2014to2016_minlat=60_grid=0.5x0.5mean_wave_direction.nc (31.2M)\n",
      "2021-04-06 16:46:29,028 INFO Download rate 5.7M/s   \n"
     ]
    },
    {
     "name": "stdout",
     "output_type": "stream",
     "text": [
      "/glade/campaign/univ/uwas0070/vcooper/waveice/era5/native/months=02_years=2014to2016_minlat=60_grid=0.5x0.5mean_wave_direction.nc\n"
     ]
    },
    {
     "name": "stderr",
     "output_type": "stream",
     "text": [
      "2021-04-06 16:46:29,661 INFO Welcome to the CDS\n",
      "2021-04-06 16:46:29,662 INFO Sending request to https://cds.climate.copernicus.eu/api/v2/resources/reanalysis-era5-single-levels\n",
      "2021-04-06 16:46:30,172 INFO Request is queued\n",
      "2021-04-06 16:46:31,293 INFO Request is running\n",
      "2021-04-06 16:47:03,216 INFO Request is completed\n",
      "2021-04-06 16:47:03,217 INFO Downloading https://download-0008.copernicus-climate.eu/cache-compute-0008/cache/data0/adaptor.mars.internal-1617749190.8296754-19096-21-4012515c-ec6d-4c5e-9aab-2b6db2315db8.nc to /glade/campaign/univ/uwas0070/vcooper/waveice/era5/native/months=02_years=2014to2016_minlat=60_grid=0.5x0.5mean_wave_direction.nc (28.5M)\n",
      "2021-04-06 16:47:09,600 INFO Download rate 4.5M/s   \n"
     ]
    },
    {
     "name": "stdout",
     "output_type": "stream",
     "text": [
      "/glade/campaign/univ/uwas0070/vcooper/waveice/era5/native/months=03_years=2014to2016_minlat=60_grid=0.5x0.5mean_wave_direction.nc\n"
     ]
    },
    {
     "name": "stderr",
     "output_type": "stream",
     "text": [
      "2021-04-06 16:47:10,201 INFO Welcome to the CDS\n",
      "2021-04-06 16:47:10,201 INFO Sending request to https://cds.climate.copernicus.eu/api/v2/resources/reanalysis-era5-single-levels\n",
      "2021-04-06 16:47:10,749 INFO Request is queued\n",
      "2021-04-06 16:47:11,870 INFO Request is running\n",
      "2021-04-06 16:47:43,792 INFO Request is completed\n",
      "2021-04-06 16:47:43,793 INFO Downloading https://download-0010.copernicus-climate.eu/cache-compute-0010/cache/data7/adaptor.mars.internal-1617749231.715393-28403-23-7525f548-835f-4d7c-9857-57900a88abe4.nc to /glade/campaign/univ/uwas0070/vcooper/waveice/era5/native/months=03_years=2014to2016_minlat=60_grid=0.5x0.5mean_wave_direction.nc (31.2M)\n",
      "2021-04-06 16:47:50,749 INFO Download rate 4.5M/s   \n"
     ]
    },
    {
     "name": "stdout",
     "output_type": "stream",
     "text": [
      "/glade/campaign/univ/uwas0070/vcooper/waveice/era5/native/months=04_years=2014to2016_minlat=60_grid=0.5x0.5mean_wave_direction.nc\n"
     ]
    },
    {
     "name": "stderr",
     "output_type": "stream",
     "text": [
      "2021-04-06 16:47:51,364 INFO Welcome to the CDS\n",
      "2021-04-06 16:47:51,365 INFO Sending request to https://cds.climate.copernicus.eu/api/v2/resources/reanalysis-era5-single-levels\n",
      "2021-04-06 16:47:51,880 INFO Request is queued\n",
      "2021-04-06 16:47:54,620 INFO Request is running\n",
      "2021-04-06 16:48:24,920 INFO Request is completed\n",
      "2021-04-06 16:48:24,921 INFO Downloading https://download-0002.copernicus-climate.eu/cache-compute-0002/cache/data7/adaptor.mars.internal-1617749274.415209-23632-33-1397c7d0-2267-444e-a63f-f19e73205754.nc to /glade/campaign/univ/uwas0070/vcooper/waveice/era5/native/months=04_years=2014to2016_minlat=60_grid=0.5x0.5mean_wave_direction.nc (30.2M)\n",
      "2021-04-06 16:48:31,496 INFO Download rate 4.6M/s   \n"
     ]
    },
    {
     "name": "stdout",
     "output_type": "stream",
     "text": [
      "/glade/campaign/univ/uwas0070/vcooper/waveice/era5/native/months=05_years=2014to2016_minlat=60_grid=0.5x0.5mean_wave_direction.nc\n"
     ]
    },
    {
     "name": "stderr",
     "output_type": "stream",
     "text": [
      "2021-04-06 16:48:32,120 INFO Welcome to the CDS\n",
      "2021-04-06 16:48:32,120 INFO Sending request to https://cds.climate.copernicus.eu/api/v2/resources/reanalysis-era5-single-levels\n",
      "2021-04-06 16:48:32,643 INFO Request is queued\n",
      "2021-04-06 16:48:33,764 INFO Request is running\n",
      "2021-04-06 16:49:05,703 INFO Request is completed\n",
      "2021-04-06 16:49:05,704 INFO Downloading https://download-0011.copernicus-climate.eu/cache-compute-0011/cache/data1/adaptor.mars.internal-1617749312.7386878-30771-4-8db13fbc-5a45-4bf0-8b43-4c53c6eaeb73.nc to /glade/campaign/univ/uwas0070/vcooper/waveice/era5/native/months=05_years=2014to2016_minlat=60_grid=0.5x0.5mean_wave_direction.nc (31.2M)\n",
      "2021-04-06 16:49:08,097 INFO Download rate 13M/s    \n"
     ]
    },
    {
     "name": "stdout",
     "output_type": "stream",
     "text": [
      "/glade/campaign/univ/uwas0070/vcooper/waveice/era5/native/months=06_years=2014to2016_minlat=60_grid=0.5x0.5mean_wave_direction.nc\n"
     ]
    },
    {
     "name": "stderr",
     "output_type": "stream",
     "text": [
      "2021-04-06 16:49:08,732 INFO Welcome to the CDS\n",
      "2021-04-06 16:49:08,733 INFO Sending request to https://cds.climate.copernicus.eu/api/v2/resources/reanalysis-era5-single-levels\n",
      "2021-04-06 16:49:09,258 INFO Request is queued\n",
      "2021-04-06 16:49:10,380 INFO Request is running\n",
      "2021-04-06 16:49:30,774 INFO Request is completed\n",
      "2021-04-06 16:49:30,775 INFO Downloading https://download-0012.copernicus-climate.eu/cache-compute-0012/cache/data4/adaptor.mars.internal-1617749349.5722551-645-16-70a23837-d6c9-4eb9-9d35-883239bd319f.nc to /glade/campaign/univ/uwas0070/vcooper/waveice/era5/native/months=06_years=2014to2016_minlat=60_grid=0.5x0.5mean_wave_direction.nc (30.2M)\n",
      "2021-04-06 16:49:36,027 INFO Download rate 5.7M/s   \n"
     ]
    },
    {
     "name": "stdout",
     "output_type": "stream",
     "text": [
      "/glade/campaign/univ/uwas0070/vcooper/waveice/era5/native/months=07_years=2014to2016_minlat=60_grid=0.5x0.5mean_wave_direction.nc\n"
     ]
    },
    {
     "name": "stderr",
     "output_type": "stream",
     "text": [
      "2021-04-06 16:49:36,683 INFO Welcome to the CDS\n",
      "2021-04-06 16:49:36,683 INFO Sending request to https://cds.climate.copernicus.eu/api/v2/resources/reanalysis-era5-single-levels\n",
      "2021-04-06 16:49:37,537 INFO Request is queued\n",
      "2021-04-06 16:49:38,659 INFO Request is running\n",
      "2021-04-06 16:49:59,062 INFO Request is completed\n",
      "2021-04-06 16:49:59,063 INFO Downloading https://download-0001.copernicus-climate.eu/cache-compute-0001/cache/data2/adaptor.mars.internal-1617749377.9715583-29654-7-f4f4896c-937b-493b-9867-b483c1e532d4.nc to /glade/campaign/univ/uwas0070/vcooper/waveice/era5/native/months=07_years=2014to2016_minlat=60_grid=0.5x0.5mean_wave_direction.nc (31.2M)\n",
      "2021-04-06 16:50:05,181 INFO Download rate 5.1M/s   \n"
     ]
    },
    {
     "name": "stdout",
     "output_type": "stream",
     "text": [
      "/glade/campaign/univ/uwas0070/vcooper/waveice/era5/native/months=08_years=2014to2016_minlat=60_grid=0.5x0.5mean_wave_direction.nc\n"
     ]
    },
    {
     "name": "stderr",
     "output_type": "stream",
     "text": [
      "2021-04-06 16:50:05,845 INFO Welcome to the CDS\n",
      "2021-04-06 16:50:05,846 INFO Sending request to https://cds.climate.copernicus.eu/api/v2/resources/reanalysis-era5-single-levels\n",
      "2021-04-06 16:50:06,363 INFO Request is queued\n",
      "2021-04-06 16:50:09,108 INFO Request is running\n",
      "2021-04-06 16:50:39,412 INFO Request is completed\n",
      "2021-04-06 16:50:39,413 INFO Downloading https://download-0012.copernicus-climate.eu/cache-compute-0012/cache/data6/adaptor.mars.internal-1617749408.5016465-1649-14-1061eee6-da59-4148-b8c7-0b96d43e0bcb.nc to /glade/campaign/univ/uwas0070/vcooper/waveice/era5/native/months=08_years=2014to2016_minlat=60_grid=0.5x0.5mean_wave_direction.nc (31.2M)\n",
      "2021-04-06 16:50:44,217 INFO Download rate 6.5M/s   \n"
     ]
    },
    {
     "name": "stdout",
     "output_type": "stream",
     "text": [
      "/glade/campaign/univ/uwas0070/vcooper/waveice/era5/native/months=09_years=2014to2016_minlat=60_grid=0.5x0.5mean_wave_direction.nc\n"
     ]
    },
    {
     "name": "stderr",
     "output_type": "stream",
     "text": [
      "2021-04-06 16:50:44,832 INFO Welcome to the CDS\n",
      "2021-04-06 16:50:44,833 INFO Sending request to https://cds.climate.copernicus.eu/api/v2/resources/reanalysis-era5-single-levels\n",
      "2021-04-06 16:50:45,433 INFO Request is queued\n",
      "2021-04-06 16:50:46,553 INFO Request is running\n",
      "2021-04-06 16:51:18,477 INFO Request is completed\n",
      "2021-04-06 16:51:18,478 INFO Downloading https://download-0013.copernicus-climate.eu/cache-compute-0013/cache/data7/adaptor.mars.internal-1617749445.943733-9973-7-343caf1f-a78c-497f-b1e0-e59b280220f3.nc to /glade/campaign/univ/uwas0070/vcooper/waveice/era5/native/months=09_years=2014to2016_minlat=60_grid=0.5x0.5mean_wave_direction.nc (30.2M)\n",
      "2021-04-06 16:51:27,507 INFO Download rate 3.3M/s   \n"
     ]
    },
    {
     "name": "stdout",
     "output_type": "stream",
     "text": [
      "/glade/campaign/univ/uwas0070/vcooper/waveice/era5/native/months=10_years=2014to2016_minlat=60_grid=0.5x0.5mean_wave_direction.nc\n"
     ]
    },
    {
     "name": "stderr",
     "output_type": "stream",
     "text": [
      "2021-04-06 16:51:28,117 INFO Welcome to the CDS\n",
      "2021-04-06 16:51:28,117 INFO Sending request to https://cds.climate.copernicus.eu/api/v2/resources/reanalysis-era5-single-levels\n",
      "2021-04-06 16:51:28,671 INFO Request is queued\n",
      "2021-04-06 16:51:29,798 INFO Request is running\n",
      "2021-04-06 16:51:50,405 INFO Request is completed\n",
      "2021-04-06 16:51:50,406 INFO Downloading https://download-0007.copernicus-climate.eu/cache-compute-0007/cache/data3/adaptor.mars.internal-1617749489.0603325-1931-6-9382e973-6e74-4ee3-baeb-33d045541aac.nc to /glade/campaign/univ/uwas0070/vcooper/waveice/era5/native/months=10_years=2014to2016_minlat=60_grid=0.5x0.5mean_wave_direction.nc (31.2M)\n",
      "2021-04-06 16:51:58,243 INFO Download rate 4M/s     \n"
     ]
    },
    {
     "name": "stdout",
     "output_type": "stream",
     "text": [
      "/glade/campaign/univ/uwas0070/vcooper/waveice/era5/native/months=11_years=2014to2016_minlat=60_grid=0.5x0.5mean_wave_direction.nc\n"
     ]
    },
    {
     "name": "stderr",
     "output_type": "stream",
     "text": [
      "2021-04-06 16:51:58,936 INFO Welcome to the CDS\n",
      "2021-04-06 16:51:58,937 INFO Sending request to https://cds.climate.copernicus.eu/api/v2/resources/reanalysis-era5-single-levels\n",
      "2021-04-06 16:51:59,494 INFO Request is queued\n",
      "2021-04-06 16:52:00,614 INFO Request is running\n",
      "2021-04-06 16:52:21,012 INFO Request is completed\n",
      "2021-04-06 16:52:21,013 INFO Downloading https://download-0000.copernicus-climate.eu/cache-compute-0000/cache/data7/adaptor.mars.internal-1617749519.6948516-18011-7-aa1bd865-2ff6-4977-a5e0-1b393abaaa25.nc to /glade/campaign/univ/uwas0070/vcooper/waveice/era5/native/months=11_years=2014to2016_minlat=60_grid=0.5x0.5mean_wave_direction.nc (30.2M)\n",
      "2021-04-06 16:52:25,391 INFO Download rate 6.9M/s   \n"
     ]
    },
    {
     "name": "stdout",
     "output_type": "stream",
     "text": [
      "/glade/campaign/univ/uwas0070/vcooper/waveice/era5/native/months=12_years=2014to2016_minlat=60_grid=0.5x0.5mean_wave_direction.nc\n"
     ]
    },
    {
     "name": "stderr",
     "output_type": "stream",
     "text": [
      "2021-04-06 16:52:26,007 INFO Welcome to the CDS\n",
      "2021-04-06 16:52:26,008 INFO Sending request to https://cds.climate.copernicus.eu/api/v2/resources/reanalysis-era5-single-levels\n",
      "2021-04-06 16:52:26,524 INFO Request is queued\n",
      "2021-04-06 16:52:27,646 INFO Request is running\n",
      "2021-04-06 16:52:59,568 INFO Request is completed\n",
      "2021-04-06 16:52:59,569 INFO Downloading https://download-0002.copernicus-climate.eu/cache-compute-0002/cache/data0/adaptor.mars.internal-1617749546.7587144-16273-7-2f0fe1d5-ae50-48a3-8c32-c656f30259be.nc to /glade/campaign/univ/uwas0070/vcooper/waveice/era5/native/months=12_years=2014to2016_minlat=60_grid=0.5x0.5mean_wave_direction.nc (31.2M)\n",
      "2021-04-06 16:53:06,455 INFO Download rate 4.5M/s   \n"
     ]
    }
   ],
   "source": [
    "## NOTE: FIX THIS NEXT TIME SO IT DOESNT OUTPUT MULTIPLE YEARS IN ONE FILE GROUPED BY MONTH\n",
    "## it is hard to concatenate in current form\n",
    "# Download data for each variable for each month\n",
    "for variable_name in variable_names:\n",
    "    cdict['variable'] = variable_name\n",
    "    for month in month_list:\n",
    "        cdict['month'] = month\n",
    "        \n",
    "        # Set file name\n",
    "        mstr = 'months=' + month\n",
    "        ystr = '_years=' + str(start_year) + 'to' + str(end_year)\n",
    "        astr = '_minlat=' + str(area_list[2])\n",
    "        gstr = '_grid=' + str(grid_list[0]) + 'x' + str(grid_list[1])\n",
    "\n",
    "        if product_source == 'reanalysis-era5-single-levels':\n",
    "            f_name = mstr  + ystr + astr + gstr + variable_name + '.nc'\n",
    "        elif product_source == 'reanalysis-era5-pressure-levels':\n",
    "            if len(pressure_list) == 1:\n",
    "                pstr = '_plevel=' + pressure_list[0] + 'hPa'\n",
    "            else:\n",
    "                pstr = '_plevel=many'\n",
    "            f_name = mstr  + ystr + astr + pstr + gstr + variable_name + '.nc'\n",
    "\n",
    "        if product_type == 'reanalysis':\n",
    "#             target = os.path.join('/glade', 'scratch', username, 'ERA5', 'native', f_name)\n",
    "            target = os.path.join('/glade/campaign/univ', 'uwas0070', username, 'waveice','era5/native', f_name)\n",
    "        elif product_type == 'ensemble_spread':\n",
    "            target = os.path.join('/home', 'disk', 'sipn', username, 'ERA5', 'native', 'e_spread', f_name)\n",
    "        print(target)\n",
    "        c = cdsapi.Client()\n",
    "        c.retrieve(product_source, cdict, target)"
   ]
  },
  {
   "cell_type": "code",
   "execution_count": 27,
   "metadata": {},
   "outputs": [
    {
     "name": "stdout",
     "output_type": "stream",
     "text": [
      "Done\n"
     ]
    }
   ],
   "source": [
    "#Print done?\n",
    "print('Done')"
   ]
  },
  {
   "cell_type": "code",
   "execution_count": null,
   "metadata": {},
   "outputs": [],
   "source": []
  }
 ],
 "metadata": {
  "kernelspec": {
   "display_name": "Python 3",
   "language": "python",
   "name": "python3"
  },
  "language_info": {
   "codemirror_mode": {
    "name": "ipython",
    "version": 3
   },
   "file_extension": ".py",
   "mimetype": "text/x-python",
   "name": "python",
   "nbconvert_exporter": "python",
   "pygments_lexer": "ipython3",
   "version": "3.7.3"
  }
 },
 "nbformat": 4,
 "nbformat_minor": 2
}
