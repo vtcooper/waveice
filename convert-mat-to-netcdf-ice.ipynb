{
 "cells": [
  {
   "cell_type": "markdown",
   "metadata": {},
   "source": [
    "- A sample notebook to convert Jim Thomson's matlab structures into netcdf format\n",
    "- I tried to make it as general as possible, but can't guarantee it will work for all the different structure types!\n",
    "- It should be easy enough to convert this into a loop if you want to run it on lots of different files\n",
    "- Author: Lettie Roach, lroach@uw.edu - last updated Apr 2020"
   ]
  },
  {
   "cell_type": "code",
   "execution_count": 60,
   "metadata": {},
   "outputs": [],
   "source": [
    "import numpy as np\n",
    "import matplotlib as mpl\n",
    "import glob\n",
    "import os\n",
    "import matplotlib.pyplot as plt\n",
    "from scipy.io import savemat,loadmat,whosmat\n",
    "import pandas as pd\n",
    "import datetime, time\n",
    "import xarray as xr"
   ]
  },
  {
   "cell_type": "markdown",
   "metadata": {},
   "source": [
    "A function to convert matlab datenum to python datetime"
   ]
  },
  {
   "cell_type": "code",
   "execution_count": 61,
   "metadata": {},
   "outputs": [],
   "source": [
    "def matlab2datetime(matlab_datenum):\n",
    "    \n",
    "    if matlab_datenum!=matlab_datenum: #if there is NaN in the time dimension\n",
    "        mytime = 0 # this sets time to 1970, which we will then screen out below\n",
    "    else:\n",
    "        day = datetime.datetime.fromordinal(int(matlab_datenum))\n",
    "        dayfrac = datetime.timedelta(days=matlab_datenum%1) - datetime.timedelta(days=366)\n",
    "        mytime = day + dayfrac\n",
    "    return mytime"
   ]
  },
  {
   "cell_type": "markdown",
   "metadata": {},
   "source": [
    "Edit these"
   ]
  },
  {
   "cell_type": "code",
   "execution_count": 62,
   "metadata": {},
   "outputs": [],
   "source": [
    "datadir = '/Users/lettieroach/Google Drive/SODA_Signature500_Data/dataProducts/ice/'\n",
    "os.listdir(datadir)\n",
    "fname = 'SODA_C_sigIce.mat'"
   ]
  },
  {
   "cell_type": "markdown",
   "metadata": {},
   "source": [
    "Read in SWIFT metadata"
   ]
  },
  {
   "cell_type": "code",
   "execution_count": 63,
   "metadata": {},
   "outputs": [],
   "source": [
    "df = pd.read_csv('SWIFT_README.csv')\n",
    "df = df.set_index('netcdf_var').transpose()\n",
    "attr_dict = df.to_dict()"
   ]
  },
  {
   "cell_type": "code",
   "execution_count": 64,
   "metadata": {},
   "outputs": [
    {
     "data": {
      "text/plain": [
       "['__header__', '__version__', '__globals__', 'sigIce']"
      ]
     },
     "execution_count": 64,
     "metadata": {},
     "output_type": "execute_result"
    }
   ],
   "source": [
    "struct = loadmat(datadir+fname,squeeze_me=True)\n",
    "[f for f in struct]"
   ]
  },
  {
   "cell_type": "markdown",
   "metadata": {},
   "source": [
    "Read into a pandas dataframe with python datetime format times"
   ]
  },
  {
   "cell_type": "code",
   "execution_count": 65,
   "metadata": {},
   "outputs": [
    {
     "data": {
      "text/plain": [
       "{'__header__': b'MATLAB 5.0 MAT-file, Platform: MACI64, Created on: Thu Dec  5 14:12:29 2019',\n",
       " '__version__': '1.0',\n",
       " '__globals__': [],\n",
       " 'sigIce': array(('SODA_C', 77.73676666666667, -139.14153333333334, array([737342.        , 737342.00694444, 737342.01388889, ...,\n",
       "        737679.97916667, 737679.98611111, 737679.99305556]), array([37.35479984, 37.36276658, 37.36134977, ..., 36.85244967,\n",
       "        36.84871632, 36.84704984]), array([27.23256532, 27.24052691, 27.23910495, ..., 26.69566294,\n",
       "        26.69187964, 26.69016321]), array([27.1348463 , 27.1359896 , 27.13788465, ..., 26.5925713 ,\n",
       "        26.58918286, 26.58843907]), array([26.90065421, 25.83514633, 26.88463611, ..., 26.58846693,\n",
       "        26.26826893, 26.63813596]), array([        nan,         nan,         nan, ..., 25.38891909,\n",
       "                nan,         nan]), array([0.23419209, 1.30084327, 0.25324855, ...,        nan, 0.32091393,\n",
       "               nan]), array([nan, nan, nan, ..., nan, nan, nan]), array([ 0.06986713, -0.08021482,  0.06374117, ..., -0.14690083,\n",
       "        -0.13936983, -0.13179635]), array([-0.03029232,  0.00035375, -0.0432272 , ...,  0.14603822,\n",
       "         0.14335629,  0.14560819]), array([-2.07438439e-04, -2.81921413e-04, -1.15467310e-05, ...,\n",
       "        -6.56047428e-04, -1.00237399e-03, -3.44656815e-04]), array([-1.69770065e-04, -1.94088803e-04,  6.64550171e-05, ...,\n",
       "         7.11622997e-04, -1.64994097e-04, -1.92158288e-04])),\n",
       "       dtype=[('mooringName', 'O'), ('lat', 'O'), ('lon', 'O'), ('mattime', 'O'), ('pAbsolute', 'O'), ('pWater', 'O'), ('waterDepth', 'O'), ('altimeterDistAst', 'O'), ('altimeterDistLE', 'O'), ('iceDraftAST', 'O'), ('iceDraftLE', 'O'), ('velEast', 'O'), ('velNorth', 'O'), ('velUp1', 'O'), ('velUp2', 'O')])}"
      ]
     },
     "execution_count": 65,
     "metadata": {},
     "output_type": "execute_result"
    }
   ],
   "source": [
    "identifier = 'sigIce' # check this makes sense with struct above, may need to edit\n",
    "my_dict = struct[identifier]\n",
    "struct"
   ]
  },
  {
   "cell_type": "code",
   "execution_count": 66,
   "metadata": {},
   "outputs": [],
   "source": [
    "myvars = ['mooringName','lat','lon','mattime','pAbsolute','pWater','waterDepth','altimeterDistAst',\n",
    "         'altimeterDistLE','iceDraftAST','iceDraftLE','velEast','velNorth','velUp1','velUp2']"
   ]
  },
  {
   "cell_type": "code",
   "execution_count": 67,
   "metadata": {},
   "outputs": [
    {
     "name": "stdout",
     "output_type": "stream",
     "text": [
      "      mooringName        lat         lon           time  pAbsolute     pWater  \\\n",
      "0          SODA_C  77.736767 -139.141533  737342.000000  37.354800  27.232565   \n",
      "1          SODA_C  77.736767 -139.141533  737342.006944  37.362767  27.240527   \n",
      "2          SODA_C  77.736767 -139.141533  737342.013889  37.361350  27.239105   \n",
      "3          SODA_C  77.736767 -139.141533  737342.020833  37.352483  27.230233   \n",
      "4          SODA_C  77.736767 -139.141533  737342.027778  37.348050  27.225795   \n",
      "...           ...        ...         ...            ...        ...        ...   \n",
      "48667      SODA_C  77.736767 -139.141533  737679.965278  36.857733  26.701046   \n",
      "48668      SODA_C  77.736767 -139.141533  737679.972222  36.855350  26.698613   \n",
      "48669      SODA_C  77.736767 -139.141533  737679.979167  36.852450  26.695663   \n",
      "48670      SODA_C  77.736767 -139.141533  737679.986111  36.848716  26.691880   \n",
      "48671      SODA_C  77.736767 -139.141533  737679.993056  36.847050  26.690163   \n",
      "\n",
      "       waterDepth  altimeterDistAst  altimeterDistLE  iceDraftAST  iceDraftLE  \\\n",
      "0       27.134846         26.900654              NaN     0.234192         NaN   \n",
      "1       27.135990         25.835146              NaN     1.300843         NaN   \n",
      "2       27.137885         26.884636              NaN     0.253249         NaN   \n",
      "3       27.129045         24.295817        24.002246     2.833228         NaN   \n",
      "4       27.124625         26.544260              NaN     0.580365         NaN   \n",
      "...           ...               ...              ...          ...         ...   \n",
      "48667   26.599048         26.719756              NaN          NaN         NaN   \n",
      "48668   26.595985         26.711327              NaN          NaN         NaN   \n",
      "48669   26.592571         26.588467        25.388919          NaN         NaN   \n",
      "48670   26.589183         26.268269              NaN     0.320914         NaN   \n",
      "48671   26.588439         26.638136              NaN          NaN         NaN   \n",
      "\n",
      "        velEast  velNorth    velUp1    velUp2  \n",
      "0      0.069867 -0.030292 -0.000207 -0.000170  \n",
      "1     -0.080215  0.000354 -0.000282 -0.000194  \n",
      "2      0.063741 -0.043227 -0.000012  0.000066  \n",
      "3      0.064309 -0.044674 -0.000168 -0.000113  \n",
      "4      0.064405 -0.045690 -0.000149 -0.000073  \n",
      "...         ...       ...       ...       ...  \n",
      "48667       NaN       NaN       NaN       NaN  \n",
      "48668       NaN       NaN       NaN       NaN  \n",
      "48669 -0.146901  0.146038 -0.000656  0.000712  \n",
      "48670 -0.139370  0.143356 -0.001002 -0.000165  \n",
      "48671 -0.131796  0.145608 -0.000345 -0.000192  \n",
      "\n",
      "[48672 rows x 15 columns]\n"
     ]
    }
   ],
   "source": [
    "mydict = {}\n",
    "for var in myvars[:]:\n",
    "    mydict[var] = my_dict[var].flatten()[0]\n",
    "df = pd.DataFrame(mydict)\n",
    "df = df.rename(columns={'mattime':'time'})\n",
    "print(df)"
   ]
  },
  {
   "cell_type": "code",
   "execution_count": 68,
   "metadata": {},
   "outputs": [
    {
     "name": "stdout",
     "output_type": "stream",
     "text": [
      "                    mooringName        lat         lon  pAbsolute     pWater  \\\n",
      "time                                                                           \n",
      "2018-10-09 00:00:00      SODA_C  77.736767 -139.141533  37.354800  27.232565   \n",
      "2018-10-09 00:10:00      SODA_C  77.736767 -139.141533  37.362767  27.240527   \n",
      "2018-10-09 00:19:59      SODA_C  77.736767 -139.141533  37.361350  27.239105   \n",
      "2018-10-09 00:30:00      SODA_C  77.736767 -139.141533  37.352483  27.230233   \n",
      "2018-10-09 00:39:59      SODA_C  77.736767 -139.141533  37.348050  27.225795   \n",
      "...                         ...        ...         ...        ...        ...   \n",
      "2019-09-11 23:09:59      SODA_C  77.736767 -139.141533  36.857733  26.701046   \n",
      "2019-09-11 23:19:59      SODA_C  77.736767 -139.141533  36.855350  26.698613   \n",
      "2019-09-11 23:29:59      SODA_C  77.736767 -139.141533  36.852450  26.695663   \n",
      "2019-09-11 23:39:59      SODA_C  77.736767 -139.141533  36.848716  26.691880   \n",
      "2019-09-11 23:49:59      SODA_C  77.736767 -139.141533  36.847050  26.690163   \n",
      "\n",
      "                     waterDepth  altimeterDistAst  altimeterDistLE  \\\n",
      "time                                                                 \n",
      "2018-10-09 00:00:00   27.134846         26.900654              NaN   \n",
      "2018-10-09 00:10:00   27.135990         25.835146              NaN   \n",
      "2018-10-09 00:19:59   27.137885         26.884636              NaN   \n",
      "2018-10-09 00:30:00   27.129045         24.295817        24.002246   \n",
      "2018-10-09 00:39:59   27.124625         26.544260              NaN   \n",
      "...                         ...               ...              ...   \n",
      "2019-09-11 23:09:59   26.599048         26.719756              NaN   \n",
      "2019-09-11 23:19:59   26.595985         26.711327              NaN   \n",
      "2019-09-11 23:29:59   26.592571         26.588467        25.388919   \n",
      "2019-09-11 23:39:59   26.589183         26.268269              NaN   \n",
      "2019-09-11 23:49:59   26.588439         26.638136              NaN   \n",
      "\n",
      "                     iceDraftAST  iceDraftLE   velEast  velNorth    velUp1  \\\n",
      "time                                                                         \n",
      "2018-10-09 00:00:00     0.234192         NaN  0.069867 -0.030292 -0.000207   \n",
      "2018-10-09 00:10:00     1.300843         NaN -0.080215  0.000354 -0.000282   \n",
      "2018-10-09 00:19:59     0.253249         NaN  0.063741 -0.043227 -0.000012   \n",
      "2018-10-09 00:30:00     2.833228         NaN  0.064309 -0.044674 -0.000168   \n",
      "2018-10-09 00:39:59     0.580365         NaN  0.064405 -0.045690 -0.000149   \n",
      "...                          ...         ...       ...       ...       ...   \n",
      "2019-09-11 23:09:59          NaN         NaN       NaN       NaN       NaN   \n",
      "2019-09-11 23:19:59          NaN         NaN       NaN       NaN       NaN   \n",
      "2019-09-11 23:29:59          NaN         NaN -0.146901  0.146038 -0.000656   \n",
      "2019-09-11 23:39:59     0.320914         NaN -0.139370  0.143356 -0.001002   \n",
      "2019-09-11 23:49:59          NaN         NaN -0.131796  0.145608 -0.000345   \n",
      "\n",
      "                       velUp2  \n",
      "time                           \n",
      "2018-10-09 00:00:00 -0.000170  \n",
      "2018-10-09 00:10:00 -0.000194  \n",
      "2018-10-09 00:19:59  0.000066  \n",
      "2018-10-09 00:30:00 -0.000113  \n",
      "2018-10-09 00:39:59 -0.000073  \n",
      "...                       ...  \n",
      "2019-09-11 23:09:59       NaN  \n",
      "2019-09-11 23:19:59       NaN  \n",
      "2019-09-11 23:29:59  0.000712  \n",
      "2019-09-11 23:39:59 -0.000165  \n",
      "2019-09-11 23:49:59 -0.000192  \n",
      "\n",
      "[48672 rows x 14 columns]\n"
     ]
    }
   ],
   "source": [
    "df['time'] = [matlab2datetime(tval) for tval in df['time']]\n",
    "df['time'] = np.array(df['time'],dtype='datetime64[s]')\n",
    "df = df.set_index('time')\n",
    "print(df)"
   ]
  },
  {
   "cell_type": "markdown",
   "metadata": {},
   "source": [
    "Any NaNs in the time index were set to 1970-01-01, so here we screen them out"
   ]
  },
  {
   "cell_type": "code",
   "execution_count": 69,
   "metadata": {},
   "outputs": [
    {
     "name": "stdout",
     "output_type": "stream",
     "text": [
      "48672\n"
     ]
    }
   ],
   "source": [
    "df = df.loc[df.index > '2000-01-01']\n",
    "ntime = len(df.index)\n",
    "print(ntime)"
   ]
  },
  {
   "cell_type": "code",
   "execution_count": 70,
   "metadata": {},
   "outputs": [],
   "source": [
    "ds = df.to_xarray()\n",
    "ds.attrs= {'description' : identifier,\n",
    "              'data' : 'SODA cruise, Sam Brenner, APL',\n",
    "              'netcdf_created_by': 'Lettie Roach, 2020, UW'}\n",
    "\n",
    "# for variables - add description and units\n",
    "for var in attr_dict:\n",
    "        if var in ds:\n",
    "            ds[var].attrs['units'] = attr_dict[var]['units']\n",
    "            ds[var].attrs['description'] = attr_dict[var]['description']\n",
    "   \n",
    "ds.to_netcdf(fname+'_converted.nc')"
   ]
  }
 ],
 "metadata": {
  "kernelspec": {
   "display_name": "Python 3",
   "language": "python",
   "name": "python3"
  },
  "language_info": {
   "codemirror_mode": {
    "name": "ipython",
    "version": 3
   },
   "file_extension": ".py",
   "mimetype": "text/x-python",
   "name": "python",
   "nbconvert_exporter": "python",
   "pygments_lexer": "ipython3",
   "version": "3.7.4"
  }
 },
 "nbformat": 4,
 "nbformat_minor": 2
}
